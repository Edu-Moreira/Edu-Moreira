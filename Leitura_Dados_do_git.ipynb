{
  "nbformat": 4,
  "nbformat_minor": 0,
  "metadata": {
    "colab": {
      "name": "Leitura Dados do git.ipynb",
      "provenance": [],
      "authorship_tag": "ABX9TyOvl/O+nG4NKhSV+G26mkDc",
      "include_colab_link": true
    },
    "kernelspec": {
      "name": "python3",
      "display_name": "Python 3"
    },
    "language_info": {
      "name": "python"
    }
  },
  "cells": [
    {
      "cell_type": "markdown",
      "metadata": {
        "id": "view-in-github",
        "colab_type": "text"
      },
      "source": [
        "<a href=\"https://colab.research.google.com/github/Edu-Moreira/Estudos-de-Python/blob/main/Leitura_Dados_do_git.ipynb\" target=\"_parent\"><img src=\"https://colab.research.google.com/assets/colab-badge.svg\" alt=\"Open In Colab\"/></a>"
      ]
    },
    {
      "cell_type": "code",
      "execution_count": 1,
      "metadata": {
        "id": "kMOcrI4aux71"
      },
      "outputs": [],
      "source": [
        "import pandas as pd"
      ]
    }
  ]
}