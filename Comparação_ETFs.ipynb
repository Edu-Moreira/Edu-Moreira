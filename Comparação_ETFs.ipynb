{
  "nbformat": 4,
  "nbformat_minor": 0,
  "metadata": {
    "colab": {
      "name": "Comparação ETFs.ipynb",
      "provenance": [],
      "authorship_tag": "ABX9TyPW3CsIOSNFIBZ3TAK0iaho",
      "include_colab_link": true
    },
    "kernelspec": {
      "name": "python3",
      "display_name": "Python 3"
    },
    "language_info": {
      "name": "python"
    }
  },
  "cells": [
    {
      "cell_type": "markdown",
      "metadata": {
        "id": "view-in-github",
        "colab_type": "text"
      },
      "source": [
        "<a href=\"https://colab.research.google.com/github/Edu-Moreira/Edu-Moreira/blob/main/Compara%C3%A7%C3%A3o_ETFs.ipynb\" target=\"_parent\"><img src=\"https://colab.research.google.com/assets/colab-badge.svg\" alt=\"Open In Colab\"/></a>"
      ]
    },
    {
      "cell_type": "code",
      "execution_count": null,
      "metadata": {
        "colab": {
          "base_uri": "https://localhost:8080/"
        },
        "id": "uL2-zRHOHQxL",
        "outputId": "8f097bc8-2f53-4382-c3fb-dc4a95610578"
      },
      "outputs": [
        {
          "output_type": "stream",
          "name": "stdout",
          "text": [
            "Requirement already satisfied: investpy in /usr/local/lib/python3.7/dist-packages (1.0.8)\n",
            "Requirement already satisfied: Unidecode>=1.1.1 in /usr/local/lib/python3.7/dist-packages (from investpy) (1.3.4)\n",
            "Requirement already satisfied: lxml>=4.4.1 in /usr/local/lib/python3.7/dist-packages (from investpy) (4.8.0)\n",
            "Requirement already satisfied: numpy>=1.21.2 in /usr/local/lib/python3.7/dist-packages (from investpy) (1.21.5)\n",
            "Requirement already satisfied: pandas>=0.25.1 in /usr/local/lib/python3.7/dist-packages (from investpy) (1.3.5)\n",
            "Requirement already satisfied: requests>=2.22.0 in /usr/local/lib/python3.7/dist-packages (from investpy) (2.23.0)\n",
            "Requirement already satisfied: pytz>=2019.3 in /usr/local/lib/python3.7/dist-packages (from investpy) (2022.1)\n",
            "Requirement already satisfied: setuptools>=41.2.0 in /usr/local/lib/python3.7/dist-packages (from investpy) (57.4.0)\n",
            "Requirement already satisfied: python-dateutil>=2.7.3 in /usr/local/lib/python3.7/dist-packages (from pandas>=0.25.1->investpy) (2.8.2)\n",
            "Requirement already satisfied: six>=1.5 in /usr/local/lib/python3.7/dist-packages (from python-dateutil>=2.7.3->pandas>=0.25.1->investpy) (1.15.0)\n",
            "Requirement already satisfied: urllib3!=1.25.0,!=1.25.1,<1.26,>=1.21.1 in /usr/local/lib/python3.7/dist-packages (from requests>=2.22.0->investpy) (1.24.3)\n",
            "Requirement already satisfied: idna<3,>=2.5 in /usr/local/lib/python3.7/dist-packages (from requests>=2.22.0->investpy) (2.10)\n",
            "Requirement already satisfied: certifi>=2017.4.17 in /usr/local/lib/python3.7/dist-packages (from requests>=2.22.0->investpy) (2021.10.8)\n",
            "Requirement already satisfied: chardet<4,>=3.0.2 in /usr/local/lib/python3.7/dist-packages (from requests>=2.22.0->investpy) (3.0.4)\n"
          ]
        }
      ],
      "source": [
        "! pip install investpy "
      ]
    },
    {
      "cell_type": "code",
      "source": [
        "import investpy as inv\n",
        "import pandas as pd \n",
        "import seaborn as sns \n",
        "import matplotlib.pyplot as plt \n",
        "import datetime as dt"
      ],
      "metadata": {
        "id": "aolh1VdvHWty"
      },
      "execution_count": null,
      "outputs": []
    },
    {
      "cell_type": "code",
      "source": [
        "hoje = dt.date.today()\n",
        "hoje = hoje.strftime('%d/%m/%Y')\n",
        "print(hoje)\n",
        "\n",
        "pais = 'united states'\n",
        "\n",
        "tipo_etf = 'bond'"
      ],
      "metadata": {
        "colab": {
          "base_uri": "https://localhost:8080/"
        },
        "id": "xybrD6HKJsft",
        "outputId": "28c7a275-b0b0-4ec2-9c32-d6454a068190"
      },
      "execution_count": null,
      "outputs": [
        {
          "output_type": "stream",
          "name": "stdout",
          "text": [
            "23/03/2022\n"
          ]
        }
      ]
    },
    {
      "cell_type": "code",
      "source": [
        "# obtendo a lista de todos os ETFs dos Estados Unidos no Investing.com\n",
        "\n",
        "lista_etf = inv.get_etfs_dict(pais)\n"
      ],
      "metadata": {
        "id": "2O3IPCIMHhdB"
      },
      "execution_count": null,
      "outputs": []
    },
    {
      "cell_type": "code",
      "source": [
        "# Para buscar informações especificas de cada ETF \n",
        "'''\n",
        "for i in range(len(lista_etf)):\n",
        "    if (lista_etf[i]['isin']=='US46434V6130'):\n",
        "        info = lista_etf[i]['name']\n",
        "'''\n",
        "\n",
        "#Obetndo lista com o nome de todos os ETFs\n",
        "nome_etf = []\n",
        "\n",
        "for i in range(len(lista_etf)):\n",
        "  if (lista_etf[i]['asset_class']== tipo_etf):\n",
        "    nome_etf.append(lista_etf[i]['name'])  "
      ],
      "metadata": {
        "id": "OrqWwLtjH5g3"
      },
      "execution_count": null,
      "outputs": []
    },
    {
      "cell_type": "code",
      "source": [
        "nome_etf_filtro  = []\n",
        "filtro = [s for s in nome_etf if \"High Yield\" in s]\n",
        "\n",
        "for i in range(len(nome_etf)):\n",
        "  if(nome_etf[i] == any(filtro)):\n",
        "    nome_etf.drop(nome_etf[i])"
      ],
      "metadata": {
        "id": "pW9-3HxSNIOU"
      },
      "execution_count": null,
      "outputs": []
    },
    {
      "cell_type": "code",
      "source": [
        "nome_etf1 = nome_etf[:3]\n",
        "nome_etf2 = nome_etf[158:]\n",
        "nome_etf1"
      ],
      "metadata": {
        "colab": {
          "base_uri": "https://localhost:8080/"
        },
        "id": "WCeI14g2QyA3",
        "outputId": "175a028e-1e23-4d45-d5bf-9ee426c6a915"
      },
      "execution_count": null,
      "outputs": [
        {
          "output_type": "execute_result",
          "data": {
            "text/plain": [
              "['Peritus High Yield',\n",
              " 'Newfleet Multi-Sector Income',\n",
              " 'AdvisorShares Sage Core Reserves']"
            ]
          },
          "metadata": {},
          "execution_count": 57
        }
      ]
    },
    {
      "cell_type": "code",
      "source": [
        "str_match = [s for s in nome_etf if \"High Yield\" in s]\n",
        "print(str_match)"
      ],
      "metadata": {
        "colab": {
          "base_uri": "https://localhost:8080/"
        },
        "id": "eR1y-J2ZPOcG",
        "outputId": "ae339ed9-7d7e-4ffd-cd18-804385aef5b1"
      },
      "execution_count": null,
      "outputs": [
        {
          "output_type": "stream",
          "name": "stdout",
          "text": [
            "['Peritus High Yield', 'iShares $ High Yield Corp Bond Acc Share Class', 'Deutsche Bank FI Enhanced Global High Yield', 'Deutsche X-trackers High Yield Corporate Bond Inte', 'Fidelity High Yield Factor', 'First Trust Tactical High Yield', 'FlexShares High Yield Value-Scored Bond Index', 'Guggenheim BulletShares 2022 High Yield Corp Bond', 'Guggenheim Invest BulletShares 2020 High Yield Cor', 'Guggenheim BulletShares 2021 High Yield Corp Bond', 'Guggenheim Invest BulletShares 2019 High Yield Cor', 'Guggenheim BulletShares 2023 High Yield Corp Bond', 'Guggenheim BulletShares 2025 High Yield Corporate', 'Invesco BulletShares 2026 High Yield Corporate Bon', 'iShares iBoxx $ High Yield Corporate Bond', 'iShares 0-5 Year High Yield Corporate Bond', 'iShares Broad USD High Yield Corporate Bond', 'iShares Emerging Markets High Yield Bond', 'iShares Global High Yield Corporate Bond', 'iShares iBonds 2021 Term High Yield and Income', 'iShares Interest Rate Hedged High Yield Bond', 'iShares iBonds 2025 Term High Yield and Income', 'iShares iBonds 2023 Term High Yield and Income', 'iShares Int High Yield Bond', 'iShares iBonds 2022 Term High Yield and Income', 'iShares iBonds 2024 Term High Yield and Income', 'PIMCO 0-5 Year High Yield Corporate Bond', 'PowerShares amental High Yield Corporate Bond Port', 'PowerShares Global Short Term High Yield Bond Port', 'ProShares Short High Yield', 'ProShares High Yield Interest Rate', 'ProShares Ultra High Yield', 'SPDR Barclays High Yield Bond', 'SPDR Barclays Short Term High Yield Bond', 'SPDR Nuveen S&P High Yield Municipal Bond', 'SPDR Portfolio High Yield Bond', 'VanEck Vectors Fallen Angel High Yield Bond', 'VanEck Emg Mkts High Yield Bd', 'VanEck Vectors International High Yield Bond', 'WisdomTree Interest Rate Hedged High Yield Bond Fd', 'WisdomTree Negative Duration High Yield Bond', 'WisdomTree Fundamental U.S. High Yield Corporate B', 'Xtrackers Low Beta High Yield Bond', 'Xtrackers High Beta High Yield Bond', 'Xtrackers Short Duration High Yield']\n"
          ]
        }
      ]
    },
    {
      "cell_type": "code",
      "source": [
        "'''\n",
        "painel = pd.DataFrame()\n",
        "\n",
        "for j in nome_etf2:\n",
        "    painel[j] = inv.get_etf_historical_data(etf = j,country = pais, from_date = '01/01/1999',to_date = hoje)['Close']\n",
        "    \n",
        "painel\n",
        "'''"
      ],
      "metadata": {
        "colab": {
          "base_uri": "https://localhost:8080/",
          "height": 374
        },
        "id": "XQg7GdKUI8WO",
        "outputId": "5d725367-d5e1-4409-e2e1-31215e912b69"
      },
      "execution_count": null,
      "outputs": [
        {
          "output_type": "error",
          "ename": "ConnectionError",
          "evalue": "ignored",
          "traceback": [
            "\u001b[0;31m---------------------------------------------------------------------------\u001b[0m",
            "\u001b[0;31mConnectionError\u001b[0m                           Traceback (most recent call last)",
            "\u001b[0;32m<ipython-input-60-6dd5d3faf245>\u001b[0m in \u001b[0;36m<module>\u001b[0;34m()\u001b[0m\n\u001b[1;32m      2\u001b[0m \u001b[0;34m\u001b[0m\u001b[0m\n\u001b[1;32m      3\u001b[0m \u001b[0;32mfor\u001b[0m \u001b[0mj\u001b[0m \u001b[0;32min\u001b[0m \u001b[0mnome_etf2\u001b[0m\u001b[0;34m:\u001b[0m\u001b[0;34m\u001b[0m\u001b[0;34m\u001b[0m\u001b[0m\n\u001b[0;32m----> 4\u001b[0;31m     \u001b[0mpainel\u001b[0m\u001b[0;34m[\u001b[0m\u001b[0mj\u001b[0m\u001b[0;34m]\u001b[0m \u001b[0;34m=\u001b[0m \u001b[0minv\u001b[0m\u001b[0;34m.\u001b[0m\u001b[0mget_etf_historical_data\u001b[0m\u001b[0;34m(\u001b[0m\u001b[0metf\u001b[0m \u001b[0;34m=\u001b[0m \u001b[0mj\u001b[0m\u001b[0;34m,\u001b[0m\u001b[0mcountry\u001b[0m \u001b[0;34m=\u001b[0m \u001b[0mpais\u001b[0m\u001b[0;34m,\u001b[0m \u001b[0mfrom_date\u001b[0m \u001b[0;34m=\u001b[0m \u001b[0;34m'01/01/1999'\u001b[0m\u001b[0;34m,\u001b[0m\u001b[0mto_date\u001b[0m \u001b[0;34m=\u001b[0m \u001b[0mhoje\u001b[0m\u001b[0;34m)\u001b[0m\u001b[0;34m[\u001b[0m\u001b[0;34m'Close'\u001b[0m\u001b[0;34m]\u001b[0m\u001b[0;34m\u001b[0m\u001b[0;34m\u001b[0m\u001b[0m\n\u001b[0m\u001b[1;32m      5\u001b[0m \u001b[0;34m\u001b[0m\u001b[0m\n\u001b[1;32m      6\u001b[0m \u001b[0mpainel\u001b[0m\u001b[0;34m\u001b[0m\u001b[0;34m\u001b[0m\u001b[0m\n",
            "\u001b[0;32m/usr/local/lib/python3.7/dist-packages/investpy/etfs.py\u001b[0m in \u001b[0;36mget_etf_historical_data\u001b[0;34m(etf, country, from_date, to_date, stock_exchange, as_json, order, interval)\u001b[0m\n\u001b[1;32m    868\u001b[0m         \u001b[0;32mif\u001b[0m \u001b[0mreq\u001b[0m\u001b[0;34m.\u001b[0m\u001b[0mstatus_code\u001b[0m \u001b[0;34m!=\u001b[0m \u001b[0;36m200\u001b[0m\u001b[0;34m:\u001b[0m\u001b[0;34m\u001b[0m\u001b[0;34m\u001b[0m\u001b[0m\n\u001b[1;32m    869\u001b[0m             raise ConnectionError(\n\u001b[0;32m--> 870\u001b[0;31m                 \u001b[0;34m\"ERR#0015: error \"\u001b[0m \u001b[0;34m+\u001b[0m \u001b[0mstr\u001b[0m\u001b[0;34m(\u001b[0m\u001b[0mreq\u001b[0m\u001b[0;34m.\u001b[0m\u001b[0mstatus_code\u001b[0m\u001b[0;34m)\u001b[0m \u001b[0;34m+\u001b[0m \u001b[0;34m\", try again later.\"\u001b[0m\u001b[0;34m\u001b[0m\u001b[0;34m\u001b[0m\u001b[0m\n\u001b[0m\u001b[1;32m    871\u001b[0m             )\n\u001b[1;32m    872\u001b[0m \u001b[0;34m\u001b[0m\u001b[0m\n",
            "\u001b[0;31mConnectionError\u001b[0m: ERR#0015: error 429, try again later."
          ]
        }
      ]
    },
    {
      "cell_type": "code",
      "source": [
        "painel = pd.DataFrame()\n",
        "\n",
        "for j in nome_etf2:\n",
        "    painel[j] = inv.get_etf_recent_data(etf = j,country = pais, from_date = '01/01/1999',to_date = hoje)['Close']\n",
        "    \n",
        "painel\n"
      ],
      "metadata": {
        "colab": {
          "base_uri": "https://localhost:8080/",
          "height": 305
        },
        "id": "MWGjxD-aTo85",
        "outputId": "450277ab-36ee-48cb-f5c0-a76a94d8a5da"
      },
      "execution_count": null,
      "outputs": [
        {
          "output_type": "error",
          "ename": "ConnectionError",
          "evalue": "ignored",
          "traceback": [
            "\u001b[0;31m---------------------------------------------------------------------------\u001b[0m",
            "\u001b[0;31mConnectionError\u001b[0m                           Traceback (most recent call last)",
            "\u001b[0;32m<ipython-input-59-ddef92ab8b5d>\u001b[0m in \u001b[0;36m<module>\u001b[0;34m()\u001b[0m\n\u001b[0;32m----> 1\u001b[0;31m \u001b[0mpainel\u001b[0m \u001b[0;34m=\u001b[0m \u001b[0minv\u001b[0m\u001b[0;34m.\u001b[0m\u001b[0mget_etf_historical_data\u001b[0m\u001b[0;34m(\u001b[0m\u001b[0metf\u001b[0m \u001b[0;34m=\u001b[0m \u001b[0;34m'Peritus High Yield'\u001b[0m\u001b[0;34m,\u001b[0m\u001b[0mcountry\u001b[0m \u001b[0;34m=\u001b[0m \u001b[0mpais\u001b[0m\u001b[0;34m,\u001b[0m \u001b[0mfrom_date\u001b[0m \u001b[0;34m=\u001b[0m \u001b[0;34m'01/01/1999'\u001b[0m\u001b[0;34m,\u001b[0m\u001b[0mto_date\u001b[0m \u001b[0;34m=\u001b[0m \u001b[0mhoje\u001b[0m\u001b[0;34m)\u001b[0m\u001b[0;34m[\u001b[0m\u001b[0;34m'Close'\u001b[0m\u001b[0;34m]\u001b[0m\u001b[0;34m\u001b[0m\u001b[0;34m\u001b[0m\u001b[0m\n\u001b[0m",
            "\u001b[0;32m/usr/local/lib/python3.7/dist-packages/investpy/etfs.py\u001b[0m in \u001b[0;36mget_etf_historical_data\u001b[0;34m(etf, country, from_date, to_date, stock_exchange, as_json, order, interval)\u001b[0m\n\u001b[1;32m    868\u001b[0m         \u001b[0;32mif\u001b[0m \u001b[0mreq\u001b[0m\u001b[0;34m.\u001b[0m\u001b[0mstatus_code\u001b[0m \u001b[0;34m!=\u001b[0m \u001b[0;36m200\u001b[0m\u001b[0;34m:\u001b[0m\u001b[0;34m\u001b[0m\u001b[0;34m\u001b[0m\u001b[0m\n\u001b[1;32m    869\u001b[0m             raise ConnectionError(\n\u001b[0;32m--> 870\u001b[0;31m                 \u001b[0;34m\"ERR#0015: error \"\u001b[0m \u001b[0;34m+\u001b[0m \u001b[0mstr\u001b[0m\u001b[0;34m(\u001b[0m\u001b[0mreq\u001b[0m\u001b[0;34m.\u001b[0m\u001b[0mstatus_code\u001b[0m\u001b[0;34m)\u001b[0m \u001b[0;34m+\u001b[0m \u001b[0;34m\", try again later.\"\u001b[0m\u001b[0;34m\u001b[0m\u001b[0;34m\u001b[0m\u001b[0m\n\u001b[0m\u001b[1;32m    871\u001b[0m             )\n\u001b[1;32m    872\u001b[0m \u001b[0;34m\u001b[0m\u001b[0m\n",
            "\u001b[0;31mConnectionError\u001b[0m: ERR#0015: error 429, try again later."
          ]
        }
      ]
    }
  ]
}