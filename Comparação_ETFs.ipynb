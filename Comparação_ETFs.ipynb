{
  "nbformat": 4,
  "nbformat_minor": 0,
  "metadata": {
    "colab": {
      "name": "Comparação ETFs.ipynb",
      "provenance": [],
      "authorship_tag": "ABX9TyMCjtTz6fTkoEF18RnQInuY",
      "include_colab_link": true
    },
    "kernelspec": {
      "name": "python3",
      "display_name": "Python 3"
    },
    "language_info": {
      "name": "python"
    }
  },
  "cells": [
    {
      "cell_type": "markdown",
      "metadata": {
        "id": "view-in-github",
        "colab_type": "text"
      },
      "source": [
        "<a href=\"https://colab.research.google.com/github/Edu-Moreira/Estudos-de-Python/blob/main/Compara%C3%A7%C3%A3o_ETFs.ipynb\" target=\"_parent\"><img src=\"https://colab.research.google.com/assets/colab-badge.svg\" alt=\"Open In Colab\"/></a>"
      ]
    },
    {
      "cell_type": "code",
      "execution_count": 1,
      "metadata": {
        "colab": {
          "base_uri": "https://localhost:8080/"
        },
        "id": "uL2-zRHOHQxL",
        "outputId": "1f8bfd03-c33f-491b-ed9d-096b15375e13"
      },
      "outputs": [
        {
          "output_type": "stream",
          "name": "stdout",
          "text": [
            "Requirement already satisfied: investpy in /usr/local/lib/python3.7/dist-packages (1.0.8)\n",
            "Requirement already satisfied: requests>=2.22.0 in /usr/local/lib/python3.7/dist-packages (from investpy) (2.23.0)\n",
            "Requirement already satisfied: lxml>=4.4.1 in /usr/local/lib/python3.7/dist-packages (from investpy) (4.8.0)\n",
            "Requirement already satisfied: numpy>=1.21.2 in /usr/local/lib/python3.7/dist-packages (from investpy) (1.21.5)\n",
            "Requirement already satisfied: Unidecode>=1.1.1 in /usr/local/lib/python3.7/dist-packages (from investpy) (1.3.4)\n",
            "Requirement already satisfied: setuptools>=41.2.0 in /usr/local/lib/python3.7/dist-packages (from investpy) (57.4.0)\n",
            "Requirement already satisfied: pandas>=0.25.1 in /usr/local/lib/python3.7/dist-packages (from investpy) (1.3.5)\n",
            "Requirement already satisfied: pytz>=2019.3 in /usr/local/lib/python3.7/dist-packages (from investpy) (2022.1)\n",
            "Requirement already satisfied: python-dateutil>=2.7.3 in /usr/local/lib/python3.7/dist-packages (from pandas>=0.25.1->investpy) (2.8.2)\n",
            "Requirement already satisfied: six>=1.5 in /usr/local/lib/python3.7/dist-packages (from python-dateutil>=2.7.3->pandas>=0.25.1->investpy) (1.15.0)\n",
            "Requirement already satisfied: urllib3!=1.25.0,!=1.25.1,<1.26,>=1.21.1 in /usr/local/lib/python3.7/dist-packages (from requests>=2.22.0->investpy) (1.24.3)\n",
            "Requirement already satisfied: idna<3,>=2.5 in /usr/local/lib/python3.7/dist-packages (from requests>=2.22.0->investpy) (2.10)\n",
            "Requirement already satisfied: chardet<4,>=3.0.2 in /usr/local/lib/python3.7/dist-packages (from requests>=2.22.0->investpy) (3.0.4)\n",
            "Requirement already satisfied: certifi>=2017.4.17 in /usr/local/lib/python3.7/dist-packages (from requests>=2.22.0->investpy) (2021.10.8)\n"
          ]
        }
      ],
      "source": [
        "! pip install investpy "
      ]
    },
    {
      "cell_type": "code",
      "source": [
        "import investpy as inv\n",
        "import pandas as pd \n",
        "import seaborn as sns \n",
        "import time\n",
        "import matplotlib.pyplot as plt \n",
        "import datetime as dt"
      ],
      "metadata": {
        "id": "aolh1VdvHWty"
      },
      "execution_count": 2,
      "outputs": []
    },
    {
      "cell_type": "code",
      "source": [
        "hoje = dt.date.today()\n",
        "hoje = hoje.strftime('%d/%m/%Y')\n",
        "print(hoje)\n",
        "\n",
        "pais = 'united states'\n",
        "\n",
        "tipo_etf = 'bond'"
      ],
      "metadata": {
        "colab": {
          "base_uri": "https://localhost:8080/"
        },
        "id": "xybrD6HKJsft",
        "outputId": "dd188f48-30a3-474a-83a3-2215a69e96dd"
      },
      "execution_count": 3,
      "outputs": [
        {
          "output_type": "stream",
          "name": "stdout",
          "text": [
            "24/03/2022\n"
          ]
        }
      ]
    },
    {
      "cell_type": "code",
      "source": [
        "# obtendo a lista de todos os ETFs dos Estados Unidos no Investing.com\n",
        "\n",
        "lista_etf = inv.get_etfs_dict(pais)\n"
      ],
      "metadata": {
        "id": "2O3IPCIMHhdB"
      },
      "execution_count": 4,
      "outputs": []
    },
    {
      "cell_type": "code",
      "source": [
        "# Para buscar informações especificas de cada ETF \n",
        "'''\n",
        "for i in range(len(lista_etf)):\n",
        "    if (lista_etf[i]['isin']=='US46434V6130'):\n",
        "        info = lista_etf[i]['name']\n",
        "'''\n",
        "\n",
        "#Obetndo lista com o nome de todos os ETFs\n",
        "nome_etf = []\n",
        "\n",
        "for i in range(len(lista_etf)):\n",
        "  if (lista_etf[i]['asset_class']== tipo_etf):\n",
        "    nome_etf.append(lista_etf[i]['name'])  "
      ],
      "metadata": {
        "id": "OrqWwLtjH5g3"
      },
      "execution_count": 5,
      "outputs": []
    },
    {
      "cell_type": "code",
      "source": [
        "nome_etf_filtro  = []\n",
        "filtro = [s for s in nome_etf if \"High Yield\" in s]\n",
        "\n",
        "for i in range(len(nome_etf)):\n",
        "  if(nome_etf[i] == any(filtro)):\n",
        "    nome_etf.drop(nome_etf[i])"
      ],
      "metadata": {
        "id": "pW9-3HxSNIOU"
      },
      "execution_count": 6,
      "outputs": []
    },
    {
      "cell_type": "code",
      "source": [
        "lista_nomes = []\n",
        "\n",
        "r = len(nome_etf)//10\n",
        "for i in range(r+1):\n",
        "  lista_nomes.append(nome_etf[(i*10):((i*10)+10)])\n",
        "\n"
      ],
      "metadata": {
        "id": "WtGCYoZ6piAi"
      },
      "execution_count": 7,
      "outputs": []
    },
    {
      "cell_type": "code",
      "source": [
        "#lista_nomes"
      ],
      "metadata": {
        "id": "Hl6XQQ2_o8CK"
      },
      "execution_count": 8,
      "outputs": []
    },
    {
      "cell_type": "code",
      "source": [
        "painel = pd.DataFrame()\n",
        "\n",
        "contador = 0 \n",
        "\n",
        "for i in range(len(lista_nomes)):\n",
        "  for j in lista_nomes[i]:\n",
        "    try:\n",
        "      painel[j] = inv.get_etf_historical_data(etf = j,country = pais, from_date = '01/01/2015',to_date = hoje)['Close']\n",
        "      contador = contador + 1\n",
        "      time.sleep(2)\n",
        "    except:\n",
        "      pass\n"
      ],
      "metadata": {
        "colab": {
          "base_uri": "https://localhost:8080/"
        },
        "id": "XQg7GdKUI8WO",
        "outputId": "7dfefb15-c1a7-42a1-b82d-fb3e994435e5"
      },
      "execution_count": 9,
      "outputs": [
        {
          "output_type": "stream",
          "name": "stderr",
          "text": [
            "/usr/local/lib/python3.7/dist-packages/investpy/etfs.py:745: Warning: Selected country does not contain the default stock exchange of the introduced ETF. Default country is: \"united kingdom\" and default stock_exchange: \"London\".\n",
            "  Warning,\n",
            "/usr/local/lib/python3.7/dist-packages/investpy/etfs.py:745: Warning: Selected country does not contain the default stock exchange of the introduced ETF. Default country is: \"germany\" and default stock_exchange: \"Xetra\".\n",
            "  Warning,\n",
            "/usr/local/lib/python3.7/dist-packages/investpy/etfs.py:745: Warning: Selected country does not contain the default stock exchange of the introduced ETF. Default country is: \"mexico\" and default stock_exchange: \"Mexico\".\n",
            "  Warning,\n",
            "/usr/local/lib/python3.7/dist-packages/investpy/etfs.py:745: Warning: Selected country does not contain the default stock exchange of the introduced ETF. Default country is: \"germany\" and default stock_exchange: \"Munich\".\n",
            "  Warning,\n",
            "/usr/local/lib/python3.7/dist-packages/ipykernel_launcher.py:8: PerformanceWarning: DataFrame is highly fragmented.  This is usually the result of calling `frame.insert` many times, which has poor performance.  Consider joining all columns at once using pd.concat(axis=1) instead.  To get a de-fragmented frame, use `newframe = frame.copy()`\n",
            "  \n"
          ]
        }
      ]
    },
    {
      "cell_type": "code",
      "source": [
        "\n"
      ],
      "metadata": {
        "id": "hP1fzRER14ic"
      },
      "execution_count": 9,
      "outputs": []
    },
    {
      "cell_type": "code",
      "source": [
        "retorno_painel = painel.pct_change()"
      ],
      "metadata": {
        "id": "BUUozGYIfEn4"
      },
      "execution_count": 10,
      "outputs": []
    },
    {
      "cell_type": "code",
      "source": [
        "type(painel)"
      ],
      "metadata": {
        "colab": {
          "base_uri": "https://localhost:8080/"
        },
        "id": "U7RUNA7VVlzB",
        "outputId": "c19fc8f6-42fe-405e-99cd-d84e4fa2b241"
      },
      "execution_count": 11,
      "outputs": [
        {
          "output_type": "execute_result",
          "data": {
            "text/plain": [
              "pandas.core.frame.DataFrame"
            ]
          },
          "metadata": {},
          "execution_count": 11
        }
      ]
    },
    {
      "cell_type": "code",
      "source": [
        "import sys\n",
        "\n",
        "retorno_painel.to_csv(sys.stdout, sep = ',')"
      ],
      "metadata": {
        "id": "bHaVKzWdkVg0"
      },
      "execution_count": null,
      "outputs": []
    },
    {
      "cell_type": "code",
      "source": [
        "bech = pd.read_excel"
      ],
      "metadata": {
        "id": "Wka1WcellC52"
      },
      "execution_count": null,
      "outputs": []
    }
  ]
}