{
  "nbformat": 4,
  "nbformat_minor": 0,
  "metadata": {
    "colab": {
      "name": "Comparação ETFs.ipynb",
      "provenance": [],
      "authorship_tag": "ABX9TyOi67g+1y6N3VypJoC2993r",
      "include_colab_link": true
    },
    "kernelspec": {
      "name": "python3",
      "display_name": "Python 3"
    },
    "language_info": {
      "name": "python"
    }
  },
  "cells": [
    {
      "cell_type": "markdown",
      "metadata": {
        "id": "view-in-github",
        "colab_type": "text"
      },
      "source": [
        "<a href=\"https://colab.research.google.com/github/Edu-Moreira/Estudos-de-Python/blob/main/Compara%C3%A7%C3%A3o_ETFs.ipynb\" target=\"_parent\"><img src=\"https://colab.research.google.com/assets/colab-badge.svg\" alt=\"Open In Colab\"/></a>"
      ]
    },
    {
      "cell_type": "code",
      "execution_count": 41,
      "metadata": {
        "colab": {
          "base_uri": "https://localhost:8080/"
        },
        "id": "uL2-zRHOHQxL",
        "outputId": "e546202a-29e6-4d3f-fb96-f2e08d2f2709"
      },
      "outputs": [
        {
          "output_type": "stream",
          "name": "stdout",
          "text": [
            "Requirement already satisfied: investpy in /usr/local/lib/python3.7/dist-packages (1.0.8)\n",
            "Requirement already satisfied: numpy>=1.21.2 in /usr/local/lib/python3.7/dist-packages (from investpy) (1.21.5)\n",
            "Requirement already satisfied: Unidecode>=1.1.1 in /usr/local/lib/python3.7/dist-packages (from investpy) (1.3.4)\n",
            "Requirement already satisfied: pytz>=2019.3 in /usr/local/lib/python3.7/dist-packages (from investpy) (2022.1)\n",
            "Requirement already satisfied: setuptools>=41.2.0 in /usr/local/lib/python3.7/dist-packages (from investpy) (57.4.0)\n",
            "Requirement already satisfied: pandas>=0.25.1 in /usr/local/lib/python3.7/dist-packages (from investpy) (1.3.5)\n",
            "Requirement already satisfied: requests>=2.22.0 in /usr/local/lib/python3.7/dist-packages (from investpy) (2.23.0)\n",
            "Requirement already satisfied: lxml>=4.4.1 in /usr/local/lib/python3.7/dist-packages (from investpy) (4.8.0)\n",
            "Requirement already satisfied: python-dateutil>=2.7.3 in /usr/local/lib/python3.7/dist-packages (from pandas>=0.25.1->investpy) (2.8.2)\n",
            "Requirement already satisfied: six>=1.5 in /usr/local/lib/python3.7/dist-packages (from python-dateutil>=2.7.3->pandas>=0.25.1->investpy) (1.15.0)\n",
            "Requirement already satisfied: chardet<4,>=3.0.2 in /usr/local/lib/python3.7/dist-packages (from requests>=2.22.0->investpy) (3.0.4)\n",
            "Requirement already satisfied: urllib3!=1.25.0,!=1.25.1,<1.26,>=1.21.1 in /usr/local/lib/python3.7/dist-packages (from requests>=2.22.0->investpy) (1.24.3)\n",
            "Requirement already satisfied: certifi>=2017.4.17 in /usr/local/lib/python3.7/dist-packages (from requests>=2.22.0->investpy) (2021.10.8)\n",
            "Requirement already satisfied: idna<3,>=2.5 in /usr/local/lib/python3.7/dist-packages (from requests>=2.22.0->investpy) (2.10)\n"
          ]
        }
      ],
      "source": [
        "! pip install investpy "
      ]
    },
    {
      "cell_type": "code",
      "source": [
        "import investpy as inv\n",
        "import pandas as pd \n",
        "import seaborn as sns \n",
        "import time\n",
        "import matplotlib.pyplot as plt \n",
        "import datetime as dt"
      ],
      "metadata": {
        "id": "aolh1VdvHWty"
      },
      "execution_count": 42,
      "outputs": []
    },
    {
      "cell_type": "code",
      "source": [
        "hoje = dt.date.today()\n",
        "hoje = hoje.strftime('%d/%m/%Y')\n",
        "print(hoje)\n",
        "\n",
        "pais = 'united states'\n",
        "\n",
        "tipo_etf = 'bond'"
      ],
      "metadata": {
        "colab": {
          "base_uri": "https://localhost:8080/"
        },
        "id": "xybrD6HKJsft",
        "outputId": "181b814c-66c1-4c1a-f066-c9dd03524c3a"
      },
      "execution_count": 43,
      "outputs": [
        {
          "output_type": "stream",
          "name": "stdout",
          "text": [
            "12/04/2022\n"
          ]
        }
      ]
    },
    {
      "cell_type": "code",
      "source": [
        "# obtendo a lista de todos os ETFs dos Estados Unidos no Investing.com\n",
        "\n",
        "lista_etf = inv.get_etfs_dict(pais)\n"
      ],
      "metadata": {
        "id": "2O3IPCIMHhdB"
      },
      "execution_count": 44,
      "outputs": []
    },
    {
      "cell_type": "code",
      "source": [
        "# Para buscar informações especificas de cada ETF \n",
        "'''\n",
        "for i in range(len(lista_etf)):\n",
        "    if (lista_etf[i]['isin']=='US46434V6130'):\n",
        "        info = lista_etf[i]['name']\n",
        "'''\n",
        "\n",
        "#Obetndo lista com o nome de todos os ETFs\n",
        "nome_etf = []\n",
        "\n",
        "for i in range(len(lista_etf)):\n",
        "  if (lista_etf[i]['asset_class']== tipo_etf):\n",
        "    nome_etf.append(lista_etf[i]['name'])  "
      ],
      "metadata": {
        "id": "OrqWwLtjH5g3"
      },
      "execution_count": 45,
      "outputs": []
    },
    {
      "cell_type": "code",
      "source": [
        "# nome_etf_filtro  = []\n",
        "# filtro = [s for s in nome_etf if \"High Yield\" in s]\n",
        "\n",
        "# for i in range(len(nome_etf)):\n",
        "#   if(nome_etf[i] == any(filtro)):\n",
        "#     nome_etf.drop(nome_etf[i])"
      ],
      "metadata": {
        "id": "pW9-3HxSNIOU"
      },
      "execution_count": 46,
      "outputs": []
    },
    {
      "cell_type": "code",
      "source": [
        "lista_nomes = []\n",
        "\n",
        "r = len(nome_etf)//10\n",
        "for i in range(r+1):\n",
        "  lista_nomes.append(nome_etf[(i*10):((i*10)+10)])\n",
        "\n"
      ],
      "metadata": {
        "id": "WtGCYoZ6piAi"
      },
      "execution_count": 47,
      "outputs": []
    },
    {
      "cell_type": "code",
      "source": [
        "lista_nomes"
      ],
      "metadata": {
        "id": "Hl6XQQ2_o8CK",
        "outputId": "71672492-f331-49c0-be75-754559355872",
        "colab": {
          "base_uri": "https://localhost:8080/"
        }
      },
      "execution_count": 58,
      "outputs": [
        {
          "output_type": "execute_result",
          "data": {
            "text/plain": [
              "[['Peritus High Yield',\n",
              "  'Newfleet Multi-Sector Income',\n",
              "  'AdvisorShares Sage Core Reserves',\n",
              "  'Madrona Global Bond',\n",
              "  'Anfield Universal Fixed Income',\n",
              "  'ALPS RiverFront Strategic Income',\n",
              "  'American Century Diversified Corporate Bond',\n",
              "  'Arrow Dow Jones Global Yield',\n",
              "  'iShares iBonds Dec 2025 Term Muni Bond',\n",
              "  'iShares Inflation Hedged Corporate Bond'],\n",
              " ['iShares US Aggregate Bond Acc',\n",
              "  'iShares $ Short Duration Corp Bond Acc',\n",
              "  'iShares $ Treasury Bond 3-7Yr UCITS Acc',\n",
              "  'iShares $ Floating Rate Bond UCITS Acc USD',\n",
              "  'iShares $ High Yield Corp Bond Acc Share Class',\n",
              "  'Cambria Global Momentum',\n",
              "  'Cambria Sovereign Bond',\n",
              "  'Columbia Multi Sector Municipal Income',\n",
              "  'Columbia Diversified Fixed Income Allocation',\n",
              "  'Deutsche Bank FI Enhanced Global High Yield'],\n",
              " ['Deutsche X-trackers Municipal Infrastructure Reven',\n",
              "  'Deutsche X-trackers Investment Grade Bond Interest',\n",
              "  'Deutsche X-trackers Emerging Markets Bond Interest',\n",
              "  'Deutsche X-trackers High Yield Corporate Bond Inte',\n",
              "  'Deutsche X-trackers Barclays International Treasur',\n",
              "  'Deutsche X-trackers Barclays International Corpora',\n",
              "  'Direxion Daily 20+ Year Treasury Bear 3X Shares',\n",
              "  'Direxion Daily 20+ Year Treasury Bull 3X Shares',\n",
              "  'Direxion Daily 7-10 Year Treasury Bear 3X Shares',\n",
              "  'Direxion Daily 7-10 Year Treasury Bull 3X Shares'],\n",
              " ['Direxion Daily 20+ Year Treasury Bear 1X Shares',\n",
              "  'Direxion Daily Total Bond Market Bear 1X Shares',\n",
              "  'Direxion Daily 7-10 Year Treasury Bear 1X Shares',\n",
              "  'ClearShares Ultra Short Maturity',\n",
              "  'Fidelity Total Bond',\n",
              "  'Fidelity Corporate Bond',\n",
              "  'Fidelity High Yield Factor',\n",
              "  'Fidelity Limited Term Bond',\n",
              "  'Fidelity Low Duration Bond Factor',\n",
              "  'First Trust Preferred Securities And Income'],\n",
              " ['First Trust Enhanced Short Maturity',\n",
              "  'First Trust Low Duration Opportunities',\n",
              "  'First Trust Senior Loan',\n",
              "  'First Trust Managed Municipal',\n",
              "  'First Trust Tactical High Yield',\n",
              "  'First Trust Emerging Markets Local Currency Bond',\n",
              "  'First Trust Ultra Short Duration Municipal',\n",
              "  'First Trust TCW Unconstrained Plus Bond',\n",
              "  'FlexShares iBoxx 3-Year Target Duration TIPS',\n",
              "  'FlexShares iBoxx 5-Year Target Duration TIPS'],\n",
              " ['FlexShares Ready Access Variable Income',\n",
              "  'FlexShares High Yield Value-Scored Bond Index',\n",
              "  'FlexShares Credit-Scored US Corp Bond',\n",
              "  'FlexShares Credit-Scored US Long Corporate Bond',\n",
              "  'FlexShares Disciplined Duration MBS',\n",
              "  'Franklin Short Dur US Gov',\n",
              "  'Franklin Liberty International Aggregate Bond',\n",
              "  'Goldman Sachs Access Ultra Short Bond',\n",
              "  'Goldman Sachs Access Inflation Protected USD Bond',\n",
              "  'Guggenheim Enhanced Short Duration'],\n",
              " ['Guggenheim BulletShares 2021 Corporate Bond',\n",
              "  'Guggenheim BulletShares 2020 Corporate Bond',\n",
              "  'Guggenheim BulletShares 2023 Corporate Bond',\n",
              "  'Guggenheim BulletShares 2022 High Yield Corp Bond',\n",
              "  'Guggenheim BulletShares 2022 Corporate Bond',\n",
              "  'Guggenheim BulletShares 2025 Corporate Bond',\n",
              "  'Guggenheim Invest BulletShares 2020 High Yield Cor',\n",
              "  'Guggenheim BulletShares 2027 Corporate Bond',\n",
              "  'Guggenheim BulletShares 2019 Corporate Bond',\n",
              "  'Guggenheim BulletShares 2021 High Yield Corp Bond'],\n",
              " ['Guggenheim Invest BulletShares 2019 High Yield Cor',\n",
              "  'Guggenheim BulletShares 2024 Corporate Bond',\n",
              "  'Guggenheim BulletShares 2023 High Yield Corp Bond',\n",
              "  'Guggenheim BulletShares 2025 High Yield Corporate',\n",
              "  'Guggenheim Total Return Bond',\n",
              "  'Guggenheim CurrencyShares Singapore Dollar Trust',\n",
              "  'Hartford Schroders Tax Aware Bond',\n",
              "  'Hartford Total Return Bond',\n",
              "  'IQ Ultra Short Duration',\n",
              "  'IQ Short Duration Enhanced Core Bond US'],\n",
              " ['Invesco 1-30 Laddered Treasury',\n",
              "  'Invesco BulletShares 2028 Corporate Bond',\n",
              "  'Invesco BulletShares 2026 High Yield Corporate Bon',\n",
              "  'iShares iBoxx $ High Yield Corporate Bond',\n",
              "  'iShares 20+ Year Treasury Bond',\n",
              "  'iShares iBoxx $ Investment Grade Corporate Bond',\n",
              "  'iShares 7-10 Year Treasury Bond',\n",
              "  'iShares JPMorgan USD EM Bond',\n",
              "  'iShares Core US Aggregate Bond',\n",
              "  'iShares Short Treasury Bond'],\n",
              " ['iShares Core US Treasury Bond',\n",
              "  'iShares Short Maturity Bond',\n",
              "  'iShares 1-3 Year Treasury Bond',\n",
              "  'iShares 0-5 Year High Yield Corporate Bond',\n",
              "  'iShares Floating Rate Bond',\n",
              "  'iShares Ultra Short Term Bond',\n",
              "  'iShares MBS',\n",
              "  'iShares Core 1-5 Year USD',\n",
              "  'iShares TIPS Bond',\n",
              "  'iShares 3-7 Year Treasury Bond'],\n",
              " ['iShares Intermediate Credit Bond',\n",
              "  'iShares Short-Term Corporate Bond',\n",
              "  'iShares National AMT-Free Muni Bond',\n",
              "  'iShares Core Total USD Bond Market',\n",
              "  'iShares 0-5 Year Invest Grade Corporate Bond',\n",
              "  'iShares Broad USD Investment Grade Corporate Bond',\n",
              "  'iShares Broad USD High Yield Corporate Bond',\n",
              "  'iShares Intermediate Govt/Credit Bond',\n",
              "  'iShares Long-Term Corporate Bond',\n",
              "  'iShares iBonds Dec 2020 Corporate'],\n",
              " ['iShares iBonds Dec 2021 Corporate',\n",
              "  'iShares iBonds Dec 2019 Corporate',\n",
              "  'iShares Int Agg Bond',\n",
              "  'iShares iBonds Dec 2022 Corporate',\n",
              "  'iShares Emerging Markets Local Currency Bond',\n",
              "  'iShares International Treasury Bond',\n",
              "  'iShares 0-5 Year TIPS Bond',\n",
              "  'iShares iBonds Dec 2024 Corporate',\n",
              "  'iShares Short-Term National AMT-Free Muni Bond',\n",
              "  'iShares iBonds Dec 2023 Corporate'],\n",
              " ['iShares Emerging Markets High Yield Bond',\n",
              "  'iShares California AMT-Free Muni Bond',\n",
              "  'iShares iBonds Dec 2021 AMT Free Municipal',\n",
              "  'iShares iBonds Dec 2025 Corporate',\n",
              "  'iShares 10-20 Year Treasury Bond',\n",
              "  'iShares Fallen Angels USD Bd',\n",
              "  'iShares Yield Optimized Bond',\n",
              "  'iShares iBonds Dec 2027 Term Corporate',\n",
              "  'iShares Convertible Bond',\n",
              "  'iShares Short Maturity Muni Bond'],\n",
              " ['iShares Core 10Y US Bd',\n",
              "  'iShares Treasury Floating Rate Bond',\n",
              "  'iShares iBonds Dec 2022 AMT Free Municipal',\n",
              "  'iShares CMBS',\n",
              "  'iShares Aaa - A Rated Corporate Bond',\n",
              "  'iShares iBonds Dec 2024 Term Muni Bond',\n",
              "  'iShares New York AMT-Free Muni Bond',\n",
              "  'iShares iBonds Dec 2027 Term Muni Bond',\n",
              "  'iShares iBonds Sep 2020 AMT Free Municipal',\n",
              "  'iShares Global High Yield Corporate Bond'],\n",
              " ['iShares iBonds Dec 2023 Term Muni Bond',\n",
              "  'iShares iBonds 2021 Term High Yield and Income',\n",
              "  'iShares Agency Bond',\n",
              "  'iShares Emerging Markets Corporate Bond',\n",
              "  'iShares iBoxx High Yld ex Oil & Gas Corp Bd',\n",
              "  'iShares GNMA Bond',\n",
              "  'iShares iBonds Mar 2020 Corporate',\n",
              "  'iShares Edge US Fxd Incm Bal Rsk',\n",
              "  'iShares Interest Rate Hedged 10Y',\n",
              "  'iShares iBonds Mar 2020 Corp ex-Financials'],\n",
              " ['iShares Interest Rate Hedged High Yield Bond',\n",
              "  'iShares Government/Credit Bond',\n",
              "  'iShares Interest Rate Hedged Corproate Bond',\n",
              "  'iShares iBonds Mar 2023 Corporate',\n",
              "  'iShares iBonds 2025 Term High Yield and Income',\n",
              "  'iShares iBonds Dec 2026 Term Muni Bond',\n",
              "  'iShares iBonds 2023 Term High Yield and Income',\n",
              "  'iShares 1-3 Year International Treasury Bond',\n",
              "  'iShares Int High Yield Bond',\n",
              "  'iShares iBonds Mar 2023 Corp ex-Financials'],\n",
              " ['iShares Interest Rate Hedged Emerging Markets Bond',\n",
              "  'iShares iBonds 2022 Term High Yield and Income',\n",
              "  'iShares iBonds 2024 Term High Yield and Income',\n",
              "  'iShares iBonds Sep 2019 AMT-Free Muni Bond',\n",
              "  'iShares 10+ Year Investment Grade Corporate Bond',\n",
              "  'iShares 5-10 Year Investment Grade Corporate Bond',\n",
              "  'JPMorgan US Aggregate Bond',\n",
              "  'JPMorgan Global Bond Opportunities ETF',\n",
              "  'JPMorgan BetaBuilders 1-5 Year U.S. Aggregate Bond',\n",
              "  'JPMorgan Core Plus Bond'],\n",
              " ['JPMorgan USD Emerging Market Sovereign Bond',\n",
              "  'JPMorgan Corporate Bond Research Enhanced',\n",
              "  'JPMorgan Municipal',\n",
              "  'Quadratic Interest Rate Volatility and Inflation H',\n",
              "  'KraneShares E China Commercial Paper',\n",
              "  'Kraneshares MSCI China Environment',\n",
              "  'Western Asset Short Duration Income',\n",
              "  'iPath  US Treasury 10-year Bear',\n",
              "  'iPath US Treasury Long Bond Bear',\n",
              "  'Barclays Inverse US Treasury Aggregate'],\n",
              " ['iPath US Treasury 2 year Bear',\n",
              "  'iPath US Treasury 10-year Bull',\n",
              "  'iPath US Treasury 5-year Bear',\n",
              "  'iPath US Treasury 2-year Bull',\n",
              "  'iPath US Treasury 5-year Bull',\n",
              "  'Natixis Loomis Sayles Short Duration Income',\n",
              "  'NuShares ESG US Aggregate Bond',\n",
              "  'Virtus Newfleet Multi-Sector Unconstrained Bond',\n",
              "  'Reinhart Intermediate Bond NextShares',\n",
              "  'PGIM Ultra Short Bond'],\n",
              " ['PIMCO Enhanced Short Maturity Active Exchange-Trad',\n",
              "  'PIMCO Total Return Active Exchange-Traded',\n",
              "  'PIMCO 0-5 Year High Yield Corporate Bond',\n",
              "  'PIMCO Low Duration Active',\n",
              "  'PIMCO 1-5 Year US TIPS Exchange-Traded',\n",
              "  'PIMCO 25+ Year Zero Coupon US Treasury',\n",
              "  'PIMCO 15+ Year US TIPS Exchange-Traded',\n",
              "  'PIMCO Intermediate Municipal Bond Active',\n",
              "  'PIMCO Investment Grade Corporate Bond',\n",
              "  'PIMCO 1-3 Year US Treasury'],\n",
              " ['PIMCO Short Term Municipal Bond Active Exchange-Tr',\n",
              "  'PIMCO Broad US TIPS Exchange-Traded',\n",
              "  'PowerShares Senior Loan Portfolio',\n",
              "  'PowerShares Emerging Markets Sovereign Debt',\n",
              "  'PowerShares CEF Income Composite Portfolio',\n",
              "  'PowerShares amental High Yield Corporate Bond Port',\n",
              "  'PowerShares National AMT-Free Municipal Bond Portf',\n",
              "  'PowerShares Build America Bond Port',\n",
              "  'PowerShares California AMT-Free Municipal Bond Por',\n",
              "  'PowerShares Global Short Term High Yield Bond Port'],\n",
              " ['PowerShares mntl Invest Grade Corp Bond Portfolio',\n",
              "  'PowerShares VRDO Tax-Free Weekly Portfolio',\n",
              "  'PowerShares New York AMT-Free Municipal Bond Portf',\n",
              "  'PowerShares International Corporate Bond',\n",
              "  'PowerShares PureBeta US Aggregate Bond Portfolio',\n",
              "  'PowerShares LadderRite 0-5 Year Corporate Bond',\n",
              "  'PowerShares PureBeta 0-5 US TIPS Portfolio',\n",
              "  'Principal EDGE Active Income',\n",
              "  'ProShares UltraShort 20+ Year Treasury',\n",
              "  'ProShares Short 20+ Yr Treasury'],\n",
              " ['ProShares UltraPro Short 20+ Year Treasury',\n",
              "  'ProShares Short High Yield',\n",
              "  'ProShares Investment Grade-Interest Rate Hedged',\n",
              "  'ProShares S&P 500 Bond',\n",
              "  'ProShares UltraShort 7-10 Year Treasury',\n",
              "  'ProShares Ultra 20+ Year Treasury',\n",
              "  'ProShares Ultra 7-10 Year Treasury',\n",
              "  'ProShares High Yield Interest Rate',\n",
              "  'ProShares Short 7-10 Year Treasury',\n",
              "  'ProShares Short Term USD EM Bond'],\n",
              " ['ProShares Ultra High Yield',\n",
              "  'Schwab Short Term US Treasury',\n",
              "  'Schwab US Aggregate Bond',\n",
              "  'Schwab Intermediate Term US Treasury',\n",
              "  'Schwab US TIPS',\n",
              "  'SPDR Barclays High Yield Bond',\n",
              "  'SPDR Barclays Short Term High Yield Bond',\n",
              "  'SPDR Barclays Aggregate Bond',\n",
              "  'SPDR Barclays Invest Grade Floating Rate',\n",
              "  'SPDR Barclays 1-3 Month T-Bill'],\n",
              " ['SPDR Barclays Long Term Treasury',\n",
              "  'SPDR Barclays Short Term Corporate Bond',\n",
              "  'SPDR Barclays Intermediate Term Corporate Bond',\n",
              "  'SPDR Barclays Convertible Securities',\n",
              "  'SPDR Barclays Short Term Treasury',\n",
              "  'SPDR Blackstone/GSO Senior Loan',\n",
              "  'SPDR Barclays Emerging Markets Local Bond',\n",
              "  'SPDR DoubleLine Total Return Tactic',\n",
              "  'SPDR Barclays Long Term Corporate Bond',\n",
              "  'SPDR Portfolio Mortgage Backed Bond'],\n",
              " ['SPDR Barclays International Treasury Bond',\n",
              "  'SPDR Nuveen Barclays Short Term Municipal Bond',\n",
              "  'SPDR Nuveen Barclays Municipal Bond',\n",
              "  'SPDR Portfolio Intermediate Term Treasury',\n",
              "  'SPDR Portfolio TIPS',\n",
              "  'SPDR Nuveen S&P High Yield Municipal Bond',\n",
              "  'SPDR SSgA Ultra Short Term Bond',\n",
              "  'SPDR Portfolio High Yield Bond',\n",
              "  'SPDR Barclays Short Term Intl Treasury Bond',\n",
              "  'SPDR Barclays 1-10 Year TIPS'],\n",
              " ['SPDR Barclays International Corporate Bond',\n",
              "  'SPDR DoubleLine EM Fixed Income',\n",
              "  'SPDR Citi International Government Inflation-Prote',\n",
              "  'SPDR Portfolio Corporate Bond',\n",
              "  'SPDR SSGA Fixed Income Sector Rotation',\n",
              "  'Aware Ultra-Short Duration Enhanced Income',\n",
              "  'USAA Core Intermediate-Term Bond',\n",
              "  'USAA Core Short-Term Bond',\n",
              "  'ValueShares Int Quantitative Value',\n",
              "  'VanEck Vectors JP Morgan EM Local Currency Bd'],\n",
              " ['VanEck Vectors Fallen Angel High Yield Bond',\n",
              "  'VanEck Vectors High-Yield Municipal',\n",
              "  'VanEck Vectors AMT-Free Intermediate Municipal',\n",
              "  'VanEck Vectors-Investment Grade Floating Rate',\n",
              "  'VanEck Short High-Yield Muni',\n",
              "  'VanEck Emg Mkts High Yield Bd',\n",
              "  'VanEck Vectors International High Yield Bond',\n",
              "  'VanEck Vectors AMT-Free Long Municipal',\n",
              "  'VanEck Vectors Emerging Markets Aggregate Bond',\n",
              "  'VanEck Vectors CEF Municipal Income'],\n",
              " ['VanEck Vectors AMT-Free Short Municipal',\n",
              "  'VanEck Vectors Green Bond',\n",
              "  'VanEck Vectors Municipal Allocation',\n",
              "  'VanEck Vectors ChinaAMC China Bond',\n",
              "  'Vanguard Short-Term Corporate Bond',\n",
              "  'Vanguard Total Bond Market',\n",
              "  'Vanguard Intermediate-Term Corporate Bond',\n",
              "  'Vanguard Total International Bond',\n",
              "  'Vanguard Mortgage-Backed Securities',\n",
              "  'Vanguard Tax-Exempt Bond'],\n",
              " ['Vanguard Short-Term Bond',\n",
              "  'Vanguard Intermediate-Term Bond',\n",
              "  'Vanguard Short-Term Government Bond',\n",
              "  'Vanguard Long-Term Bond',\n",
              "  'Vanguard Sht-Term Inflation-Protected Securities',\n",
              "  'Vanguard Long-Term Corporate Bond',\n",
              "  'Vanguard Intermediate-Term Government Bond',\n",
              "  'Vanguard Long-Term Government Bond',\n",
              "  'Vanguard Extended Duration',\n",
              "  'Vanguard Total Corporate Bond Shares'],\n",
              " ['Vanguard Total World Bond',\n",
              "  'Vanguard USD EM Government Bond',\n",
              "  'Vident Core U.S. Bond Strategy',\n",
              "  'WBI BullBear Trend Switch US Total Return',\n",
              "  'WisdomTree Bloomberg Floating Rate Treasury',\n",
              "  'WisdomTree Barclays Yield Enhanced US Aggregate Bo',\n",
              "  'WisdomTree Interest Rate Hedged High Yield Bond Fd',\n",
              "  'WisdomTree Barclays Interest Rate Hedge US Aggrega',\n",
              "  'WisdomTree Emerging Markets Local Debt',\n",
              "  'WisdomTree Negative Duration High Yield Bond'],\n",
              " ['WisdomTree Fundamental U.S. High Yield Corporate B',\n",
              "  'WisdomTree Barclays Negative Duration US Aggregate',\n",
              "  'WisdomTree Yield Enhanced Global Aggregate Bond',\n",
              "  'WisdomTree Emerging Markets Corporate Bond',\n",
              "  'Xtrackers Low Beta High Yield Bond',\n",
              "  'Xtrackers High Beta High Yield Bond',\n",
              "  'Xtrackers Short Duration High Yield']]"
            ]
          },
          "metadata": {},
          "execution_count": 58
        }
      ]
    },
    {
      "cell_type": "code",
      "source": [
        "painel = pd.DataFrame()\n",
        "\n",
        "contador = 0 \n",
        "\n",
        "for i in range(len(lista_nomes)):\n",
        "  for j in lista_nomes[i]:\n",
        "    try:\n",
        "      painel[j] = inv.get_etf_historical_data(etf = j,country = pais, from_date = '01/01/2015',to_date = hoje)['Close']\n",
        "      contador = contador + 1\n",
        "      time.sleep(2)\n",
        "    except:\n",
        "      pass\n"
      ],
      "metadata": {
        "colab": {
          "base_uri": "https://localhost:8080/"
        },
        "id": "XQg7GdKUI8WO",
        "outputId": "94e29bad-79b7-4500-9c25-e3eb8e47dc06"
      },
      "execution_count": 49,
      "outputs": [
        {
          "output_type": "stream",
          "name": "stderr",
          "text": [
            "/usr/local/lib/python3.7/dist-packages/investpy/etfs.py:745: Warning: Selected country does not contain the default stock exchange of the introduced ETF. Default country is: \"united kingdom\" and default stock_exchange: \"London\".\n",
            "  Warning,\n",
            "/usr/local/lib/python3.7/dist-packages/investpy/etfs.py:745: Warning: Selected country does not contain the default stock exchange of the introduced ETF. Default country is: \"germany\" and default stock_exchange: \"Xetra\".\n",
            "  Warning,\n",
            "/usr/local/lib/python3.7/dist-packages/investpy/etfs.py:745: Warning: Selected country does not contain the default stock exchange of the introduced ETF. Default country is: \"mexico\" and default stock_exchange: \"Mexico\".\n",
            "  Warning,\n",
            "/usr/local/lib/python3.7/dist-packages/investpy/etfs.py:745: Warning: Selected country does not contain the default stock exchange of the introduced ETF. Default country is: \"germany\" and default stock_exchange: \"Munich\".\n",
            "  Warning,\n"
          ]
        }
      ]
    },
    {
      "cell_type": "code",
      "source": [
        "inv.get_etf_historical_data(etf = 'SPDR Barclays International Corporate Bond',country = pais, from_date = '01/01/2015',to_date = hoje)\n"
      ],
      "metadata": {
        "id": "hP1fzRER14ic",
        "outputId": "9722d890-1ff7-4ba4-9060-0cf149cd941b",
        "colab": {
          "base_uri": "https://localhost:8080/",
          "height": 304
        }
      },
      "execution_count": 60,
      "outputs": [
        {
          "output_type": "error",
          "ename": "ConnectionError",
          "evalue": "ignored",
          "traceback": [
            "\u001b[0;31m---------------------------------------------------------------------------\u001b[0m",
            "\u001b[0;31mConnectionError\u001b[0m                           Traceback (most recent call last)",
            "\u001b[0;32m<ipython-input-60-ae651a87f913>\u001b[0m in \u001b[0;36m<module>\u001b[0;34m()\u001b[0m\n\u001b[0;32m----> 1\u001b[0;31m \u001b[0minv\u001b[0m\u001b[0;34m.\u001b[0m\u001b[0mget_etf_historical_data\u001b[0m\u001b[0;34m(\u001b[0m\u001b[0metf\u001b[0m \u001b[0;34m=\u001b[0m \u001b[0;34m'SPDR Barclays International Corporate Bond'\u001b[0m\u001b[0;34m,\u001b[0m\u001b[0mcountry\u001b[0m \u001b[0;34m=\u001b[0m \u001b[0mpais\u001b[0m\u001b[0;34m,\u001b[0m \u001b[0mfrom_date\u001b[0m \u001b[0;34m=\u001b[0m \u001b[0;34m'01/01/2015'\u001b[0m\u001b[0;34m,\u001b[0m\u001b[0mto_date\u001b[0m \u001b[0;34m=\u001b[0m \u001b[0mhoje\u001b[0m\u001b[0;34m)\u001b[0m\u001b[0;34m\u001b[0m\u001b[0;34m\u001b[0m\u001b[0m\n\u001b[0m",
            "\u001b[0;32m/usr/local/lib/python3.7/dist-packages/investpy/etfs.py\u001b[0m in \u001b[0;36mget_etf_historical_data\u001b[0;34m(etf, country, from_date, to_date, stock_exchange, as_json, order, interval)\u001b[0m\n\u001b[1;32m    868\u001b[0m         \u001b[0;32mif\u001b[0m \u001b[0mreq\u001b[0m\u001b[0;34m.\u001b[0m\u001b[0mstatus_code\u001b[0m \u001b[0;34m!=\u001b[0m \u001b[0;36m200\u001b[0m\u001b[0;34m:\u001b[0m\u001b[0;34m\u001b[0m\u001b[0;34m\u001b[0m\u001b[0m\n\u001b[1;32m    869\u001b[0m             raise ConnectionError(\n\u001b[0;32m--> 870\u001b[0;31m                 \u001b[0;34m\"ERR#0015: error \"\u001b[0m \u001b[0;34m+\u001b[0m \u001b[0mstr\u001b[0m\u001b[0;34m(\u001b[0m\u001b[0mreq\u001b[0m\u001b[0;34m.\u001b[0m\u001b[0mstatus_code\u001b[0m\u001b[0;34m)\u001b[0m \u001b[0;34m+\u001b[0m \u001b[0;34m\", try again later.\"\u001b[0m\u001b[0;34m\u001b[0m\u001b[0;34m\u001b[0m\u001b[0m\n\u001b[0m\u001b[1;32m    871\u001b[0m             )\n\u001b[1;32m    872\u001b[0m \u001b[0;34m\u001b[0m\u001b[0m\n",
            "\u001b[0;31mConnectionError\u001b[0m: ERR#0015: error 429, try again later."
          ]
        }
      ]
    },
    {
      "cell_type": "code",
      "source": [
        "retorno_painel = painel.pct_change()"
      ],
      "metadata": {
        "id": "BUUozGYIfEn4"
      },
      "execution_count": 50,
      "outputs": []
    },
    {
      "cell_type": "code",
      "source": [
        "\n",
        "painel"
      ],
      "metadata": {
        "colab": {
          "base_uri": "https://localhost:8080/",
          "height": 49
        },
        "id": "U7RUNA7VVlzB",
        "outputId": "0b08c5d0-a56a-4bf4-ce0f-46b0e51de91a"
      },
      "execution_count": 57,
      "outputs": [
        {
          "output_type": "execute_result",
          "data": {
            "text/plain": [
              "Empty DataFrame\n",
              "Columns: []\n",
              "Index: []"
            ],
            "text/html": [
              "\n",
              "  <div id=\"df-816aad86-d1f0-4e37-9593-e958a06ff3aa\">\n",
              "    <div class=\"colab-df-container\">\n",
              "      <div>\n",
              "<style scoped>\n",
              "    .dataframe tbody tr th:only-of-type {\n",
              "        vertical-align: middle;\n",
              "    }\n",
              "\n",
              "    .dataframe tbody tr th {\n",
              "        vertical-align: top;\n",
              "    }\n",
              "\n",
              "    .dataframe thead th {\n",
              "        text-align: right;\n",
              "    }\n",
              "</style>\n",
              "<table border=\"1\" class=\"dataframe\">\n",
              "  <thead>\n",
              "    <tr style=\"text-align: right;\">\n",
              "      <th></th>\n",
              "    </tr>\n",
              "  </thead>\n",
              "  <tbody>\n",
              "  </tbody>\n",
              "</table>\n",
              "</div>\n",
              "      <button class=\"colab-df-convert\" onclick=\"convertToInteractive('df-816aad86-d1f0-4e37-9593-e958a06ff3aa')\"\n",
              "              title=\"Convert this dataframe to an interactive table.\"\n",
              "              style=\"display:none;\">\n",
              "        \n",
              "  <svg xmlns=\"http://www.w3.org/2000/svg\" height=\"24px\"viewBox=\"0 0 24 24\"\n",
              "       width=\"24px\">\n",
              "    <path d=\"M0 0h24v24H0V0z\" fill=\"none\"/>\n",
              "    <path d=\"M18.56 5.44l.94 2.06.94-2.06 2.06-.94-2.06-.94-.94-2.06-.94 2.06-2.06.94zm-11 1L8.5 8.5l.94-2.06 2.06-.94-2.06-.94L8.5 2.5l-.94 2.06-2.06.94zm10 10l.94 2.06.94-2.06 2.06-.94-2.06-.94-.94-2.06-.94 2.06-2.06.94z\"/><path d=\"M17.41 7.96l-1.37-1.37c-.4-.4-.92-.59-1.43-.59-.52 0-1.04.2-1.43.59L10.3 9.45l-7.72 7.72c-.78.78-.78 2.05 0 2.83L4 21.41c.39.39.9.59 1.41.59.51 0 1.02-.2 1.41-.59l7.78-7.78 2.81-2.81c.8-.78.8-2.07 0-2.86zM5.41 20L4 18.59l7.72-7.72 1.47 1.35L5.41 20z\"/>\n",
              "  </svg>\n",
              "      </button>\n",
              "      \n",
              "  <style>\n",
              "    .colab-df-container {\n",
              "      display:flex;\n",
              "      flex-wrap:wrap;\n",
              "      gap: 12px;\n",
              "    }\n",
              "\n",
              "    .colab-df-convert {\n",
              "      background-color: #E8F0FE;\n",
              "      border: none;\n",
              "      border-radius: 50%;\n",
              "      cursor: pointer;\n",
              "      display: none;\n",
              "      fill: #1967D2;\n",
              "      height: 32px;\n",
              "      padding: 0 0 0 0;\n",
              "      width: 32px;\n",
              "    }\n",
              "\n",
              "    .colab-df-convert:hover {\n",
              "      background-color: #E2EBFA;\n",
              "      box-shadow: 0px 1px 2px rgba(60, 64, 67, 0.3), 0px 1px 3px 1px rgba(60, 64, 67, 0.15);\n",
              "      fill: #174EA6;\n",
              "    }\n",
              "\n",
              "    [theme=dark] .colab-df-convert {\n",
              "      background-color: #3B4455;\n",
              "      fill: #D2E3FC;\n",
              "    }\n",
              "\n",
              "    [theme=dark] .colab-df-convert:hover {\n",
              "      background-color: #434B5C;\n",
              "      box-shadow: 0px 1px 3px 1px rgba(0, 0, 0, 0.15);\n",
              "      filter: drop-shadow(0px 1px 2px rgba(0, 0, 0, 0.3));\n",
              "      fill: #FFFFFF;\n",
              "    }\n",
              "  </style>\n",
              "\n",
              "      <script>\n",
              "        const buttonEl =\n",
              "          document.querySelector('#df-816aad86-d1f0-4e37-9593-e958a06ff3aa button.colab-df-convert');\n",
              "        buttonEl.style.display =\n",
              "          google.colab.kernel.accessAllowed ? 'block' : 'none';\n",
              "\n",
              "        async function convertToInteractive(key) {\n",
              "          const element = document.querySelector('#df-816aad86-d1f0-4e37-9593-e958a06ff3aa');\n",
              "          const dataTable =\n",
              "            await google.colab.kernel.invokeFunction('convertToInteractive',\n",
              "                                                     [key], {});\n",
              "          if (!dataTable) return;\n",
              "\n",
              "          const docLinkHtml = 'Like what you see? Visit the ' +\n",
              "            '<a target=\"_blank\" href=https://colab.research.google.com/notebooks/data_table.ipynb>data table notebook</a>'\n",
              "            + ' to learn more about interactive tables.';\n",
              "          element.innerHTML = '';\n",
              "          dataTable['output_type'] = 'display_data';\n",
              "          await google.colab.output.renderOutput(dataTable, element);\n",
              "          const docLink = document.createElement('div');\n",
              "          docLink.innerHTML = docLinkHtml;\n",
              "          element.appendChild(docLink);\n",
              "        }\n",
              "      </script>\n",
              "    </div>\n",
              "  </div>\n",
              "  "
            ]
          },
          "metadata": {},
          "execution_count": 57
        }
      ]
    },
    {
      "cell_type": "code",
      "source": [
        "# import sys\n",
        "\n",
        "# retorno_painel.to_csv(sys.stdout, sep = ',')"
      ],
      "metadata": {
        "id": "bHaVKzWdkVg0"
      },
      "execution_count": 52,
      "outputs": []
    },
    {
      "cell_type": "code",
      "source": [
        "lista_nomes[1][1]"
      ],
      "metadata": {
        "colab": {
          "base_uri": "https://localhost:8080/",
          "height": 35
        },
        "id": "Wka1WcellC52",
        "outputId": "17ea566b-88ed-4a65-9d83-3b050bc6faef"
      },
      "execution_count": 53,
      "outputs": [
        {
          "output_type": "execute_result",
          "data": {
            "text/plain": [
              "'iShares $ Short Duration Corp Bond Acc'"
            ],
            "application/vnd.google.colaboratory.intrinsic+json": {
              "type": "string"
            }
          },
          "metadata": {},
          "execution_count": 53
        }
      ]
    },
    {
      "cell_type": "code",
      "source": [
        "import io\n",
        "import requests\n",
        "\n",
        "url= 'https://github.com/Edu-Moreira/Estudos-de-Python/raw/main/Dados/Dados%20IE.xlsx'\n",
        "myfile = requests.get(url)\n",
        "\n",
        "df=pd.read_excel(myfile.content)\n",
        "print(df)"
      ],
      "metadata": {
        "id": "FSQyRpuimvio",
        "outputId": "7ef26cc1-c1a0-4504-a577-99f6dba857ca",
        "colab": {
          "base_uri": "https://localhost:8080/"
        }
      },
      "execution_count": 54,
      "outputs": [
        {
          "output_type": "stream",
          "name": "stdout",
          "text": [
            "           Data  USD LC07TRUU   USD SPTR   USD M1CXBRU   USD MIMUEMRN   \\\n",
            "0    1998-12-31       212.0865   1670.006        477.68      267.04001   \n",
            "1    1999-01-04       212.0641   1668.521        486.52      270.20279   \n",
            "2    1999-01-05       211.8054   1691.253        489.26      272.39230   \n",
            "3    1999-01-06       212.1331   1729.083        496.11      278.48300   \n",
            "4    1999-01-07       211.7084   1725.640        494.54      279.80511   \n",
            "...         ...            ...        ...           ...            ...   \n",
            "5790 2022-01-18       616.7014   9595.926       1588.46     1758.11600   \n",
            "5791 2022-01-19       618.1821   9503.135       1580.24     1755.67800   \n",
            "5792 2022-01-20       618.8629   9398.964       1590.57     1776.91891   \n",
            "5793 2022-01-21       620.5297   9221.282       1564.14     1759.46330   \n",
            "5794 2022-01-24       619.7807   9246.837       1521.55     1727.05400   \n",
            "\n",
            "      USD LG38TRUU  USD SPTRSMCP   \n",
            "0         244.2719        186.094  \n",
            "1         244.2719        186.094  \n",
            "2         244.2719        186.094  \n",
            "3         244.2719        186.094  \n",
            "4         244.2719        186.094  \n",
            "...            ...            ...  \n",
            "5790      491.6966       1846.166  \n",
            "5791      491.8776       1814.072  \n",
            "5792      493.2359       1775.668  \n",
            "5793      493.8587       1751.425  \n",
            "5794      492.5923       1791.098  \n",
            "\n",
            "[5795 rows x 7 columns]\n"
          ]
        }
      ]
    },
    {
      "cell_type": "code",
      "source": [
        "df.rename(columns= {'Data': 'Date'}, inplace = True)\n",
        "df_benchmark  = df[['Date','USD LG38TRUU']]\n",
        "df_benchmark"
      ],
      "metadata": {
        "colab": {
          "base_uri": "https://localhost:8080/",
          "height": 424
        },
        "id": "Psk40mMNmiIO",
        "outputId": "1978da8f-dd12-4701-b8a6-bc3832eb07c6"
      },
      "execution_count": 55,
      "outputs": [
        {
          "output_type": "execute_result",
          "data": {
            "text/plain": [
              "           Date  USD LG38TRUU\n",
              "0    1998-12-31      244.2719\n",
              "1    1999-01-04      244.2719\n",
              "2    1999-01-05      244.2719\n",
              "3    1999-01-06      244.2719\n",
              "4    1999-01-07      244.2719\n",
              "...         ...           ...\n",
              "5790 2022-01-18      491.6966\n",
              "5791 2022-01-19      491.8776\n",
              "5792 2022-01-20      493.2359\n",
              "5793 2022-01-21      493.8587\n",
              "5794 2022-01-24      492.5923\n",
              "\n",
              "[5795 rows x 2 columns]"
            ],
            "text/html": [
              "\n",
              "  <div id=\"df-f0e5952f-7d00-4cab-b7c2-d472b81c3869\">\n",
              "    <div class=\"colab-df-container\">\n",
              "      <div>\n",
              "<style scoped>\n",
              "    .dataframe tbody tr th:only-of-type {\n",
              "        vertical-align: middle;\n",
              "    }\n",
              "\n",
              "    .dataframe tbody tr th {\n",
              "        vertical-align: top;\n",
              "    }\n",
              "\n",
              "    .dataframe thead th {\n",
              "        text-align: right;\n",
              "    }\n",
              "</style>\n",
              "<table border=\"1\" class=\"dataframe\">\n",
              "  <thead>\n",
              "    <tr style=\"text-align: right;\">\n",
              "      <th></th>\n",
              "      <th>Date</th>\n",
              "      <th>USD LG38TRUU</th>\n",
              "    </tr>\n",
              "  </thead>\n",
              "  <tbody>\n",
              "    <tr>\n",
              "      <th>0</th>\n",
              "      <td>1998-12-31</td>\n",
              "      <td>244.2719</td>\n",
              "    </tr>\n",
              "    <tr>\n",
              "      <th>1</th>\n",
              "      <td>1999-01-04</td>\n",
              "      <td>244.2719</td>\n",
              "    </tr>\n",
              "    <tr>\n",
              "      <th>2</th>\n",
              "      <td>1999-01-05</td>\n",
              "      <td>244.2719</td>\n",
              "    </tr>\n",
              "    <tr>\n",
              "      <th>3</th>\n",
              "      <td>1999-01-06</td>\n",
              "      <td>244.2719</td>\n",
              "    </tr>\n",
              "    <tr>\n",
              "      <th>4</th>\n",
              "      <td>1999-01-07</td>\n",
              "      <td>244.2719</td>\n",
              "    </tr>\n",
              "    <tr>\n",
              "      <th>...</th>\n",
              "      <td>...</td>\n",
              "      <td>...</td>\n",
              "    </tr>\n",
              "    <tr>\n",
              "      <th>5790</th>\n",
              "      <td>2022-01-18</td>\n",
              "      <td>491.6966</td>\n",
              "    </tr>\n",
              "    <tr>\n",
              "      <th>5791</th>\n",
              "      <td>2022-01-19</td>\n",
              "      <td>491.8776</td>\n",
              "    </tr>\n",
              "    <tr>\n",
              "      <th>5792</th>\n",
              "      <td>2022-01-20</td>\n",
              "      <td>493.2359</td>\n",
              "    </tr>\n",
              "    <tr>\n",
              "      <th>5793</th>\n",
              "      <td>2022-01-21</td>\n",
              "      <td>493.8587</td>\n",
              "    </tr>\n",
              "    <tr>\n",
              "      <th>5794</th>\n",
              "      <td>2022-01-24</td>\n",
              "      <td>492.5923</td>\n",
              "    </tr>\n",
              "  </tbody>\n",
              "</table>\n",
              "<p>5795 rows × 2 columns</p>\n",
              "</div>\n",
              "      <button class=\"colab-df-convert\" onclick=\"convertToInteractive('df-f0e5952f-7d00-4cab-b7c2-d472b81c3869')\"\n",
              "              title=\"Convert this dataframe to an interactive table.\"\n",
              "              style=\"display:none;\">\n",
              "        \n",
              "  <svg xmlns=\"http://www.w3.org/2000/svg\" height=\"24px\"viewBox=\"0 0 24 24\"\n",
              "       width=\"24px\">\n",
              "    <path d=\"M0 0h24v24H0V0z\" fill=\"none\"/>\n",
              "    <path d=\"M18.56 5.44l.94 2.06.94-2.06 2.06-.94-2.06-.94-.94-2.06-.94 2.06-2.06.94zm-11 1L8.5 8.5l.94-2.06 2.06-.94-2.06-.94L8.5 2.5l-.94 2.06-2.06.94zm10 10l.94 2.06.94-2.06 2.06-.94-2.06-.94-.94-2.06-.94 2.06-2.06.94z\"/><path d=\"M17.41 7.96l-1.37-1.37c-.4-.4-.92-.59-1.43-.59-.52 0-1.04.2-1.43.59L10.3 9.45l-7.72 7.72c-.78.78-.78 2.05 0 2.83L4 21.41c.39.39.9.59 1.41.59.51 0 1.02-.2 1.41-.59l7.78-7.78 2.81-2.81c.8-.78.8-2.07 0-2.86zM5.41 20L4 18.59l7.72-7.72 1.47 1.35L5.41 20z\"/>\n",
              "  </svg>\n",
              "      </button>\n",
              "      \n",
              "  <style>\n",
              "    .colab-df-container {\n",
              "      display:flex;\n",
              "      flex-wrap:wrap;\n",
              "      gap: 12px;\n",
              "    }\n",
              "\n",
              "    .colab-df-convert {\n",
              "      background-color: #E8F0FE;\n",
              "      border: none;\n",
              "      border-radius: 50%;\n",
              "      cursor: pointer;\n",
              "      display: none;\n",
              "      fill: #1967D2;\n",
              "      height: 32px;\n",
              "      padding: 0 0 0 0;\n",
              "      width: 32px;\n",
              "    }\n",
              "\n",
              "    .colab-df-convert:hover {\n",
              "      background-color: #E2EBFA;\n",
              "      box-shadow: 0px 1px 2px rgba(60, 64, 67, 0.3), 0px 1px 3px 1px rgba(60, 64, 67, 0.15);\n",
              "      fill: #174EA6;\n",
              "    }\n",
              "\n",
              "    [theme=dark] .colab-df-convert {\n",
              "      background-color: #3B4455;\n",
              "      fill: #D2E3FC;\n",
              "    }\n",
              "\n",
              "    [theme=dark] .colab-df-convert:hover {\n",
              "      background-color: #434B5C;\n",
              "      box-shadow: 0px 1px 3px 1px rgba(0, 0, 0, 0.15);\n",
              "      filter: drop-shadow(0px 1px 2px rgba(0, 0, 0, 0.3));\n",
              "      fill: #FFFFFF;\n",
              "    }\n",
              "  </style>\n",
              "\n",
              "      <script>\n",
              "        const buttonEl =\n",
              "          document.querySelector('#df-f0e5952f-7d00-4cab-b7c2-d472b81c3869 button.colab-df-convert');\n",
              "        buttonEl.style.display =\n",
              "          google.colab.kernel.accessAllowed ? 'block' : 'none';\n",
              "\n",
              "        async function convertToInteractive(key) {\n",
              "          const element = document.querySelector('#df-f0e5952f-7d00-4cab-b7c2-d472b81c3869');\n",
              "          const dataTable =\n",
              "            await google.colab.kernel.invokeFunction('convertToInteractive',\n",
              "                                                     [key], {});\n",
              "          if (!dataTable) return;\n",
              "\n",
              "          const docLinkHtml = 'Like what you see? Visit the ' +\n",
              "            '<a target=\"_blank\" href=https://colab.research.google.com/notebooks/data_table.ipynb>data table notebook</a>'\n",
              "            + ' to learn more about interactive tables.';\n",
              "          element.innerHTML = '';\n",
              "          dataTable['output_type'] = 'display_data';\n",
              "          await google.colab.output.renderOutput(dataTable, element);\n",
              "          const docLink = document.createElement('div');\n",
              "          docLink.innerHTML = docLinkHtml;\n",
              "          element.appendChild(docLink);\n",
              "        }\n",
              "      </script>\n",
              "    </div>\n",
              "  </div>\n",
              "  "
            ]
          },
          "metadata": {},
          "execution_count": 55
        }
      ]
    },
    {
      "cell_type": "code",
      "source": [
        "tot_df = pd.merge(df_benchmark,painel, on = 'Date')\n",
        "tot_df"
      ],
      "metadata": {
        "colab": {
          "base_uri": "https://localhost:8080/",
          "height": 328
        },
        "id": "poPE9qeUmlLj",
        "outputId": "a7725d02-7fe0-4d60-b219-f881a3e3ad21"
      },
      "execution_count": 56,
      "outputs": [
        {
          "output_type": "error",
          "ename": "KeyError",
          "evalue": "ignored",
          "traceback": [
            "\u001b[0;31m---------------------------------------------------------------------------\u001b[0m",
            "\u001b[0;31mKeyError\u001b[0m                                  Traceback (most recent call last)",
            "\u001b[0;32m<ipython-input-56-d2548069b979>\u001b[0m in \u001b[0;36m<module>\u001b[0;34m()\u001b[0m\n\u001b[0;32m----> 1\u001b[0;31m \u001b[0mtot_df\u001b[0m \u001b[0;34m=\u001b[0m \u001b[0mpd\u001b[0m\u001b[0;34m.\u001b[0m\u001b[0mmerge\u001b[0m\u001b[0;34m(\u001b[0m\u001b[0mdf_benchmark\u001b[0m\u001b[0;34m,\u001b[0m\u001b[0mpainel\u001b[0m\u001b[0;34m,\u001b[0m \u001b[0mon\u001b[0m \u001b[0;34m=\u001b[0m \u001b[0;34m'Date'\u001b[0m\u001b[0;34m)\u001b[0m\u001b[0;34m\u001b[0m\u001b[0;34m\u001b[0m\u001b[0m\n\u001b[0m\u001b[1;32m      2\u001b[0m \u001b[0mtot_df\u001b[0m\u001b[0;34m\u001b[0m\u001b[0;34m\u001b[0m\u001b[0m\n",
            "\u001b[0;32m/usr/local/lib/python3.7/dist-packages/pandas/core/reshape/merge.py\u001b[0m in \u001b[0;36mmerge\u001b[0;34m(left, right, how, on, left_on, right_on, left_index, right_index, sort, suffixes, copy, indicator, validate)\u001b[0m\n\u001b[1;32m    117\u001b[0m         \u001b[0mcopy\u001b[0m\u001b[0;34m=\u001b[0m\u001b[0mcopy\u001b[0m\u001b[0;34m,\u001b[0m\u001b[0;34m\u001b[0m\u001b[0;34m\u001b[0m\u001b[0m\n\u001b[1;32m    118\u001b[0m         \u001b[0mindicator\u001b[0m\u001b[0;34m=\u001b[0m\u001b[0mindicator\u001b[0m\u001b[0;34m,\u001b[0m\u001b[0;34m\u001b[0m\u001b[0;34m\u001b[0m\u001b[0m\n\u001b[0;32m--> 119\u001b[0;31m         \u001b[0mvalidate\u001b[0m\u001b[0;34m=\u001b[0m\u001b[0mvalidate\u001b[0m\u001b[0;34m,\u001b[0m\u001b[0;34m\u001b[0m\u001b[0;34m\u001b[0m\u001b[0m\n\u001b[0m\u001b[1;32m    120\u001b[0m     )\n\u001b[1;32m    121\u001b[0m     \u001b[0;32mreturn\u001b[0m \u001b[0mop\u001b[0m\u001b[0;34m.\u001b[0m\u001b[0mget_result\u001b[0m\u001b[0;34m(\u001b[0m\u001b[0;34m)\u001b[0m\u001b[0;34m\u001b[0m\u001b[0;34m\u001b[0m\u001b[0m\n",
            "\u001b[0;32m/usr/local/lib/python3.7/dist-packages/pandas/core/reshape/merge.py\u001b[0m in \u001b[0;36m__init__\u001b[0;34m(self, left, right, how, on, left_on, right_on, axis, left_index, right_index, sort, suffixes, copy, indicator, validate)\u001b[0m\n\u001b[1;32m    697\u001b[0m             \u001b[0mself\u001b[0m\u001b[0;34m.\u001b[0m\u001b[0mright_join_keys\u001b[0m\u001b[0;34m,\u001b[0m\u001b[0;34m\u001b[0m\u001b[0;34m\u001b[0m\u001b[0m\n\u001b[1;32m    698\u001b[0m             \u001b[0mself\u001b[0m\u001b[0;34m.\u001b[0m\u001b[0mjoin_names\u001b[0m\u001b[0;34m,\u001b[0m\u001b[0;34m\u001b[0m\u001b[0;34m\u001b[0m\u001b[0m\n\u001b[0;32m--> 699\u001b[0;31m         ) = self._get_merge_keys()\n\u001b[0m\u001b[1;32m    700\u001b[0m \u001b[0;34m\u001b[0m\u001b[0m\n\u001b[1;32m    701\u001b[0m         \u001b[0;31m# validate the merge keys dtypes. We may need to coerce\u001b[0m\u001b[0;34m\u001b[0m\u001b[0;34m\u001b[0m\u001b[0;34m\u001b[0m\u001b[0m\n",
            "\u001b[0;32m/usr/local/lib/python3.7/dist-packages/pandas/core/reshape/merge.py\u001b[0m in \u001b[0;36m_get_merge_keys\u001b[0;34m(self)\u001b[0m\n\u001b[1;32m   1094\u001b[0m                     \u001b[0;32mif\u001b[0m \u001b[0;32mnot\u001b[0m \u001b[0mis_rkey\u001b[0m\u001b[0;34m(\u001b[0m\u001b[0mrk\u001b[0m\u001b[0;34m)\u001b[0m\u001b[0;34m:\u001b[0m\u001b[0;34m\u001b[0m\u001b[0;34m\u001b[0m\u001b[0m\n\u001b[1;32m   1095\u001b[0m                         \u001b[0;32mif\u001b[0m \u001b[0mrk\u001b[0m \u001b[0;32mis\u001b[0m \u001b[0;32mnot\u001b[0m \u001b[0;32mNone\u001b[0m\u001b[0;34m:\u001b[0m\u001b[0;34m\u001b[0m\u001b[0;34m\u001b[0m\u001b[0m\n\u001b[0;32m-> 1096\u001b[0;31m                             \u001b[0mright_keys\u001b[0m\u001b[0;34m.\u001b[0m\u001b[0mappend\u001b[0m\u001b[0;34m(\u001b[0m\u001b[0mright\u001b[0m\u001b[0;34m.\u001b[0m\u001b[0m_get_label_or_level_values\u001b[0m\u001b[0;34m(\u001b[0m\u001b[0mrk\u001b[0m\u001b[0;34m)\u001b[0m\u001b[0;34m)\u001b[0m\u001b[0;34m\u001b[0m\u001b[0;34m\u001b[0m\u001b[0m\n\u001b[0m\u001b[1;32m   1097\u001b[0m                         \u001b[0;32melse\u001b[0m\u001b[0;34m:\u001b[0m\u001b[0;34m\u001b[0m\u001b[0;34m\u001b[0m\u001b[0m\n\u001b[1;32m   1098\u001b[0m                             \u001b[0;31m# work-around for merge_asof(right_index=True)\u001b[0m\u001b[0;34m\u001b[0m\u001b[0;34m\u001b[0m\u001b[0;34m\u001b[0m\u001b[0m\n",
            "\u001b[0;32m/usr/local/lib/python3.7/dist-packages/pandas/core/generic.py\u001b[0m in \u001b[0;36m_get_label_or_level_values\u001b[0;34m(self, key, axis)\u001b[0m\n\u001b[1;32m   1777\u001b[0m             \u001b[0mvalues\u001b[0m \u001b[0;34m=\u001b[0m \u001b[0mself\u001b[0m\u001b[0;34m.\u001b[0m\u001b[0maxes\u001b[0m\u001b[0;34m[\u001b[0m\u001b[0maxis\u001b[0m\u001b[0;34m]\u001b[0m\u001b[0;34m.\u001b[0m\u001b[0mget_level_values\u001b[0m\u001b[0;34m(\u001b[0m\u001b[0mkey\u001b[0m\u001b[0;34m)\u001b[0m\u001b[0;34m.\u001b[0m\u001b[0m_values\u001b[0m\u001b[0;34m\u001b[0m\u001b[0;34m\u001b[0m\u001b[0m\n\u001b[1;32m   1778\u001b[0m         \u001b[0;32melse\u001b[0m\u001b[0;34m:\u001b[0m\u001b[0;34m\u001b[0m\u001b[0;34m\u001b[0m\u001b[0m\n\u001b[0;32m-> 1779\u001b[0;31m             \u001b[0;32mraise\u001b[0m \u001b[0mKeyError\u001b[0m\u001b[0;34m(\u001b[0m\u001b[0mkey\u001b[0m\u001b[0;34m)\u001b[0m\u001b[0;34m\u001b[0m\u001b[0;34m\u001b[0m\u001b[0m\n\u001b[0m\u001b[1;32m   1780\u001b[0m \u001b[0;34m\u001b[0m\u001b[0m\n\u001b[1;32m   1781\u001b[0m         \u001b[0;31m# Check for duplicates\u001b[0m\u001b[0;34m\u001b[0m\u001b[0;34m\u001b[0m\u001b[0;34m\u001b[0m\u001b[0m\n",
            "\u001b[0;31mKeyError\u001b[0m: 'Date'"
          ]
        }
      ]
    },
    {
      "cell_type": "code",
      "source": [
        "corr_etfs = tot_df.corr()\n",
        "gla_etfs = corr_etfs['USD LG38TRUU']\n",
        "\n",
        "etfs_eleitos = gla_etfs.loc[gla_etfs > 0.91]\n",
        "\n",
        "a = list(etfs_eleitos.index)\n",
        "a.append('Date')\n",
        "b = tot_df[a]\n",
        "b = b.set_index('Date')"
      ],
      "metadata": {
        "id": "OFmJvmOYryyR"
      },
      "execution_count": null,
      "outputs": []
    },
    {
      "cell_type": "code",
      "source": [
        "#localizando onde a série começa \n",
        "b['Guggenheim BulletShares 2027 Corporate Bond'].isnull().sum()\n"
      ],
      "metadata": {
        "id": "iP3sM6QP2cHW"
      },
      "execution_count": null,
      "outputs": []
    },
    {
      "cell_type": "code",
      "source": [
        "b['Guggenheim BulletShares 2027 Corporate Bond'].iloc[950:]"
      ],
      "metadata": {
        "id": "03OA9p9DDpcd"
      },
      "execution_count": null,
      "outputs": []
    },
    {
      "cell_type": "code",
      "source": [
        "b = b.loc['20181128':]\n",
        "c = b /b.loc['20181128']\n",
        "c.plot(figsize = (21,9))"
      ],
      "metadata": {
        "id": "_-JxWVTowPFW"
      },
      "execution_count": null,
      "outputs": []
    },
    {
      "cell_type": "markdown",
      "source": [
        "## <font color = '009dcf'> Cáculo de Tracking Error\n",
        "![image.png](data:image/png;base64,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)"
      ],
      "metadata": {
        "id": "ngcsI0gbMmUR"
      }
    },
    {
      "cell_type": "code",
      "source": [
        "d = b.pct_change()\n",
        "d = d[1:]\n",
        "d\n",
        "\n"
      ],
      "metadata": {
        "id": "DiFJOOxkMlsj"
      },
      "execution_count": null,
      "outputs": []
    },
    {
      "cell_type": "code",
      "source": [
        "TE = ((d['USD LG38TRUU'] - d['SPDR Barclays International Treasury Bond'])**2)\n",
        "TE = np.sqrt(sum(TE))\n",
        "TE"
      ],
      "metadata": {
        "id": "xhKkZtw3S2TE"
      },
      "execution_count": null,
      "outputs": []
    }
  ]
}