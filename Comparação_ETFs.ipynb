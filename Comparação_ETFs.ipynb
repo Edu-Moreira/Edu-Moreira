{
  "nbformat": 4,
  "nbformat_minor": 0,
  "metadata": {
    "colab": {
      "name": "Comparação ETFs.ipynb",
      "provenance": [],
      "authorship_tag": "ABX9TyNp6g/H1hkYmsk0w9eXJU86",
      "include_colab_link": true
    },
    "kernelspec": {
      "name": "python3",
      "display_name": "Python 3"
    },
    "language_info": {
      "name": "python"
    }
  },
  "cells": [
    {
      "cell_type": "markdown",
      "metadata": {
        "id": "view-in-github",
        "colab_type": "text"
      },
      "source": [
        "<a href=\"https://colab.research.google.com/github/Edu-Moreira/Edu-Moreira/blob/main/Compara%C3%A7%C3%A3o_ETFs.ipynb\" target=\"_parent\"><img src=\"https://colab.research.google.com/assets/colab-badge.svg\" alt=\"Open In Colab\"/></a>"
      ]
    },
    {
      "cell_type": "code",
      "execution_count": 3,
      "metadata": {
        "colab": {
          "base_uri": "https://localhost:8080/"
        },
        "id": "uL2-zRHOHQxL",
        "outputId": "66a99cbb-13f9-4e46-b77a-99dd6251eddc"
      },
      "outputs": [
        {
          "output_type": "stream",
          "name": "stdout",
          "text": [
            "Requirement already satisfied: investpy in /usr/local/lib/python3.7/dist-packages (1.0.8)\n",
            "Requirement already satisfied: pandas>=0.25.1 in /usr/local/lib/python3.7/dist-packages (from investpy) (1.3.5)\n",
            "Requirement already satisfied: numpy>=1.17.2 in /usr/local/lib/python3.7/dist-packages (from investpy) (1.21.5)\n",
            "Requirement already satisfied: Unidecode>=1.1.1 in /usr/local/lib/python3.7/dist-packages (from investpy) (1.3.4)\n",
            "Requirement already satisfied: setuptools>=41.2.0 in /usr/local/lib/python3.7/dist-packages (from investpy) (57.4.0)\n",
            "Requirement already satisfied: lxml>=4.4.1 in /usr/local/lib/python3.7/dist-packages (from investpy) (4.8.0)\n",
            "Requirement already satisfied: pytz>=2019.3 in /usr/local/lib/python3.7/dist-packages (from investpy) (2022.1)\n",
            "Requirement already satisfied: requests>=2.22.0 in /usr/local/lib/python3.7/dist-packages (from investpy) (2.23.0)\n",
            "Requirement already satisfied: python-dateutil>=2.7.3 in /usr/local/lib/python3.7/dist-packages (from pandas>=0.25.1->investpy) (2.8.2)\n",
            "Requirement already satisfied: six>=1.5 in /usr/local/lib/python3.7/dist-packages (from python-dateutil>=2.7.3->pandas>=0.25.1->investpy) (1.15.0)\n",
            "Requirement already satisfied: urllib3!=1.25.0,!=1.25.1,<1.26,>=1.21.1 in /usr/local/lib/python3.7/dist-packages (from requests>=2.22.0->investpy) (1.24.3)\n",
            "Requirement already satisfied: certifi>=2017.4.17 in /usr/local/lib/python3.7/dist-packages (from requests>=2.22.0->investpy) (2021.10.8)\n",
            "Requirement already satisfied: chardet<4,>=3.0.2 in /usr/local/lib/python3.7/dist-packages (from requests>=2.22.0->investpy) (3.0.4)\n",
            "Requirement already satisfied: idna<3,>=2.5 in /usr/local/lib/python3.7/dist-packages (from requests>=2.22.0->investpy) (2.10)\n"
          ]
        }
      ],
      "source": [
        "! pip install investpy "
      ]
    },
    {
      "cell_type": "code",
      "source": [
        "import investpy as inv\n",
        "import pandas as pd \n",
        "import seaborn as sns \n",
        "import time\n",
        "import matplotlib.pyplot as plt \n",
        "import datetime as dt"
      ],
      "metadata": {
        "id": "aolh1VdvHWty"
      },
      "execution_count": 55,
      "outputs": []
    },
    {
      "cell_type": "code",
      "source": [
        "hoje = dt.date.today()\n",
        "hoje = hoje.strftime('%d/%m/%Y')\n",
        "print(hoje)\n",
        "\n",
        "pais = 'united states'\n",
        "\n",
        "tipo_etf = 'bond'"
      ],
      "metadata": {
        "colab": {
          "base_uri": "https://localhost:8080/"
        },
        "id": "xybrD6HKJsft",
        "outputId": "10730f42-31e2-4519-9b64-6d38e06f7e5a"
      },
      "execution_count": 5,
      "outputs": [
        {
          "output_type": "stream",
          "name": "stdout",
          "text": [
            "23/03/2022\n"
          ]
        }
      ]
    },
    {
      "cell_type": "code",
      "source": [
        "# obtendo a lista de todos os ETFs dos Estados Unidos no Investing.com\n",
        "\n",
        "lista_etf = inv.get_etfs_dict(pais)\n"
      ],
      "metadata": {
        "id": "2O3IPCIMHhdB"
      },
      "execution_count": 6,
      "outputs": []
    },
    {
      "cell_type": "code",
      "source": [
        "# Para buscar informações especificas de cada ETF \n",
        "'''\n",
        "for i in range(len(lista_etf)):\n",
        "    if (lista_etf[i]['isin']=='US46434V6130'):\n",
        "        info = lista_etf[i]['name']\n",
        "'''\n",
        "\n",
        "#Obetndo lista com o nome de todos os ETFs\n",
        "nome_etf = []\n",
        "\n",
        "for i in range(len(lista_etf)):\n",
        "  if (lista_etf[i]['asset_class']== tipo_etf):\n",
        "    nome_etf.append(lista_etf[i]['name'])  "
      ],
      "metadata": {
        "id": "OrqWwLtjH5g3"
      },
      "execution_count": 7,
      "outputs": []
    },
    {
      "cell_type": "code",
      "source": [
        "nome_etf_filtro  = []\n",
        "filtro = [s for s in nome_etf if \"High Yield\" in s]\n",
        "\n",
        "for i in range(len(nome_etf)):\n",
        "  if(nome_etf[i] == any(filtro)):\n",
        "    nome_etf.drop(nome_etf[i])"
      ],
      "metadata": {
        "id": "pW9-3HxSNIOU"
      },
      "execution_count": 8,
      "outputs": []
    },
    {
      "cell_type": "code",
      "source": [
        "lista_nomes = []\n",
        "\n",
        "r = len(nome_etf)%10\n",
        "for i in range(r+1):\n",
        "  lista_nomes.append(nome_etf[(i*10):((i*10)+10)])\n",
        "\n"
      ],
      "metadata": {
        "id": "WtGCYoZ6piAi"
      },
      "execution_count": 37,
      "outputs": []
    },
    {
      "cell_type": "code",
      "source": [
        "range(len(lista_nomes))"
      ],
      "metadata": {
        "id": "Hl6XQQ2_o8CK",
        "outputId": "506c7f57-49c4-45ce-e2ae-da003ad7eea7",
        "colab": {
          "base_uri": "https://localhost:8080/"
        }
      },
      "execution_count": 54,
      "outputs": [
        {
          "output_type": "execute_result",
          "data": {
            "text/plain": [
              "range(0, 8)"
            ]
          },
          "metadata": {},
          "execution_count": 54
        }
      ]
    },
    {
      "cell_type": "code",
      "source": [
        "nome_etf1 = nome_etf[:3]\n",
        "nome_etf2 = nome_etf[158:]\n",
        "nome_etf1"
      ],
      "metadata": {
        "colab": {
          "base_uri": "https://localhost:8080/"
        },
        "id": "WCeI14g2QyA3",
        "outputId": "1d9c8950-1d41-45f8-9426-f7a9a96723fc"
      },
      "execution_count": 9,
      "outputs": [
        {
          "output_type": "execute_result",
          "data": {
            "text/plain": [
              "['Peritus High Yield',\n",
              " 'Newfleet Multi-Sector Income',\n",
              " 'AdvisorShares Sage Core Reserves']"
            ]
          },
          "metadata": {},
          "execution_count": 9
        }
      ]
    },
    {
      "cell_type": "code",
      "source": [
        "str_match = [s for s in nome_etf if \"High Yield\" in s]\n",
        "print(str_match)"
      ],
      "metadata": {
        "colab": {
          "base_uri": "https://localhost:8080/"
        },
        "id": "eR1y-J2ZPOcG",
        "outputId": "a76d29b0-5bc8-4161-ea4c-1846f55b0ce5"
      },
      "execution_count": 10,
      "outputs": [
        {
          "output_type": "stream",
          "name": "stdout",
          "text": [
            "['Peritus High Yield', 'iShares $ High Yield Corp Bond Acc Share Class', 'Deutsche Bank FI Enhanced Global High Yield', 'Deutsche X-trackers High Yield Corporate Bond Inte', 'Fidelity High Yield Factor', 'First Trust Tactical High Yield', 'FlexShares High Yield Value-Scored Bond Index', 'Guggenheim BulletShares 2022 High Yield Corp Bond', 'Guggenheim Invest BulletShares 2020 High Yield Cor', 'Guggenheim BulletShares 2021 High Yield Corp Bond', 'Guggenheim Invest BulletShares 2019 High Yield Cor', 'Guggenheim BulletShares 2023 High Yield Corp Bond', 'Guggenheim BulletShares 2025 High Yield Corporate', 'Invesco BulletShares 2026 High Yield Corporate Bon', 'iShares iBoxx $ High Yield Corporate Bond', 'iShares 0-5 Year High Yield Corporate Bond', 'iShares Broad USD High Yield Corporate Bond', 'iShares Emerging Markets High Yield Bond', 'iShares Global High Yield Corporate Bond', 'iShares iBonds 2021 Term High Yield and Income', 'iShares Interest Rate Hedged High Yield Bond', 'iShares iBonds 2025 Term High Yield and Income', 'iShares iBonds 2023 Term High Yield and Income', 'iShares Int High Yield Bond', 'iShares iBonds 2022 Term High Yield and Income', 'iShares iBonds 2024 Term High Yield and Income', 'PIMCO 0-5 Year High Yield Corporate Bond', 'PowerShares amental High Yield Corporate Bond Port', 'PowerShares Global Short Term High Yield Bond Port', 'ProShares Short High Yield', 'ProShares High Yield Interest Rate', 'ProShares Ultra High Yield', 'SPDR Barclays High Yield Bond', 'SPDR Barclays Short Term High Yield Bond', 'SPDR Nuveen S&P High Yield Municipal Bond', 'SPDR Portfolio High Yield Bond', 'VanEck Vectors Fallen Angel High Yield Bond', 'VanEck Emg Mkts High Yield Bd', 'VanEck Vectors International High Yield Bond', 'WisdomTree Interest Rate Hedged High Yield Bond Fd', 'WisdomTree Negative Duration High Yield Bond', 'WisdomTree Fundamental U.S. High Yield Corporate B', 'Xtrackers Low Beta High Yield Bond', 'Xtrackers High Beta High Yield Bond', 'Xtrackers Short Duration High Yield']\n"
          ]
        }
      ]
    },
    {
      "cell_type": "code",
      "source": [
        "painel = pd.DataFrame()\n",
        "\n",
        "for i in range(len(lista_nomes)):\n",
        "  for j in lista_nomes[i]:\n",
        "    painel[i+j] = inv.get_etf_historical_data(etf = j,country = pais, from_date = '01/01/1999',to_date = hoje)['Close']\n",
        "    time.sleep(60)\n",
        "\n"
      ],
      "metadata": {
        "colab": {
          "base_uri": "https://localhost:8080/",
          "height": 725
        },
        "id": "XQg7GdKUI8WO",
        "outputId": "a9be8b2c-a3ba-4295-fddf-67df423a8ceb"
      },
      "execution_count": 42,
      "outputs": [
        {
          "output_type": "execute_result",
          "data": {
            "text/plain": [
              "            Peritus High Yield  Newfleet Multi-Sector Income  \\\n",
              "Date                                                           \n",
              "2010-12-02               50.20                           NaN   \n",
              "2010-12-03               50.10                           NaN   \n",
              "2010-12-06               50.07                           NaN   \n",
              "2010-12-07               50.11                           NaN   \n",
              "2010-12-08               50.15                           NaN   \n",
              "...                        ...                           ...   \n",
              "2022-03-17               28.91                         46.95   \n",
              "2022-03-18               28.91                         47.15   \n",
              "2022-03-21               28.63                         46.86   \n",
              "2022-03-22               28.64                         46.92   \n",
              "2022-03-23               28.79                         46.85   \n",
              "\n",
              "            AdvisorShares Sage Core Reserves  Madrona Global Bond  \\\n",
              "Date                                                                \n",
              "2010-12-02                               NaN                  NaN   \n",
              "2010-12-03                               NaN                  NaN   \n",
              "2010-12-06                               NaN                  NaN   \n",
              "2010-12-07                               NaN                  NaN   \n",
              "2010-12-08                               NaN                  NaN   \n",
              "...                                      ...                  ...   \n",
              "2022-03-17                             97.79                  NaN   \n",
              "2022-03-18                             97.90                  NaN   \n",
              "2022-03-21                             97.83                  NaN   \n",
              "2022-03-22                             97.74                  NaN   \n",
              "2022-03-23                               NaN                  NaN   \n",
              "\n",
              "            Anfield Universal Fixed Income  ALPS RiverFront Strategic Income  \\\n",
              "Date                                                                           \n",
              "2010-12-02                             NaN                               NaN   \n",
              "2010-12-03                             NaN                               NaN   \n",
              "2010-12-06                             NaN                               NaN   \n",
              "2010-12-07                             NaN                               NaN   \n",
              "2010-12-08                             NaN                               NaN   \n",
              "...                                    ...                               ...   \n",
              "2022-03-17                           9.245                             23.70   \n",
              "2022-03-18                           9.270                             23.73   \n",
              "2022-03-21                           9.180                             23.60   \n",
              "2022-03-22                           9.215                             23.64   \n",
              "2022-03-23                             NaN                             23.62   \n",
              "\n",
              "            American Century Diversified Corporate Bond  \\\n",
              "Date                                                      \n",
              "2010-12-02                                          NaN   \n",
              "2010-12-03                                          NaN   \n",
              "2010-12-06                                          NaN   \n",
              "2010-12-07                                          NaN   \n",
              "2010-12-08                                          NaN   \n",
              "...                                                 ...   \n",
              "2022-03-17                                        49.10   \n",
              "2022-03-18                                        49.07   \n",
              "2022-03-21                                        48.75   \n",
              "2022-03-22                                        48.70   \n",
              "2022-03-23                                        48.65   \n",
              "\n",
              "            Arrow Dow Jones Global Yield  \\\n",
              "Date                                       \n",
              "2010-12-02                           NaN   \n",
              "2010-12-03                           NaN   \n",
              "2010-12-06                           NaN   \n",
              "2010-12-07                           NaN   \n",
              "2010-12-08                           NaN   \n",
              "...                                  ...   \n",
              "2022-03-17                         14.00   \n",
              "2022-03-18                         14.22   \n",
              "2022-03-21                         14.32   \n",
              "2022-03-22                         14.28   \n",
              "2022-03-23                         14.39   \n",
              "\n",
              "            iShares iBonds Dec 2025 Term Muni Bond  \\\n",
              "Date                                                 \n",
              "2010-12-02                                     NaN   \n",
              "2010-12-03                                     NaN   \n",
              "2010-12-06                                     NaN   \n",
              "2010-12-07                                     NaN   \n",
              "2010-12-08                                     NaN   \n",
              "...                                            ...   \n",
              "2022-03-17                                   26.86   \n",
              "2022-03-18                                   26.89   \n",
              "2022-03-21                                   26.82   \n",
              "2022-03-22                                   26.79   \n",
              "2022-03-23                                   26.79   \n",
              "\n",
              "            iShares Inflation Hedged Corporate Bond  \n",
              "Date                                                 \n",
              "2010-12-02                                      NaN  \n",
              "2010-12-03                                      NaN  \n",
              "2010-12-06                                      NaN  \n",
              "2010-12-07                                      NaN  \n",
              "2010-12-08                                      NaN  \n",
              "...                                             ...  \n",
              "2022-03-17                                    29.25  \n",
              "2022-03-18                                    29.28  \n",
              "2022-03-21                                    29.02  \n",
              "2022-03-22                                    28.89  \n",
              "2022-03-23                                    28.95  \n",
              "\n",
              "[2874 rows x 10 columns]"
            ],
            "text/html": [
              "\n",
              "  <div id=\"df-78c17c5d-948b-4225-ad6b-76f39227850b\">\n",
              "    <div class=\"colab-df-container\">\n",
              "      <div>\n",
              "<style scoped>\n",
              "    .dataframe tbody tr th:only-of-type {\n",
              "        vertical-align: middle;\n",
              "    }\n",
              "\n",
              "    .dataframe tbody tr th {\n",
              "        vertical-align: top;\n",
              "    }\n",
              "\n",
              "    .dataframe thead th {\n",
              "        text-align: right;\n",
              "    }\n",
              "</style>\n",
              "<table border=\"1\" class=\"dataframe\">\n",
              "  <thead>\n",
              "    <tr style=\"text-align: right;\">\n",
              "      <th></th>\n",
              "      <th>Peritus High Yield</th>\n",
              "      <th>Newfleet Multi-Sector Income</th>\n",
              "      <th>AdvisorShares Sage Core Reserves</th>\n",
              "      <th>Madrona Global Bond</th>\n",
              "      <th>Anfield Universal Fixed Income</th>\n",
              "      <th>ALPS RiverFront Strategic Income</th>\n",
              "      <th>American Century Diversified Corporate Bond</th>\n",
              "      <th>Arrow Dow Jones Global Yield</th>\n",
              "      <th>iShares iBonds Dec 2025 Term Muni Bond</th>\n",
              "      <th>iShares Inflation Hedged Corporate Bond</th>\n",
              "    </tr>\n",
              "    <tr>\n",
              "      <th>Date</th>\n",
              "      <th></th>\n",
              "      <th></th>\n",
              "      <th></th>\n",
              "      <th></th>\n",
              "      <th></th>\n",
              "      <th></th>\n",
              "      <th></th>\n",
              "      <th></th>\n",
              "      <th></th>\n",
              "      <th></th>\n",
              "    </tr>\n",
              "  </thead>\n",
              "  <tbody>\n",
              "    <tr>\n",
              "      <th>2010-12-02</th>\n",
              "      <td>50.20</td>\n",
              "      <td>NaN</td>\n",
              "      <td>NaN</td>\n",
              "      <td>NaN</td>\n",
              "      <td>NaN</td>\n",
              "      <td>NaN</td>\n",
              "      <td>NaN</td>\n",
              "      <td>NaN</td>\n",
              "      <td>NaN</td>\n",
              "      <td>NaN</td>\n",
              "    </tr>\n",
              "    <tr>\n",
              "      <th>2010-12-03</th>\n",
              "      <td>50.10</td>\n",
              "      <td>NaN</td>\n",
              "      <td>NaN</td>\n",
              "      <td>NaN</td>\n",
              "      <td>NaN</td>\n",
              "      <td>NaN</td>\n",
              "      <td>NaN</td>\n",
              "      <td>NaN</td>\n",
              "      <td>NaN</td>\n",
              "      <td>NaN</td>\n",
              "    </tr>\n",
              "    <tr>\n",
              "      <th>2010-12-06</th>\n",
              "      <td>50.07</td>\n",
              "      <td>NaN</td>\n",
              "      <td>NaN</td>\n",
              "      <td>NaN</td>\n",
              "      <td>NaN</td>\n",
              "      <td>NaN</td>\n",
              "      <td>NaN</td>\n",
              "      <td>NaN</td>\n",
              "      <td>NaN</td>\n",
              "      <td>NaN</td>\n",
              "    </tr>\n",
              "    <tr>\n",
              "      <th>2010-12-07</th>\n",
              "      <td>50.11</td>\n",
              "      <td>NaN</td>\n",
              "      <td>NaN</td>\n",
              "      <td>NaN</td>\n",
              "      <td>NaN</td>\n",
              "      <td>NaN</td>\n",
              "      <td>NaN</td>\n",
              "      <td>NaN</td>\n",
              "      <td>NaN</td>\n",
              "      <td>NaN</td>\n",
              "    </tr>\n",
              "    <tr>\n",
              "      <th>2010-12-08</th>\n",
              "      <td>50.15</td>\n",
              "      <td>NaN</td>\n",
              "      <td>NaN</td>\n",
              "      <td>NaN</td>\n",
              "      <td>NaN</td>\n",
              "      <td>NaN</td>\n",
              "      <td>NaN</td>\n",
              "      <td>NaN</td>\n",
              "      <td>NaN</td>\n",
              "      <td>NaN</td>\n",
              "    </tr>\n",
              "    <tr>\n",
              "      <th>...</th>\n",
              "      <td>...</td>\n",
              "      <td>...</td>\n",
              "      <td>...</td>\n",
              "      <td>...</td>\n",
              "      <td>...</td>\n",
              "      <td>...</td>\n",
              "      <td>...</td>\n",
              "      <td>...</td>\n",
              "      <td>...</td>\n",
              "      <td>...</td>\n",
              "    </tr>\n",
              "    <tr>\n",
              "      <th>2022-03-17</th>\n",
              "      <td>28.91</td>\n",
              "      <td>46.95</td>\n",
              "      <td>97.79</td>\n",
              "      <td>NaN</td>\n",
              "      <td>9.245</td>\n",
              "      <td>23.70</td>\n",
              "      <td>49.10</td>\n",
              "      <td>14.00</td>\n",
              "      <td>26.86</td>\n",
              "      <td>29.25</td>\n",
              "    </tr>\n",
              "    <tr>\n",
              "      <th>2022-03-18</th>\n",
              "      <td>28.91</td>\n",
              "      <td>47.15</td>\n",
              "      <td>97.90</td>\n",
              "      <td>NaN</td>\n",
              "      <td>9.270</td>\n",
              "      <td>23.73</td>\n",
              "      <td>49.07</td>\n",
              "      <td>14.22</td>\n",
              "      <td>26.89</td>\n",
              "      <td>29.28</td>\n",
              "    </tr>\n",
              "    <tr>\n",
              "      <th>2022-03-21</th>\n",
              "      <td>28.63</td>\n",
              "      <td>46.86</td>\n",
              "      <td>97.83</td>\n",
              "      <td>NaN</td>\n",
              "      <td>9.180</td>\n",
              "      <td>23.60</td>\n",
              "      <td>48.75</td>\n",
              "      <td>14.32</td>\n",
              "      <td>26.82</td>\n",
              "      <td>29.02</td>\n",
              "    </tr>\n",
              "    <tr>\n",
              "      <th>2022-03-22</th>\n",
              "      <td>28.64</td>\n",
              "      <td>46.92</td>\n",
              "      <td>97.74</td>\n",
              "      <td>NaN</td>\n",
              "      <td>9.215</td>\n",
              "      <td>23.64</td>\n",
              "      <td>48.70</td>\n",
              "      <td>14.28</td>\n",
              "      <td>26.79</td>\n",
              "      <td>28.89</td>\n",
              "    </tr>\n",
              "    <tr>\n",
              "      <th>2022-03-23</th>\n",
              "      <td>28.79</td>\n",
              "      <td>46.85</td>\n",
              "      <td>NaN</td>\n",
              "      <td>NaN</td>\n",
              "      <td>NaN</td>\n",
              "      <td>23.62</td>\n",
              "      <td>48.65</td>\n",
              "      <td>14.39</td>\n",
              "      <td>26.79</td>\n",
              "      <td>28.95</td>\n",
              "    </tr>\n",
              "  </tbody>\n",
              "</table>\n",
              "<p>2874 rows × 10 columns</p>\n",
              "</div>\n",
              "      <button class=\"colab-df-convert\" onclick=\"convertToInteractive('df-78c17c5d-948b-4225-ad6b-76f39227850b')\"\n",
              "              title=\"Convert this dataframe to an interactive table.\"\n",
              "              style=\"display:none;\">\n",
              "        \n",
              "  <svg xmlns=\"http://www.w3.org/2000/svg\" height=\"24px\"viewBox=\"0 0 24 24\"\n",
              "       width=\"24px\">\n",
              "    <path d=\"M0 0h24v24H0V0z\" fill=\"none\"/>\n",
              "    <path d=\"M18.56 5.44l.94 2.06.94-2.06 2.06-.94-2.06-.94-.94-2.06-.94 2.06-2.06.94zm-11 1L8.5 8.5l.94-2.06 2.06-.94-2.06-.94L8.5 2.5l-.94 2.06-2.06.94zm10 10l.94 2.06.94-2.06 2.06-.94-2.06-.94-.94-2.06-.94 2.06-2.06.94z\"/><path d=\"M17.41 7.96l-1.37-1.37c-.4-.4-.92-.59-1.43-.59-.52 0-1.04.2-1.43.59L10.3 9.45l-7.72 7.72c-.78.78-.78 2.05 0 2.83L4 21.41c.39.39.9.59 1.41.59.51 0 1.02-.2 1.41-.59l7.78-7.78 2.81-2.81c.8-.78.8-2.07 0-2.86zM5.41 20L4 18.59l7.72-7.72 1.47 1.35L5.41 20z\"/>\n",
              "  </svg>\n",
              "      </button>\n",
              "      \n",
              "  <style>\n",
              "    .colab-df-container {\n",
              "      display:flex;\n",
              "      flex-wrap:wrap;\n",
              "      gap: 12px;\n",
              "    }\n",
              "\n",
              "    .colab-df-convert {\n",
              "      background-color: #E8F0FE;\n",
              "      border: none;\n",
              "      border-radius: 50%;\n",
              "      cursor: pointer;\n",
              "      display: none;\n",
              "      fill: #1967D2;\n",
              "      height: 32px;\n",
              "      padding: 0 0 0 0;\n",
              "      width: 32px;\n",
              "    }\n",
              "\n",
              "    .colab-df-convert:hover {\n",
              "      background-color: #E2EBFA;\n",
              "      box-shadow: 0px 1px 2px rgba(60, 64, 67, 0.3), 0px 1px 3px 1px rgba(60, 64, 67, 0.15);\n",
              "      fill: #174EA6;\n",
              "    }\n",
              "\n",
              "    [theme=dark] .colab-df-convert {\n",
              "      background-color: #3B4455;\n",
              "      fill: #D2E3FC;\n",
              "    }\n",
              "\n",
              "    [theme=dark] .colab-df-convert:hover {\n",
              "      background-color: #434B5C;\n",
              "      box-shadow: 0px 1px 3px 1px rgba(0, 0, 0, 0.15);\n",
              "      filter: drop-shadow(0px 1px 2px rgba(0, 0, 0, 0.3));\n",
              "      fill: #FFFFFF;\n",
              "    }\n",
              "  </style>\n",
              "\n",
              "      <script>\n",
              "        const buttonEl =\n",
              "          document.querySelector('#df-78c17c5d-948b-4225-ad6b-76f39227850b button.colab-df-convert');\n",
              "        buttonEl.style.display =\n",
              "          google.colab.kernel.accessAllowed ? 'block' : 'none';\n",
              "\n",
              "        async function convertToInteractive(key) {\n",
              "          const element = document.querySelector('#df-78c17c5d-948b-4225-ad6b-76f39227850b');\n",
              "          const dataTable =\n",
              "            await google.colab.kernel.invokeFunction('convertToInteractive',\n",
              "                                                     [key], {});\n",
              "          if (!dataTable) return;\n",
              "\n",
              "          const docLinkHtml = 'Like what you see? Visit the ' +\n",
              "            '<a target=\"_blank\" href=https://colab.research.google.com/notebooks/data_table.ipynb>data table notebook</a>'\n",
              "            + ' to learn more about interactive tables.';\n",
              "          element.innerHTML = '';\n",
              "          dataTable['output_type'] = 'display_data';\n",
              "          await google.colab.output.renderOutput(dataTable, element);\n",
              "          const docLink = document.createElement('div');\n",
              "          docLink.innerHTML = docLinkHtml;\n",
              "          element.appendChild(docLink);\n",
              "        }\n",
              "      </script>\n",
              "    </div>\n",
              "  </div>\n",
              "  "
            ]
          },
          "metadata": {},
          "execution_count": 42
        }
      ]
    }
  ]
}