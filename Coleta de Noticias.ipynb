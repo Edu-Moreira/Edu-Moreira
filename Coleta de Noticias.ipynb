{
 "cells": [
  {
   "cell_type": "code",
   "execution_count": 2,
   "metadata": {},
   "outputs": [],
   "source": [
    "# pip install --trusted-host pypi.org --trusted-host pypi.python.org --trusted-host files.pythonhosted.org beautifulsoup4"
   ]
  },
  {
   "cell_type": "code",
   "execution_count": null,
   "metadata": {},
   "outputs": [
    {
     "name": "stdout",
     "output_type": "stream",
     "text": [
      "Coletando manchetes do InfoMoney em: 13:15:53\n",
      "Manchetes encontradas:\n",
      "1. Dólar zera alta com falas de Lira e Pacheco após disparar e bater R$ 6,11\n",
      "   Link: https://www.infomoney.com.br/mercados/dolar-hoje-abertura-fechamento-comercial-turismo-29112024/\n",
      "2. Austrália proíbe redes sociais para menores de 16 anos\n",
      "   Link: https://www.youtube.com/watch?v=U-2eQDN5pic\n",
      "3. Ofertas da Black Friday liberadasSaiba como garantir até 20% de Investback em compras\n",
      "   Link: https://lp.xpi.com.br/bf-2024?utm_source=infomoney&utm_medium=promo&utm_campaign=bf-xp&utm_term=hiperlink&utm_content=home&utm_campaign=bf-xp&utm_term=hiperlink&utm_content=home\n",
      "Coletando manchetes do InfoMoney em: 14:15:53\n",
      "Manchetes encontradas:\n",
      "1. Dólar zera alta com falas de Lira e Pacheco após disparar e bater R$ 6,11\n",
      "   Link: https://www.infomoney.com.br/mercados/dolar-hoje-abertura-fechamento-comercial-turismo-29112024/\n",
      "2. Austrália proíbe redes sociais para menores de 16 anos\n",
      "   Link: https://www.youtube.com/watch?v=U-2eQDN5pic\n",
      "3. Ofertas da Black Friday liberadasSaiba como garantir até 20% de Investback em compras\n",
      "   Link: https://lp.xpi.com.br/bf-2024?utm_source=infomoney&utm_medium=promo&utm_campaign=bf-xp&utm_term=hiperlink&utm_content=home&utm_campaign=bf-xp&utm_term=hiperlink&utm_content=home\n",
      "Coletando manchetes do InfoMoney em: 15:15:54\n",
      "Manchetes encontradas:\n",
      "1. Dólar zera alta com falas de Lira e Pacheco após disparar e bater R$ 6,11\n",
      "   Link: https://www.infomoney.com.br/mercados/dolar-hoje-abertura-fechamento-comercial-turismo-29112024/\n",
      "2. Austrália proíbe redes sociais para menores de 16 anos\n",
      "   Link: https://www.youtube.com/watch?v=U-2eQDN5pic\n",
      "3. Ofertas da Black Friday liberadasSaiba como garantir até 20% de Investback em compras\n",
      "   Link: https://lp.xpi.com.br/bf-2024?utm_source=infomoney&utm_medium=promo&utm_campaign=bf-xp&utm_term=hiperlink&utm_content=home&utm_campaign=bf-xp&utm_term=hiperlink&utm_content=home\n"
     ]
    }
   ],
   "source": [
    "import time\n",
    "from datetime import datetime\n",
    "import requests\n",
    "import bs4\n",
    "\n",
    "# Definir o intervalo de tempo\n",
    "start = datetime(2024, 11, 29, 12, 14)\n",
    "end = datetime(2024, 11, 29, 18, 5)\n",
    "\n",
    "while True:\n",
    "    agora = datetime.today()\n",
    "\n",
    "    # Verifica se o horário atual está dentro do intervalo\n",
    "    if start <= agora <= end:\n",
    "        print(f\"Coletando manchetes do InfoMoney em: {agora.strftime('%H:%M:%S')}\")\n",
    "\n",
    "        url = 'https://www.infomoney.com.br'\n",
    "\n",
    "        try:\n",
    "            requisicao = requests.get(url, timeout=10)\n",
    "            requisicao.raise_for_status()  # Verifica erros na requisição\n",
    "        except requests.exceptions.RequestException as e:\n",
    "            print(f\"Erro na requisição: {e}\")\n",
    "            time.sleep(3600)\n",
    "            continue\n",
    "\n",
    "        # Processar o conteúdo HTML da página\n",
    "        pagina = bs4.BeautifulSoup(requisicao.text, 'html.parser')\n",
    "        lista_manchetes = pagina.find_all('a', class_='hover:underline')\n",
    "\n",
    "        # Exibir as manchetes coletadas\n",
    "        if lista_manchetes:\n",
    "            print(\"Manchetes encontradas:\")\n",
    "            for i, noticia in enumerate(lista_manchetes, 1):\n",
    "                titulo = noticia.text.strip()\n",
    "                link = noticia.get('href')\n",
    "                if (i < 4 ):\n",
    "                    print(f\"{i}. {titulo}\")\n",
    "                    print(f\"   Link: {link}\")\n",
    "        else:\n",
    "            print(\"Nenhuma manchete encontrada. Verifique a classe CSS.\")\n",
    "\n",
    "        \n",
    "        time.sleep(3600)\n",
    "    else:\n",
    "        print(\"Fora do intervalo de coleta. Mercado fechado.\")\n",
    "        break\n",
    "\n",
    "\n",
    "    "
   ]
  },
  {
   "cell_type": "code",
   "execution_count": 6,
   "metadata": {},
   "outputs": [
    {
     "name": "stdout",
     "output_type": "stream",
     "text": [
      "1. Dólar zera alta com falas de Lira e Pacheco após disparar e bater R$ 6,11\n",
      "   Link: https://www.infomoney.com.br/mercados/dolar-hoje-abertura-fechamento-comercial-turismo-29112024/\n",
      "2. Austrália proíbe redes sociais para menores de 16 anos\n",
      "   Link: https://www.youtube.com/watch?v=U-2eQDN5pic\n",
      "3. Ofertas da Black Friday liberadasSaiba como garantir até 20% de Investback em compras\n",
      "   Link: https://lp.xpi.com.br/bf-2024?utm_source=infomoney&utm_medium=promo&utm_campaign=bf-xp&utm_term=hiperlink&utm_content=home&utm_campaign=bf-xp&utm_term=hiperlink&utm_content=home\n"
     ]
    }
   ],
   "source": [
    "import time\n",
    "from datetime import datetime\n",
    "import requests\n",
    "import bs4\n",
    "\n",
    "url = 'https://www.infomoney.com.br'\n",
    "\n",
    "    \n",
    "requisicao = requests.get(url, timeout=10)\n",
    "requisicao.raise_for_status()  # Verifica erros na requisição\n",
    "\n",
    "pagina = bs4.BeautifulSoup(requisicao.text, 'html.parser')\n",
    "lista_manchetes = pagina.find_all('a', class_='hover:underline')\n",
    "\n",
    "for i, noticia in enumerate(lista_manchetes, 1):\n",
    "    titulo = noticia.text.strip()\n",
    "    link = noticia.get('href')\n",
    "    if (i < 4):\n",
    "        print(f\"{i}. {titulo}\")\n",
    "        print(f\"   Link: {link}\")"
   ]
  }
 ],
 "metadata": {
  "kernelspec": {
   "display_name": "Python 3",
   "language": "python",
   "name": "python3"
  },
  "language_info": {
   "codemirror_mode": {
    "name": "ipython",
    "version": 3
   },
   "file_extension": ".py",
   "mimetype": "text/x-python",
   "name": "python",
   "nbconvert_exporter": "python",
   "pygments_lexer": "ipython3",
   "version": "3.11.2"
  }
 },
 "nbformat": 4,
 "nbformat_minor": 2
}
