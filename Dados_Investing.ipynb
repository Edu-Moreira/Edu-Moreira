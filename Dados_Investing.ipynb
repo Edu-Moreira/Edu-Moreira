{
  "nbformat": 4,
  "nbformat_minor": 0,
  "metadata": {
    "colab": {
      "name": "Dados Investing.ipynb",
      "provenance": [],
      "collapsed_sections": [],
      "authorship_tag": "ABX9TyPqVwa3ml/d2FF5nn7tYORh",
      "include_colab_link": true
    },
    "kernelspec": {
      "name": "python3",
      "display_name": "Python 3"
    },
    "language_info": {
      "name": "python"
    }
  },
  "cells": [
    {
      "cell_type": "markdown",
      "metadata": {
        "id": "view-in-github",
        "colab_type": "text"
      },
      "source": [
        "<a href=\"https://colab.research.google.com/github/Edu-Moreira/Edu-Moreira/blob/main/Dados_Investing.ipynb\" target=\"_parent\"><img src=\"https://colab.research.google.com/assets/colab-badge.svg\" alt=\"Open In Colab\"/></a>"
      ]
    },
    {
      "cell_type": "code",
      "execution_count": 1,
      "metadata": {
        "colab": {
          "base_uri": "https://localhost:8080/"
        },
        "id": "dXVkBlEcdmot",
        "outputId": "9988c8ea-9331-4d3c-9ee8-b59ef336da5d"
      },
      "outputs": [
        {
          "output_type": "stream",
          "name": "stdout",
          "text": [
            "Requirement already satisfied: investpy in /usr/local/lib/python3.7/dist-packages (1.0.8)\n",
            "Requirement already satisfied: requests>=2.22.0 in /usr/local/lib/python3.7/dist-packages (from investpy) (2.23.0)\n",
            "Requirement already satisfied: setuptools>=41.2.0 in /usr/local/lib/python3.7/dist-packages (from investpy) (57.4.0)\n",
            "Requirement already satisfied: numpy>=1.21.2 in /usr/local/lib/python3.7/dist-packages (from investpy) (1.21.5)\n",
            "Requirement already satisfied: pandas>=0.25.1 in /usr/local/lib/python3.7/dist-packages (from investpy) (1.3.5)\n",
            "Requirement already satisfied: pytz>=2019.3 in /usr/local/lib/python3.7/dist-packages (from investpy) (2021.3)\n",
            "Requirement already satisfied: lxml>=4.4.1 in /usr/local/lib/python3.7/dist-packages (from investpy) (4.8.0)\n",
            "Requirement already satisfied: Unidecode>=1.1.1 in /usr/local/lib/python3.7/dist-packages (from investpy) (1.3.3)\n",
            "Requirement already satisfied: python-dateutil>=2.7.3 in /usr/local/lib/python3.7/dist-packages (from pandas>=0.25.1->investpy) (2.8.2)\n",
            "Requirement already satisfied: six>=1.5 in /usr/local/lib/python3.7/dist-packages (from python-dateutil>=2.7.3->pandas>=0.25.1->investpy) (1.15.0)\n",
            "Requirement already satisfied: urllib3!=1.25.0,!=1.25.1,<1.26,>=1.21.1 in /usr/local/lib/python3.7/dist-packages (from requests>=2.22.0->investpy) (1.24.3)\n",
            "Requirement already satisfied: certifi>=2017.4.17 in /usr/local/lib/python3.7/dist-packages (from requests>=2.22.0->investpy) (2021.10.8)\n",
            "Requirement already satisfied: idna<3,>=2.5 in /usr/local/lib/python3.7/dist-packages (from requests>=2.22.0->investpy) (2.10)\n",
            "Requirement already satisfied: chardet<4,>=3.0.2 in /usr/local/lib/python3.7/dist-packages (from requests>=2.22.0->investpy) (3.0.4)\n"
          ]
        }
      ],
      "source": [
        "!pip install investpy "
      ]
    },
    {
      "cell_type": "code",
      "source": [
        "import investpy as inv\n",
        "import pandas as pd\n",
        "import numpy as np\n",
        "import datetime as dt\n",
        "import matplotlib.pyplot as plt\n"
      ],
      "metadata": {
        "id": "wC-GU61weKda"
      },
      "execution_count": 12,
      "outputs": []
    },
    {
      "cell_type": "code",
      "source": [
        "hoje = dt.date.today()\n",
        "hoje = hoje.strftime('%d/%m/%Y')\n",
        "print(hoje)"
      ],
      "metadata": {
        "colab": {
          "base_uri": "https://localhost:8080/"
        },
        "id": "z2EV6P0BfobG",
        "outputId": "b0398e28-3d57-4674-bf03-d2f89e38f708"
      },
      "execution_count": 16,
      "outputs": [
        {
          "output_type": "stream",
          "name": "stdout",
          "text": [
            "02/03/2022\n"
          ]
        }
      ]
    },
    {
      "cell_type": "code",
      "source": [
        "commodity = inv.get_commodities_list()\n",
        "commodity"
      ],
      "metadata": {
        "colab": {
          "base_uri": "https://localhost:8080/"
        },
        "id": "9jO6Sc12eZCx",
        "outputId": "aa327756-8222-40bf-fc6d-ed6da801ace1"
      },
      "execution_count": 4,
      "outputs": [
        {
          "output_type": "execute_result",
          "data": {
            "text/plain": [
              "['Gold',\n",
              " 'Copper',\n",
              " 'Silver',\n",
              " 'Palladium',\n",
              " 'Platinum',\n",
              " 'Aluminum',\n",
              " 'Zinc',\n",
              " 'Lead',\n",
              " 'Nickel',\n",
              " 'Tin',\n",
              " 'Copper',\n",
              " 'Xetra-Gold',\n",
              " 'MCX Aluminum Mini',\n",
              " 'MCX Aluminum',\n",
              " 'MCX Copper',\n",
              " 'MCX Copper Mini',\n",
              " 'MCX Gold 1 Kg',\n",
              " 'MCX Gold Guinea',\n",
              " 'MCX Gold Mini',\n",
              " 'MCX Gold Petal',\n",
              " 'MCX Gold Petal Del',\n",
              " 'MCX Lead',\n",
              " 'MCX Lead Mini',\n",
              " 'MCX Nickel',\n",
              " 'MCX Nickel Mini',\n",
              " 'MCX Silver',\n",
              " 'MCX Silver Micro',\n",
              " 'MCX Silver Mini',\n",
              " 'MCX Zinc',\n",
              " 'MCX Zinc Mini',\n",
              " 'US Coffee C',\n",
              " 'US Cotton #2',\n",
              " 'US Sugar #11',\n",
              " 'Orange Juice',\n",
              " 'US Cocoa',\n",
              " 'London Coffee',\n",
              " 'London Cocoa',\n",
              " 'London Sugar',\n",
              " 'Lumber',\n",
              " 'MCX Cardamom',\n",
              " 'MCX Cotton',\n",
              " 'MCX Crude Palm Oil',\n",
              " 'MCX Kapas',\n",
              " 'MCX Mentha Oil',\n",
              " 'MCX Castor Seed',\n",
              " 'Live Cattle',\n",
              " 'Lean Hogs',\n",
              " 'Feeder Cattle',\n",
              " 'Brent Oil',\n",
              " 'Crude Oil WTI',\n",
              " 'London Gas Oil',\n",
              " 'Natural Gas',\n",
              " 'Heating Oil',\n",
              " 'Carbon Emissions',\n",
              " 'Gasoline RBOB',\n",
              " 'MCX Brent Oil',\n",
              " 'MCX Crude Oil WTI',\n",
              " 'MCX Natural Gas',\n",
              " 'London Wheat',\n",
              " 'Rough Rice',\n",
              " 'US Soybean Oil',\n",
              " 'US Soybean Meal',\n",
              " 'US Soybeans',\n",
              " 'US Wheat',\n",
              " 'US Corn',\n",
              " 'Oats']"
            ]
          },
          "metadata": {},
          "execution_count": 4
        }
      ]
    },
    {
      "cell_type": "code",
      "source": [
        "petrol = inv.get_commodity_historical_data(commodity= 'Brent Oil', from_date = '01/01/2000', to_date = hoje)\n",
        "petrol.tail()"
      ],
      "metadata": {
        "colab": {
          "base_uri": "https://localhost:8080/",
          "height": 238
        },
        "id": "QIsrUgw2ewWr",
        "outputId": "a1002901-b95f-495f-b5d6-6f434729feda"
      },
      "execution_count": 17,
      "outputs": [
        {
          "output_type": "execute_result",
          "data": {
            "text/html": [
              "\n",
              "  <div id=\"df-df742deb-886c-49db-acbe-d1407a31ccda\">\n",
              "    <div class=\"colab-df-container\">\n",
              "      <div>\n",
              "<style scoped>\n",
              "    .dataframe tbody tr th:only-of-type {\n",
              "        vertical-align: middle;\n",
              "    }\n",
              "\n",
              "    .dataframe tbody tr th {\n",
              "        vertical-align: top;\n",
              "    }\n",
              "\n",
              "    .dataframe thead th {\n",
              "        text-align: right;\n",
              "    }\n",
              "</style>\n",
              "<table border=\"1\" class=\"dataframe\">\n",
              "  <thead>\n",
              "    <tr style=\"text-align: right;\">\n",
              "      <th></th>\n",
              "      <th>Open</th>\n",
              "      <th>High</th>\n",
              "      <th>Low</th>\n",
              "      <th>Close</th>\n",
              "      <th>Volume</th>\n",
              "      <th>Currency</th>\n",
              "    </tr>\n",
              "    <tr>\n",
              "      <th>Date</th>\n",
              "      <th></th>\n",
              "      <th></th>\n",
              "      <th></th>\n",
              "      <th></th>\n",
              "      <th></th>\n",
              "      <th></th>\n",
              "    </tr>\n",
              "  </thead>\n",
              "  <tbody>\n",
              "    <tr>\n",
              "      <th>2022-02-24</th>\n",
              "      <td>98.08</td>\n",
              "      <td>105.79</td>\n",
              "      <td>97.56</td>\n",
              "      <td>99.08</td>\n",
              "      <td>167791</td>\n",
              "      <td>USD</td>\n",
              "    </tr>\n",
              "    <tr>\n",
              "      <th>2022-02-25</th>\n",
              "      <td>100.69</td>\n",
              "      <td>101.99</td>\n",
              "      <td>96.00</td>\n",
              "      <td>97.93</td>\n",
              "      <td>68982</td>\n",
              "      <td>USD</td>\n",
              "    </tr>\n",
              "    <tr>\n",
              "      <th>2022-02-28</th>\n",
              "      <td>101.98</td>\n",
              "      <td>105.07</td>\n",
              "      <td>99.64</td>\n",
              "      <td>100.99</td>\n",
              "      <td>22961</td>\n",
              "      <td>USD</td>\n",
              "    </tr>\n",
              "    <tr>\n",
              "      <th>2022-03-01</th>\n",
              "      <td>98.43</td>\n",
              "      <td>107.67</td>\n",
              "      <td>98.30</td>\n",
              "      <td>104.97</td>\n",
              "      <td>492513</td>\n",
              "      <td>USD</td>\n",
              "    </tr>\n",
              "    <tr>\n",
              "      <th>2022-03-02</th>\n",
              "      <td>106.88</td>\n",
              "      <td>115.09</td>\n",
              "      <td>106.88</td>\n",
              "      <td>114.17</td>\n",
              "      <td>0</td>\n",
              "      <td>USD</td>\n",
              "    </tr>\n",
              "  </tbody>\n",
              "</table>\n",
              "</div>\n",
              "      <button class=\"colab-df-convert\" onclick=\"convertToInteractive('df-df742deb-886c-49db-acbe-d1407a31ccda')\"\n",
              "              title=\"Convert this dataframe to an interactive table.\"\n",
              "              style=\"display:none;\">\n",
              "        \n",
              "  <svg xmlns=\"http://www.w3.org/2000/svg\" height=\"24px\"viewBox=\"0 0 24 24\"\n",
              "       width=\"24px\">\n",
              "    <path d=\"M0 0h24v24H0V0z\" fill=\"none\"/>\n",
              "    <path d=\"M18.56 5.44l.94 2.06.94-2.06 2.06-.94-2.06-.94-.94-2.06-.94 2.06-2.06.94zm-11 1L8.5 8.5l.94-2.06 2.06-.94-2.06-.94L8.5 2.5l-.94 2.06-2.06.94zm10 10l.94 2.06.94-2.06 2.06-.94-2.06-.94-.94-2.06-.94 2.06-2.06.94z\"/><path d=\"M17.41 7.96l-1.37-1.37c-.4-.4-.92-.59-1.43-.59-.52 0-1.04.2-1.43.59L10.3 9.45l-7.72 7.72c-.78.78-.78 2.05 0 2.83L4 21.41c.39.39.9.59 1.41.59.51 0 1.02-.2 1.41-.59l7.78-7.78 2.81-2.81c.8-.78.8-2.07 0-2.86zM5.41 20L4 18.59l7.72-7.72 1.47 1.35L5.41 20z\"/>\n",
              "  </svg>\n",
              "      </button>\n",
              "      \n",
              "  <style>\n",
              "    .colab-df-container {\n",
              "      display:flex;\n",
              "      flex-wrap:wrap;\n",
              "      gap: 12px;\n",
              "    }\n",
              "\n",
              "    .colab-df-convert {\n",
              "      background-color: #E8F0FE;\n",
              "      border: none;\n",
              "      border-radius: 50%;\n",
              "      cursor: pointer;\n",
              "      display: none;\n",
              "      fill: #1967D2;\n",
              "      height: 32px;\n",
              "      padding: 0 0 0 0;\n",
              "      width: 32px;\n",
              "    }\n",
              "\n",
              "    .colab-df-convert:hover {\n",
              "      background-color: #E2EBFA;\n",
              "      box-shadow: 0px 1px 2px rgba(60, 64, 67, 0.3), 0px 1px 3px 1px rgba(60, 64, 67, 0.15);\n",
              "      fill: #174EA6;\n",
              "    }\n",
              "\n",
              "    [theme=dark] .colab-df-convert {\n",
              "      background-color: #3B4455;\n",
              "      fill: #D2E3FC;\n",
              "    }\n",
              "\n",
              "    [theme=dark] .colab-df-convert:hover {\n",
              "      background-color: #434B5C;\n",
              "      box-shadow: 0px 1px 3px 1px rgba(0, 0, 0, 0.15);\n",
              "      filter: drop-shadow(0px 1px 2px rgba(0, 0, 0, 0.3));\n",
              "      fill: #FFFFFF;\n",
              "    }\n",
              "  </style>\n",
              "\n",
              "      <script>\n",
              "        const buttonEl =\n",
              "          document.querySelector('#df-df742deb-886c-49db-acbe-d1407a31ccda button.colab-df-convert');\n",
              "        buttonEl.style.display =\n",
              "          google.colab.kernel.accessAllowed ? 'block' : 'none';\n",
              "\n",
              "        async function convertToInteractive(key) {\n",
              "          const element = document.querySelector('#df-df742deb-886c-49db-acbe-d1407a31ccda');\n",
              "          const dataTable =\n",
              "            await google.colab.kernel.invokeFunction('convertToInteractive',\n",
              "                                                     [key], {});\n",
              "          if (!dataTable) return;\n",
              "\n",
              "          const docLinkHtml = 'Like what you see? Visit the ' +\n",
              "            '<a target=\"_blank\" href=https://colab.research.google.com/notebooks/data_table.ipynb>data table notebook</a>'\n",
              "            + ' to learn more about interactive tables.';\n",
              "          element.innerHTML = '';\n",
              "          dataTable['output_type'] = 'display_data';\n",
              "          await google.colab.output.renderOutput(dataTable, element);\n",
              "          const docLink = document.createElement('div');\n",
              "          docLink.innerHTML = docLinkHtml;\n",
              "          element.appendChild(docLink);\n",
              "        }\n",
              "      </script>\n",
              "    </div>\n",
              "  </div>\n",
              "  "
            ],
            "text/plain": [
              "              Open    High     Low   Close  Volume Currency\n",
              "Date                                                       \n",
              "2022-02-24   98.08  105.79   97.56   99.08  167791      USD\n",
              "2022-02-25  100.69  101.99   96.00   97.93   68982      USD\n",
              "2022-02-28  101.98  105.07   99.64  100.99   22961      USD\n",
              "2022-03-01   98.43  107.67   98.30  104.97  492513      USD\n",
              "2022-03-02  106.88  115.09  106.88  114.17       0      USD"
            ]
          },
          "metadata": {},
          "execution_count": 17
        }
      ]
    }
  ]
}