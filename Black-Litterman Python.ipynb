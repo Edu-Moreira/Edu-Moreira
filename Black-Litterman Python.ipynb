{
 "cells": [
  {
   "cell_type": "code",
   "execution_count": 57,
   "metadata": {},
   "outputs": [],
   "source": [
    "import numpy as np\n",
    "import pandas as pd\n",
    "from datetime import datetime, timedelta\n",
    "import warnings\n",
    "warnings.filterwarnings(\"ignore\")\n",
    "import matplotlib.pyplot as plt\n",
    "\n",
    "from pypfopt import (\n",
    "    BlackLittermanModel,\n",
    "    EfficientFrontier,\n",
    "    black_litterman,\n",
    "    expected_returns,\n",
    "    plotting,\n",
    "    risk_models,\n",
    ")"
   ]
  },
  {
   "cell_type": "code",
   "execution_count": 58,
   "metadata": {},
   "outputs": [
    {
     "name": "stdout",
     "output_type": "stream",
     "text": [
      "Dados rodados entre 2019-01-01 00:00:00 e 2023-12-31 00:00:00\n"
     ]
    }
   ],
   "source": [
    "ano = 2024 # Ano para o qual serão gerados os pesos\n",
    "\n",
    "data_final = datetime(ano-1,12,31) # Data no formato AAAA-MM-DD\n",
    "data_incial = datetime(ano -5 , 1, 1)\n",
    "\n",
    "print('Dados rodados entre ' + str(data_incial) + ' e ' + str(data_final))\n",
    "geografia = ['BR', 'US']\n",
    "i = 0 # É o índice que vai definir se vai rodar para BR i = 0 ou US i = 1\n",
    "\n",
    "sheets = pd.ExcelFile(\"Matriz Base.xlsx\").sheet_names\n",
    "# sheets"
   ]
  },
  {
   "cell_type": "code",
   "execution_count": 59,
   "metadata": {},
   "outputs": [],
   "source": [
    "dados = pd.read_excel(\"Matriz Base.xlsx\",sheet_name= 'Dados ' + str(geografia[i]), index_col=0)\n",
    "indices = dados.columns\n",
    "dados = dados.loc[(dados.index>=data_incial) & (dados.index <= data_final)]\n",
    "dados\n",
    "\n",
    "returns = dados.pct_change().dropna()\n",
    "retornos_indices = expected_returns.mean_historical_return(dados)\n",
    "matriz_cov_indices = risk_models.sample_cov(dados)"
   ]
  },
  {
   "cell_type": "code",
   "execution_count": 60,
   "metadata": {},
   "outputs": [],
   "source": [
    "# # Now try with a nonconvex objective from  Kolm et al (2014)\n",
    "# def deviation_risk_parity(w, cov_matrix):\n",
    "#     diff = w * np.dot(cov_matrix, w) - (w * np.dot(cov_matrix, w)).reshape(-1, 1)\n",
    "#     return (diff**2).sum().sum()\n"
   ]
  },
  {
   "cell_type": "code",
   "execution_count": 61,
   "metadata": {},
   "outputs": [],
   "source": [
    "# Black-Litterman\n",
    "bench = pd.read_excel(\"Dados Indices_2013-2023.xlsx\",sheet_name='Bench',index_col=0)\n",
    "bench['Carteira 50 -50'] = 0.5*bench['LEGATRUU Index'] + 0.5*bench['MXWD Index']\n",
    "bench = bench.loc[(bench.index >= data_incial) & (bench.index<=data_final)]\n",
    "# display(bench)\n",
    "\n",
    "delta = black_litterman.market_implied_risk_aversion(bench['Carteira 50 -50'])\n",
    "\n",
    "market_cap = pd.read_excel('Matriz Base.xlsx',sheet_name= 'Market Cap '+ str(geografia[i]),index_col=0)\n",
    "market_cap.columns = indices\n",
    "market_cap_ano = market_cap.loc[market_cap.index.year == (ano -1)]\n",
    "market_cap_ano = market_cap_ano.to_dict(orient= 'records')[0]\n",
    "\n",
    "\n",
    "prior = black_litterman.market_implied_prior_returns(market_cap_ano, delta, matriz_cov_indices)\n",
    "\n",
    "# prior"
   ]
  },
  {
   "cell_type": "code",
   "execution_count": 62,
   "metadata": {},
   "outputs": [],
   "source": [
    "visoes_absolutas = pd.read_excel(\"Matriz Base.xlsx\", sheet_name= 'Visoes Absolutas '+str(geografia[i]),index_col=0)\n",
    "visoes_absolutas = visoes_absolutas.loc[visoes_absolutas.index == ano].T.sort_values(by = ano, ascending = False)"
   ]
  },
  {
   "cell_type": "code",
   "execution_count": 63,
   "metadata": {},
   "outputs": [],
   "source": [
    "visoes_relativas = pd.read_excel(\"Matriz Base.xlsx\",sheet_name= 'Visoes Relativas '+str(geografia[i]),index_col=0)\n",
    "\n",
    "visoes_relativas = visoes_relativas.loc[visoes_relativas.index == ano].T.sort_values(by = ano)"
   ]
  },
  {
   "cell_type": "code",
   "execution_count": 64,
   "metadata": {},
   "outputs": [
    {
     "data": {
      "text/html": [
       "<div>\n",
       "<style scoped>\n",
       "    .dataframe tbody tr th:only-of-type {\n",
       "        vertical-align: middle;\n",
       "    }\n",
       "\n",
       "    .dataframe tbody tr th {\n",
       "        vertical-align: top;\n",
       "    }\n",
       "\n",
       "    .dataframe thead th {\n",
       "        text-align: right;\n",
       "    }\n",
       "</style>\n",
       "<table border=\"1\" class=\"dataframe\">\n",
       "  <thead>\n",
       "    <tr style=\"text-align: right;\">\n",
       "      <th></th>\n",
       "      <th>2024</th>\n",
       "    </tr>\n",
       "  </thead>\n",
       "  <tbody>\n",
       "    <tr>\n",
       "      <th>S&amp;P Small Cap 600</th>\n",
       "      <td>0.098523</td>\n",
       "    </tr>\n",
       "    <tr>\n",
       "      <th>S&amp;P 500</th>\n",
       "      <td>0.054065</td>\n",
       "    </tr>\n",
       "    <tr>\n",
       "      <th>U.S Universal</th>\n",
       "      <td>0.025570</td>\n",
       "    </tr>\n",
       "    <tr>\n",
       "      <th>Global Agg. Ex-USA</th>\n",
       "      <td>0.020863</td>\n",
       "    </tr>\n",
       "    <tr>\n",
       "      <th>World ex-USA</th>\n",
       "      <td>0.019317</td>\n",
       "    </tr>\n",
       "    <tr>\n",
       "      <th>Emerging Markets</th>\n",
       "      <td>0.009715</td>\n",
       "    </tr>\n",
       "  </tbody>\n",
       "</table>\n",
       "</div>"
      ],
      "text/plain": [
       "                        2024\n",
       "S&P Small Cap 600   0.098523\n",
       "S&P 500             0.054065\n",
       "U.S Universal       0.025570\n",
       "Global Agg. Ex-USA  0.020863\n",
       "World ex-USA        0.019317\n",
       "Emerging Markets    0.009715"
      ]
     },
     "execution_count": 64,
     "metadata": {},
     "output_type": "execute_result"
    }
   ],
   "source": [
    "visoes_absolutas"
   ]
  },
  {
   "cell_type": "code",
   "execution_count": 65,
   "metadata": {},
   "outputs": [
    {
     "data": {
      "text/html": [
       "<div>\n",
       "<style scoped>\n",
       "    .dataframe tbody tr th:only-of-type {\n",
       "        vertical-align: middle;\n",
       "    }\n",
       "\n",
       "    .dataframe tbody tr th {\n",
       "        vertical-align: top;\n",
       "    }\n",
       "\n",
       "    .dataframe thead th {\n",
       "        text-align: right;\n",
       "    }\n",
       "</style>\n",
       "<table border=\"1\" class=\"dataframe\">\n",
       "  <thead>\n",
       "    <tr style=\"text-align: right;\">\n",
       "      <th></th>\n",
       "      <th>2024</th>\n",
       "    </tr>\n",
       "  </thead>\n",
       "  <tbody>\n",
       "    <tr>\n",
       "      <th>World ex-USA</th>\n",
       "      <td>0.019317</td>\n",
       "    </tr>\n",
       "    <tr>\n",
       "      <th>Emerging Markets</th>\n",
       "      <td>0.009715</td>\n",
       "    </tr>\n",
       "  </tbody>\n",
       "</table>\n",
       "</div>"
      ],
      "text/plain": [
       "                      2024\n",
       "World ex-USA      0.019317\n",
       "Emerging Markets  0.009715"
      ]
     },
     "metadata": {},
     "output_type": "display_data"
    },
    {
     "data": {
      "text/html": [
       "<div>\n",
       "<style scoped>\n",
       "    .dataframe tbody tr th:only-of-type {\n",
       "        vertical-align: middle;\n",
       "    }\n",
       "\n",
       "    .dataframe tbody tr th {\n",
       "        vertical-align: top;\n",
       "    }\n",
       "\n",
       "    .dataframe thead th {\n",
       "        text-align: right;\n",
       "    }\n",
       "</style>\n",
       "<table border=\"1\" class=\"dataframe\">\n",
       "  <thead>\n",
       "    <tr style=\"text-align: right;\">\n",
       "      <th></th>\n",
       "      <th>2024</th>\n",
       "    </tr>\n",
       "  </thead>\n",
       "  <tbody>\n",
       "    <tr>\n",
       "      <th>S&amp;P 500_sub_Emerging Markets</th>\n",
       "      <td>0.044350</td>\n",
       "    </tr>\n",
       "    <tr>\n",
       "      <th>S&amp;P Small Cap 600_sub_S&amp;P 500</th>\n",
       "      <td>0.044458</td>\n",
       "    </tr>\n",
       "    <tr>\n",
       "      <th>S&amp;P Small Cap 600_sub_U.S Universal</th>\n",
       "      <td>0.072953</td>\n",
       "    </tr>\n",
       "    <tr>\n",
       "      <th>S&amp;P Small Cap 600_sub_Global Agg. Ex-USA</th>\n",
       "      <td>0.077660</td>\n",
       "    </tr>\n",
       "    <tr>\n",
       "      <th>S&amp;P Small Cap 600_sub_World ex-USA</th>\n",
       "      <td>0.079207</td>\n",
       "    </tr>\n",
       "    <tr>\n",
       "      <th>S&amp;P Small Cap 600_sub_Emerging Markets</th>\n",
       "      <td>0.088808</td>\n",
       "    </tr>\n",
       "  </tbody>\n",
       "</table>\n",
       "</div>"
      ],
      "text/plain": [
       "                                              2024\n",
       "S&P 500_sub_Emerging Markets              0.044350\n",
       "S&P Small Cap 600_sub_S&P 500             0.044458\n",
       "S&P Small Cap 600_sub_U.S Universal       0.072953\n",
       "S&P Small Cap 600_sub_Global Agg. Ex-USA  0.077660\n",
       "S&P Small Cap 600_sub_World ex-USA        0.079207\n",
       "S&P Small Cap 600_sub_Emerging Markets    0.088808"
      ]
     },
     "metadata": {},
     "output_type": "display_data"
    }
   ],
   "source": [
    "display(visoes_absolutas.tail(2))\n",
    "\n",
    "display(visoes_relativas.tail(6))"
   ]
  },
  {
   "cell_type": "code",
   "execution_count": 66,
   "metadata": {},
   "outputs": [],
   "source": [
    "##################################################################################################################################\n",
    "############################################          Posicoes dos Indices    ####################################################\n",
    "############################################  1 - US Universal                ####################################################\n",
    "############################################  2 - S&P 500                     ####################################################\n",
    "############################################  3 - World ex-USA                ####################################################\n",
    "############################################  4 - Emerging Markets            ####################################################\n",
    "############################################  5 - Global Agg ex-USA           ####################################################\n",
    "############################################  6 - S&P 600                     ####################################################\n",
    "##################################################################################################################################\n",
    "\n",
    "##################################################################################################################################\n",
    "# 1. Visão Absoluta: World ex_USA vai subir 10% (variável views primeira posição 0.1)\n",
    "# 2. Visão Relativa: S&P 600 vai performar melhor que o Global Agg em 4% (variável views segunda posição 0.04)\n",
    "# 3. Variável picking tem as 6 posições dos indices, primeira linha Visoes Absolutas valor 1 na posição para qual tem a visão\n",
    "#    segunda linha Visoes Relativas com valor 1 para o indice de melhor performance e -1 para pior performance\n",
    "##################################################################################################################################\n",
    "views = np.array([0.0948 , 0.0335]).reshape(-1, 1)\n",
    "picking = np.array(\n",
    "    [\n",
    "        [0, 0, 1, 0, 0, 0],\n",
    "        [0, 0, 0, -1, 1, 0],\n",
    "        \n",
    "    ]\n",
    ")"
   ]
  },
  {
   "cell_type": "code",
   "execution_count": 89,
   "metadata": {},
   "outputs": [
    {
     "name": "stdout",
     "output_type": "stream",
     "text": [
      "OrderedDict([('U.S Universal', 0.44522), ('S&P 500', 0.0), ('World ex-USA', 0.18249), ('Emerging Markets', 0.17), ('Global Agg. Ex-USA', 0.15), ('S&P Small Cap 600', 0.05229)])\n",
      "Expected annual return: 9.0%\n",
      "Annual volatility: 13.8%\n",
      "Sharpe Ratio: 0.50\n"
     ]
    },
    {
     "data": {
      "text/plain": [
       "(0.0895189345366711, 0.13845166393587308, 0.5021170028615208)"
      ]
     },
     "execution_count": 89,
     "metadata": {},
     "output_type": "execute_result"
    }
   ],
   "source": [
    "bl = BlackLittermanModel(matriz_cov_indices, Q=views, P=picking, pi=prior, tau=0.01)\n",
    "rets = bl.bl_returns()\n",
    "cov = bl.bl_cov()\n",
    "ef = EfficientFrontier(rets, cov)\n",
    "ef.add_constraint(lambda x: x[3] <=0.17) # Restrição para limitar Emerging Markets em 17%\n",
    "ef.add_constraint(lambda x: x[4] <=0.15) # Restrição para limitar Global Agg em 15%\n",
    "# ef.add_constraint (lambda x : x <= 0.4)  # Restrição para limitar concentração máxima em qualquer ativo em 40%\n",
    "# ef.add_constraint (lambda x : x >= 0.05)  # Restrição para limitar concentração mínima em qualquer ativo em 5%\n",
    "# ef.efficient_risk(0.17) # Restrição para otimizar a carteira pra volatilidade alvo\n",
    "ef.min_volatility() # Restrição para otimizar a carteira pra mínima volatilidade \n",
    "# ef.max_sharpe(risk_free_rate= -0.10 ) # Restrição para otimizar a carteira pra máximo sharpe\n",
    "\n",
    "print(ef.clean_weights())\n",
    "ef.portfolio_performance(verbose=True)"
   ]
  },
  {
   "cell_type": "code",
   "execution_count": 91,
   "metadata": {},
   "outputs": [
    {
     "name": "stdout",
     "output_type": "stream",
     "text": [
      "Expected annual return: 9.0%\n",
      "Annual volatility: 13.8%\n",
      "Sharpe Ratio: 0.50\n"
     ]
    },
    {
     "data": {
      "text/plain": [
       "(0.0895189345366711, 0.13845166393587308, 0.5021170028615208)"
      ]
     },
     "execution_count": 91,
     "metadata": {},
     "output_type": "execute_result"
    }
   ],
   "source": [
    "ef.portfolio_performance(points)"
   ]
  },
  {
   "cell_type": "code",
   "execution_count": 68,
   "metadata": {},
   "outputs": [
    {
     "data": {
      "text/html": [
       "<div>\n",
       "<style scoped>\n",
       "    .dataframe tbody tr th:only-of-type {\n",
       "        vertical-align: middle;\n",
       "    }\n",
       "\n",
       "    .dataframe tbody tr th {\n",
       "        vertical-align: top;\n",
       "    }\n",
       "\n",
       "    .dataframe thead th {\n",
       "        text-align: right;\n",
       "    }\n",
       "</style>\n",
       "<table border=\"1\" class=\"dataframe\">\n",
       "  <thead>\n",
       "    <tr style=\"text-align: right;\">\n",
       "      <th></th>\n",
       "      <th>0</th>\n",
       "      <th>1</th>\n",
       "      <th>2</th>\n",
       "      <th>3</th>\n",
       "      <th>4</th>\n",
       "      <th>5</th>\n",
       "    </tr>\n",
       "  </thead>\n",
       "  <tbody>\n",
       "    <tr>\n",
       "      <th>Asset Class</th>\n",
       "      <td>U.S Universal</td>\n",
       "      <td>S&amp;P 500</td>\n",
       "      <td>World ex-USA</td>\n",
       "      <td>Emerging Markets</td>\n",
       "      <td>Global Agg. Ex-USA</td>\n",
       "      <td>S&amp;P Small Cap 600</td>\n",
       "    </tr>\n",
       "    <tr>\n",
       "      <th>Weight</th>\n",
       "      <td>0.44686</td>\n",
       "      <td>0.0</td>\n",
       "      <td>0.18069</td>\n",
       "      <td>0.17</td>\n",
       "      <td>0.15</td>\n",
       "      <td>0.05245</td>\n",
       "    </tr>\n",
       "  </tbody>\n",
       "</table>\n",
       "</div>"
      ],
      "text/plain": [
       "                         0        1             2                 3  \\\n",
       "Asset Class  U.S Universal  S&P 500  World ex-USA  Emerging Markets   \n",
       "Weight             0.44686      0.0       0.18069              0.17   \n",
       "\n",
       "                              4                  5  \n",
       "Asset Class  Global Agg. Ex-USA  S&P Small Cap 600  \n",
       "Weight                     0.15            0.05245  "
      ]
     },
     "execution_count": 68,
     "metadata": {},
     "output_type": "execute_result"
    }
   ],
   "source": [
    "pd.DataFrame(list(ef.clean_weights().items()),columns=['Asset Class','Weight']).T"
   ]
  },
  {
   "cell_type": "code",
   "execution_count": 97,
   "metadata": {},
   "outputs": [
    {
     "data": {
      "text/plain": [
       "<Axes: xlabel='Volatility', ylabel='Return'>"
      ]
     },
     "execution_count": 97,
     "metadata": {},
     "output_type": "execute_result"
    },
    {
     "data": {
      "image/png": "[encoded data removed]",
      "text/plain": [
       "<Figure size 640x480 with 1 Axes>"
      ]
     },
     "metadata": {},
     "output_type": "display_data"
    }
   ],
   "source": [
    "ef2 = EfficientFrontier(rets, matriz_cov_indices)\n",
    "plotting.plot_efficient_frontier(ef2)\n"
   ]
  },
  {
   "cell_type": "code",
   "execution_count": 104,
   "metadata": {},
   "outputs": [
    {
     "data": {
      "text/plain": [
       "array([0.0766547 , 0.07703352, 0.07741233, 0.07779115, 0.07816997,\n",
       "       0.07854879, 0.07892761, 0.07930643, 0.07968524, 0.08006406,\n",
       "       0.08044288, 0.0808217 , 0.08120052, 0.08157934, 0.08195815,\n",
       "       0.08233697, 0.08271579, 0.08309461, 0.08347343, 0.08385225,\n",
       "       0.08423106, 0.08460988, 0.0849887 , 0.08536752, 0.08574634,\n",
       "       0.08612516, 0.08650397, 0.08688279, 0.08726161, 0.08764043,\n",
       "       0.08801925, 0.08839807, 0.08877688, 0.0891557 , 0.08953452,\n",
       "       0.08991334, 0.09029216, 0.09067098, 0.09104979, 0.09142861,\n",
       "       0.09180743, 0.09218625, 0.09256507, 0.09294389, 0.0933227 ,\n",
       "       0.09370152, 0.09408034, 0.09445916, 0.09483798, 0.0952168 ,\n",
       "       0.09559561, 0.09597443, 0.09635325, 0.09673207, 0.09711089,\n",
       "       0.09748971, 0.09786852, 0.09824734, 0.09862616, 0.09900498,\n",
       "       0.0993838 , 0.09976262, 0.10014143, 0.10052025, 0.10089907,\n",
       "       0.10127789, 0.10165671, 0.10203553, 0.10241434, 0.10279316,\n",
       "       0.10317198, 0.1035508 , 0.10392962, 0.10430844, 0.10468725,\n",
       "       0.10506607, 0.10544489, 0.10582371, 0.10620253, 0.10658135,\n",
       "       0.10696016, 0.10733898, 0.1077178 , 0.10809662, 0.10847544,\n",
       "       0.10885426, 0.10923307, 0.10961189, 0.10999071, 0.11036953,\n",
       "       0.11074835, 0.11112717, 0.11150598, 0.1118848 , 0.11226362,\n",
       "       0.11264244, 0.11302126, 0.11340008, 0.11377889, 0.11415771])"
      ]
     },
     "execution_count": 104,
     "metadata": {},
     "output_type": "execute_result"
    }
   ],
   "source": [
    " np.linspace(rets.min(), rets.max(), points)"
   ]
  },
  {
   "cell_type": "code",
   "execution_count": 107,
   "metadata": {},
   "outputs": [
    {
     "data": {
      "text/plain": [
       "(0.11399811878657994, 0.22686566421806584, 0.4143338266306702)"
      ]
     },
     "execution_count": 107,
     "metadata": {},
     "output_type": "execute_result"
    }
   ],
   "source": [
    "ef2.efficient_return(0.114)\n",
    "ef2.portfolio_performance()"
   ]
  },
  {
   "cell_type": "code",
   "execution_count": 110,
   "metadata": {},
   "outputs": [],
   "source": [
    "\n",
    "# Definir o número de pontos na fronteira eficiente\n",
    "points = 100\n",
    "target_returns = np.linspace(rets.min()*1.001, rets.max()*0.999, points)\n",
    "risks = []\n",
    "returns = []\n",
    "\n",
    "# Calcular a fronteira eficiente\n",
    "for target_return in target_returns:\n",
    "    # print(target_return)\n",
    "    ef2.efficient_return(target_return)\n",
    "    ret, risk, _ = ef2.portfolio_performance()\n",
    "    risks.append(risk)\n",
    "    returns.append(ret)\n",
    "\n",
    "# Convertendo a fronteira eficiente em DataFrame\n",
    "ef_df = pd.DataFrame({\"Return\": returns, \"Risk\": risks})\n"
   ]
  },
  {
   "cell_type": "code",
   "execution_count": 113,
   "metadata": {},
   "outputs": [],
   "source": [
    "ef_df.to_excel(\"Froteira Eficiente 2024.xlsx\")"
   ]
  }
 ],
 "metadata": {
  "kernelspec": {
   "display_name": "Python 3",
   "language": "python",
   "name": "python3"
  },
  "language_info": {
   "codemirror_mode": {
    "name": "ipython",
    "version": 3
   },
   "file_extension": ".py",
   "mimetype": "text/x-python",
   "name": "python",
   "nbconvert_exporter": "python",
   "pygments_lexer": "ipython3",
   "version": "3.11.2"
  }
 },
 "nbformat": 4,
 "nbformat_minor": 2
}
