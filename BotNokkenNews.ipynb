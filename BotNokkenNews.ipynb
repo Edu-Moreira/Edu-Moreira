{
 "cells": [
  {
   "cell_type": "code",
   "execution_count": 46,
   "metadata": {},
   "outputs": [],
   "source": [
    "# importar biblioteca para requisições http\n",
    "import requests\n",
    "import time\n",
    "from datetime import datetime\n",
    "import bs4"
   ]
  },
  {
   "cell_type": "code",
   "execution_count": 5,
   "metadata": {},
   "outputs": [],
   "source": [
    "# mostra o id do último grupo adicionado\n",
    "def last_chat_id(token):\n",
    "    try:\n",
    "        url = \"https://api.telegram.org/bot{}/getUpdates\".format(token)\n",
    "        response = requests.get(url)\n",
    "        if response.status_code == 200:\n",
    "            json_msg = response.json()\n",
    "            for json_result in reversed(json_msg['result']):\n",
    "                message_keys = json_result['message'].keys()\n",
    "                if ('new_chat_member' in message_keys) or ('group_chat_created' in message_keys):\n",
    "                    return json_result['message']['chat']['id']\n",
    "            print('Nenhum grupo encontrado')\n",
    "        else:\n",
    "            print('A resposta falhou, código de status: {}'.format(response.status_code))\n",
    "    except Exception as e:\n",
    "        print(\"Erro no getUpdates:\", e)\n",
    "\n",
    "# enviar mensagens utilizando o bot para um chat específico\n",
    "def send_message(token, chat_id, message):\n",
    "    try:\n",
    "        data = {\"chat_id\": chat_id, \"text\": msg}\n",
    "        url = \"https://api.telegram.org/bot{}/sendMessage\".format(token)\n",
    "        requests.post(url, data)\n",
    "    except Exception as e:\n",
    "        print(\"Erro no sendMessage:\", e)"
   ]
  },
  {
   "cell_type": "code",
   "execution_count": 7,
   "metadata": {},
   "outputs": [
    {
     "name": "stdout",
     "output_type": "stream",
     "text": [
      "Id do chat:  -4603928093\n"
     ]
    }
   ],
   "source": [
    "token = '7875463710:AAGLogjciG88E-xPJdlUrxZRt1Gk158_KxU'\n",
    "\n",
    "chat_id = last_chat_id(token)\n",
    "\n",
    "print('Id do chat: ', chat_id)"
   ]
  },
  {
   "cell_type": "code",
   "execution_count": 10,
   "metadata": {},
   "outputs": [],
   "source": [
    "msg = 'Bom dia, dólar bate R$ 6,10 na manhã de 29/11'\n",
    "\n",
    "send_message(token, chat_id,msg)"
   ]
  },
  {
   "cell_type": "code",
   "execution_count": 9,
   "metadata": {},
   "outputs": [
    {
     "data": {
      "text/plain": [
       "-4762984767"
      ]
     },
     "execution_count": 9,
     "metadata": {},
     "output_type": "execute_result"
    }
   ],
   "source": [
    "chat_id = -4762984767\n",
    "chat_id"
   ]
  },
  {
   "cell_type": "code",
   "execution_count": 63,
   "metadata": {},
   "outputs": [
    {
     "name": "stdout",
     "output_type": "stream",
     "text": [
      "⏰ *Coletando manchetes do InfoMoney*: 17:19:39\n",
      "**Manchetes do InfoMoney:**\n",
      "\n",
      " coletado em: 01/12/2024  às 17:19:39\n",
      "\n",
      "\n",
      "1. PIB, mercado de trabalho e Livro Bege nos EUA: o que acompanhar na semana(https://www.infomoney.com.br/mercados/pib-no-brasil-mercado-de-trabalho-e-livro-bege-nos-eua-o-que-acompanhar-na-semana/)\n",
      "2. As ações que a XP indicaConheça as Futuras Gigantes da Bolsa(https://lp.infomoney.com.br/masterclass-conheca-futuras-gigantes-bolsa-inscricao?utm_source=infomoney&utm_medium=promo&utm_campaign=msc&utm_term=hiperlink&utm_content=home)\n",
      "3. Mundo(https://www.infomoney.com.br/mundo/)\n",
      "4. Reino Unido deportou  600 brasileiros em voos secretos(https://www.infomoney.com.br/mundo/reino-unido-deportou-mais-de-600-brasileiros-em-voos-secretos-diz-jornal/)\n",
      "5. Business(https://www.infomoney.com.br/business/)\n",
      "6. CEO da Stellantis, dona da Fiat e Jeep, se demite(https://www.infomoney.com.br/business/ceo-da-stellantis-dona-da-fiat-e-jeep-se-demite/)\n",
      "7. Onde Investir(https://www.infomoney.com.br/onde-investir/)\n",
      "8. Especialistas dizem que Brasil ter reserva sobrena de Bitcoin seria “maluquice”; mas…(https://www.infomoney.com.br/onde-investir/reserva-de-bitcoin-no-brasil-maluquice-e-alto-risco-dizem-especialistas/)\n",
      "9. Global(https://www.infomoney.com.br/business/global/)\n",
      "10. Quanto tempo leva para alguém voltar a ficar em forma após ficar “fora de forma”?(https://www.infomoney.com.br/business/global/quanto-tempo-leva-para-alguem-voltar-a-ficar-em-forma-apos-ficar-fora-de-forma/)\n",
      "\n",
      "⏰ *Coletando manchetes do InfoMoney*: 17:19:51\n",
      "**Manchetes do InfoMoney:**\n",
      "\n",
      " coletado em: 01/12/2024  às 17:19:51\n",
      "\n",
      "\n",
      "1. PIB, mercado de trabalho e Livro Bege nos EUA: o que acompanhar na semana(https://www.infomoney.com.br/mercados/pib-no-brasil-mercado-de-trabalho-e-livro-bege-nos-eua-o-que-acompanhar-na-semana/)\n",
      "2. As ações que a XP indicaConheça as Futuras Gigantes da Bolsa(https://lp.infomoney.com.br/masterclass-conheca-futuras-gigantes-bolsa-inscricao?utm_source=infomoney&utm_medium=promo&utm_campaign=msc&utm_term=hiperlink&utm_content=home)\n",
      "3. Mundo(https://www.infomoney.com.br/mundo/)\n",
      "4. Reino Unido deportou  600 brasileiros em voos secretos(https://www.infomoney.com.br/mundo/reino-unido-deportou-mais-de-600-brasileiros-em-voos-secretos-diz-jornal/)\n",
      "5. Business(https://www.infomoney.com.br/business/)\n",
      "6. CEO da Stellantis, dona da Fiat e Jeep, se demite(https://www.infomoney.com.br/business/ceo-da-stellantis-dona-da-fiat-e-jeep-se-demite/)\n",
      "7. Onde Investir(https://www.infomoney.com.br/onde-investir/)\n",
      "8. Especialistas dizem que Brasil ter reserva sobrena de Bitcoin seria “maluquice”; mas…(https://www.infomoney.com.br/onde-investir/reserva-de-bitcoin-no-brasil-maluquice-e-alto-risco-dizem-especialistas/)\n",
      "9. Global(https://www.infomoney.com.br/business/global/)\n",
      "10. Quanto tempo leva para alguém voltar a ficar em forma após ficar “fora de forma”?(https://www.infomoney.com.br/business/global/quanto-tempo-leva-para-alguem-voltar-a-ficar-em-forma-apos-ficar-fora-de-forma/)\n",
      "\n",
      "✅ Fora do intervalo de coleta. Mercado fechado.\n"
     ]
    }
   ],
   "source": [
    "import time\n",
    "from datetime import datetime\n",
    "import requests\n",
    "import bs4\n",
    "\n",
    "# Definir o intervalo de tempo\n",
    "end = datetime(2024, 12, 1, 17, 20)\n",
    "\n",
    "while True:\n",
    "    agora = datetime.now()  # Atualiza a hora a cada loop\n",
    "\n",
    "    # Verifica se o horário atual está dentro do intervalo\n",
    "    if  agora <= end:\n",
    "        print(f\"⏰ *Coletando manchetes do InfoMoney*: {agora.strftime('%H:%M:%S')}\")\n",
    "\n",
    "        url = 'https://www.infomoney.com.br'\n",
    "\n",
    "        try:\n",
    "            requisicao = requests.get(url, timeout=10)\n",
    "            requisicao.raise_for_status()  # Verifica erros na requisição\n",
    "        except requests.exceptions.RequestException as e:\n",
    "            print(f\"⚠️ Erro na requisição: {e}\")\n",
    "            time.sleep(12)  # Aguarda antes de tentar novamente\n",
    "            continue\n",
    "\n",
    "        # Processar o conteúdo HTML da página\n",
    "        pagina = bs4.BeautifulSoup(requisicao.text, 'html.parser')\n",
    "        lista_manchetes = pagina.find_all('a', class_='hover:underline')\n",
    "\n",
    "        # Exibir as manchetes coletadas\n",
    "        if lista_manchetes:\n",
    "            msg = str(\"Manchetes do InfoMoney:\\n\\n coletado em: \"+ agora.strftime('%d/%m/%Y')+'  às '+agora.strftime('%H:%M:%S')+\"\\n\\n\\n\")\n",
    "            for i, noticia in enumerate(lista_manchetes[:10], 1):  # Limita a 10 manchetes\n",
    "                titulo = noticia.text.strip()\n",
    "                link = noticia.get('href')\n",
    "                msg += f\"{i}. {titulo}({link})\\n\"\n",
    "            print(msg)\n",
    "        else:\n",
    "            print(\"⚠️ Nenhuma manchete encontrada. Verifique a classe CSS.\")\n",
    "\n",
    "        # Esperar 12 segundos antes de repetir\n",
    "        time.sleep(12)\n",
    "    else:\n",
    "        print(\"✅ Fora do intervalo de coleta. Mercado fechado.\")\n",
    "        break\n"
   ]
  },
  {
   "cell_type": "code",
   "execution_count": 64,
   "metadata": {},
   "outputs": [],
   "source": [
    "send_message(token, chat_id,msg)"
   ]
  },
  {
   "cell_type": "code",
   "execution_count": 44,
   "metadata": {},
   "outputs": [
    {
     "name": "stdout",
     "output_type": "stream",
     "text": [
      "Fim do teste\n"
     ]
    }
   ],
   "source": [
    "# import time\n",
    "# from datetime import datetime\n",
    "\n",
    "\n",
    "# end = datetime(2024, 11, 29, 13, 25)\n",
    "\n",
    "\n",
    "# while True:\n",
    "    \n",
    "#     agora = datetime.now()\n",
    "    \n",
    "#     if agora < end:\n",
    "        \n",
    "#         msg = 'Teste em: '\n",
    "#         msg = str(msg +agora.strftime('%d/%m/%Y,%H:%M'))\n",
    "#         send_message(token, chat_id,msg)\n",
    "    \n",
    "       \n",
    "          \n",
    "#     else:\n",
    "#         print('Fim do teste')\n",
    "#         break\n",
    "#     time.sleep(70)"
   ]
  }
 ],
 "metadata": {
  "kernelspec": {
   "display_name": "Python 3",
   "language": "python",
   "name": "python3"
  },
  "language_info": {
   "codemirror_mode": {
    "name": "ipython",
    "version": 3
   },
   "file_extension": ".py",
   "mimetype": "text/x-python",
   "name": "python",
   "nbconvert_exporter": "python",
   "pygments_lexer": "ipython3",
   "version": "3.11.4"
  }
 },
 "nbformat": 4,
 "nbformat_minor": 2
}
