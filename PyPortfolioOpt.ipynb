{
  "nbformat": 4,
  "nbformat_minor": 0,
  "metadata": {
    "colab": {
      "provenance": [],
      "authorship_tag": "ABX9TyOmUPnxwR0E/TCndTSqRKVi",
      "include_colab_link": true
    },
    "kernelspec": {
      "name": "python3",
      "display_name": "Python 3"
    },
    "language_info": {
      "name": "python"
    }
  },
  "cells": [
    {
      "cell_type": "markdown",
      "metadata": {
        "id": "view-in-github",
        "colab_type": "text"
      },
      "source": [
        "<a href=\"https://colab.research.google.com/github/Edu-Moreira/Estudos-de-Python/blob/main/PyPortfolioOpt.ipynb\" target=\"_parent\"><img src=\"https://colab.research.google.com/assets/colab-badge.svg\" alt=\"Open In Colab\"/></a>"
      ]
    },
    {
      "cell_type": "code",
      "execution_count": null,
      "metadata": {
        "colab": {
          "base_uri": "https://localhost:8080/"
        },
        "id": "t7AvXrW2kvEd",
        "outputId": "0ecee590-ac40-4d6d-decf-6dff822b1ce6"
      },
      "outputs": [
        {
          "output_type": "stream",
          "name": "stdout",
          "text": [
            "Requirement already satisfied: PyPortfolioOpt in /usr/local/lib/python3.7/dist-packages (1.5.2)\n",
            "Requirement already satisfied: pandas>=0.19 in /usr/local/lib/python3.7/dist-packages (from PyPortfolioOpt) (1.3.5)\n",
            "Requirement already satisfied: scipy<2.0,>=1.3 in /usr/local/lib/python3.7/dist-packages (from PyPortfolioOpt) (1.4.1)\n",
            "Requirement already satisfied: cvxpy<2.0.0,>=1.1.10 in /usr/local/lib/python3.7/dist-packages (from PyPortfolioOpt) (1.2.0)\n",
            "Requirement already satisfied: numpy<2.0,>=1.12 in /usr/local/lib/python3.7/dist-packages (from PyPortfolioOpt) (1.21.5)\n",
            "Requirement already satisfied: ecos>=2 in /usr/local/lib/python3.7/dist-packages (from cvxpy<2.0.0,>=1.1.10->PyPortfolioOpt) (2.0.10)\n",
            "Requirement already satisfied: osqp>=0.4.1 in /usr/local/lib/python3.7/dist-packages (from cvxpy<2.0.0,>=1.1.10->PyPortfolioOpt) (0.6.2.post0)\n",
            "Requirement already satisfied: scs>=1.1.6 in /usr/local/lib/python3.7/dist-packages (from cvxpy<2.0.0,>=1.1.10->PyPortfolioOpt) (3.2.0)\n",
            "Requirement already satisfied: qdldl in /usr/local/lib/python3.7/dist-packages (from osqp>=0.4.1->cvxpy<2.0.0,>=1.1.10->PyPortfolioOpt) (0.1.5.post0)\n",
            "Requirement already satisfied: python-dateutil>=2.7.3 in /usr/local/lib/python3.7/dist-packages (from pandas>=0.19->PyPortfolioOpt) (2.8.2)\n",
            "Requirement already satisfied: pytz>=2017.3 in /usr/local/lib/python3.7/dist-packages (from pandas>=0.19->PyPortfolioOpt) (2022.1)\n",
            "Requirement already satisfied: six>=1.5 in /usr/local/lib/python3.7/dist-packages (from python-dateutil>=2.7.3->pandas>=0.19->PyPortfolioOpt) (1.15.0)\n"
          ]
        }
      ],
      "source": [
        "!pip install PyPortfolioOpt"
      ]
    },
    {
      "cell_type": "code",
      "source": [
        "!pip install investpy"
      ],
      "metadata": {
        "colab": {
          "base_uri": "https://localhost:8080/"
        },
        "id": "C8tAuintl9LX",
        "outputId": "d1784d5f-c975-4973-accb-fc5ab0cd34bc"
      },
      "execution_count": null,
      "outputs": [
        {
          "output_type": "stream",
          "name": "stdout",
          "text": [
            "Requirement already satisfied: investpy in /usr/local/lib/python3.7/dist-packages (1.0.8)\n",
            "Requirement already satisfied: numpy>=1.21.2 in /usr/local/lib/python3.7/dist-packages (from investpy) (1.21.5)\n",
            "Requirement already satisfied: pytz>=2019.3 in /usr/local/lib/python3.7/dist-packages (from investpy) (2022.1)\n",
            "Requirement already satisfied: pandas>=0.25.1 in /usr/local/lib/python3.7/dist-packages (from investpy) (1.3.5)\n",
            "Requirement already satisfied: Unidecode>=1.1.1 in /usr/local/lib/python3.7/dist-packages (from investpy) (1.3.4)\n",
            "Requirement already satisfied: lxml>=4.4.1 in /usr/local/lib/python3.7/dist-packages (from investpy) (4.8.0)\n",
            "Requirement already satisfied: requests>=2.22.0 in /usr/local/lib/python3.7/dist-packages (from investpy) (2.23.0)\n",
            "Requirement already satisfied: setuptools>=41.2.0 in /usr/local/lib/python3.7/dist-packages (from investpy) (57.4.0)\n",
            "Requirement already satisfied: python-dateutil>=2.7.3 in /usr/local/lib/python3.7/dist-packages (from pandas>=0.25.1->investpy) (2.8.2)\n",
            "Requirement already satisfied: six>=1.5 in /usr/local/lib/python3.7/dist-packages (from python-dateutil>=2.7.3->pandas>=0.25.1->investpy) (1.15.0)\n",
            "Requirement already satisfied: idna<3,>=2.5 in /usr/local/lib/python3.7/dist-packages (from requests>=2.22.0->investpy) (2.10)\n",
            "Requirement already satisfied: certifi>=2017.4.17 in /usr/local/lib/python3.7/dist-packages (from requests>=2.22.0->investpy) (2021.10.8)\n",
            "Requirement already satisfied: urllib3!=1.25.0,!=1.25.1,<1.26,>=1.21.1 in /usr/local/lib/python3.7/dist-packages (from requests>=2.22.0->investpy) (1.24.3)\n",
            "Requirement already satisfied: chardet<4,>=3.0.2 in /usr/local/lib/python3.7/dist-packages (from requests>=2.22.0->investpy) (3.0.4)\n"
          ]
        }
      ]
    },
    {
      "cell_type": "code",
      "source": [
        "import pandas as pd\n",
        "import numpy as np\n",
        "import investpy as inv\n"
      ],
      "metadata": {
        "id": "r2GiXLyPmGfG"
      },
      "execution_count": null,
      "outputs": []
    },
    {
      "cell_type": "code",
      "source": [
        "import io\n",
        "import requests\n",
        "\n",
        "url= 'https://github.com/Edu-Moreira/Estudos-de-Python/raw/main/Dados/Dados%20BRL.xlsx'\n",
        "myfile = requests.get(url)\n",
        "\n",
        "df=pd.read_excel(myfile.content)"
      ],
      "metadata": {
        "id": "Z7aV2cBwm6on"
      },
      "execution_count": null,
      "outputs": []
    },
    {
      "cell_type": "code",
      "source": [
        "df = pd.DataFrame(df)\n",
        "df['Data'] = pd.to_datetime(df['Data'])\n",
        "df.set_index('Data', inplace = True)\n",
        "df"
      ],
      "metadata": {
        "colab": {
          "base_uri": "https://localhost:8080/",
          "height": 455
        },
        "id": "IaR0XqX2nKsg",
        "outputId": "92579506-c464-4a37-fa13-381db9eedf55"
      },
      "execution_count": null,
      "outputs": [
        {
          "output_type": "execute_result",
          "data": {
            "text/plain": [
              "            R$ LC07TRUU       R$ SPTR   R$ M1CXBRU  R$ MIMUEMRN  R$ LG38TRUU  \\\n",
              "Data                                                                           \n",
              "1998-12-31   256.348953   2018.536252   577.371816   322.771260   295.251446   \n",
              "1999-01-04   256.131020   2015.239664   587.618856   326.350930   295.031601   \n",
              "1999-01-05   255.966826   2043.879250   591.270710   329.186095   295.202591   \n",
              "1999-01-06   256.596198   2091.498797   600.094656   336.853037   295.471290   \n",
              "1999-01-07   256.188335   2088.196964   598.442854   338.592164   295.593426   \n",
              "...                 ...           ...          ...          ...          ...   \n",
              "2022-03-24  2840.946681  45683.764117  7240.476411  7802.173001  2219.357215   \n",
              "2022-03-25  2805.040399  45643.265734  7196.877058  7683.206793  2200.848476   \n",
              "2022-03-28  2816.858073  46087.777000  7182.588270  7697.576793  2194.561583   \n",
              "2022-03-29  2805.442489  46244.690792  7278.131734  7708.986315  2187.699014   \n",
              "2022-03-30  2814.949602  45969.020560  7300.906361  7797.981750  2201.029504   \n",
              "\n",
              "            R$ SPTRSMCP  \n",
              "Data                     \n",
              "1998-12-31   224.931818  \n",
              "1999-01-04   224.764333  \n",
              "1999-01-05   224.894599  \n",
              "1999-01-06   225.099302  \n",
              "1999-01-07   225.192349  \n",
              "...                 ...  \n",
              "2022-03-24  8704.155015  \n",
              "2022-03-25  8707.457206  \n",
              "2022-03-28  8694.503603  \n",
              "2022-03-29  8824.883715  \n",
              "2022-03-30  8668.060009  \n",
              "\n",
              "[5842 rows x 6 columns]"
            ],
            "text/html": [
              "\n",
              "  <div id=\"df-15e6e17f-9633-447a-9df3-b09fe3030f40\">\n",
              "    <div class=\"colab-df-container\">\n",
              "      <div>\n",
              "<style scoped>\n",
              "    .dataframe tbody tr th:only-of-type {\n",
              "        vertical-align: middle;\n",
              "    }\n",
              "\n",
              "    .dataframe tbody tr th {\n",
              "        vertical-align: top;\n",
              "    }\n",
              "\n",
              "    .dataframe thead th {\n",
              "        text-align: right;\n",
              "    }\n",
              "</style>\n",
              "<table border=\"1\" class=\"dataframe\">\n",
              "  <thead>\n",
              "    <tr style=\"text-align: right;\">\n",
              "      <th></th>\n",
              "      <th>R$ LC07TRUU</th>\n",
              "      <th>R$ SPTR</th>\n",
              "      <th>R$ M1CXBRU</th>\n",
              "      <th>R$ MIMUEMRN</th>\n",
              "      <th>R$ LG38TRUU</th>\n",
              "      <th>R$ SPTRSMCP</th>\n",
              "    </tr>\n",
              "    <tr>\n",
              "      <th>Data</th>\n",
              "      <th></th>\n",
              "      <th></th>\n",
              "      <th></th>\n",
              "      <th></th>\n",
              "      <th></th>\n",
              "      <th></th>\n",
              "    </tr>\n",
              "  </thead>\n",
              "  <tbody>\n",
              "    <tr>\n",
              "      <th>1998-12-31</th>\n",
              "      <td>256.348953</td>\n",
              "      <td>2018.536252</td>\n",
              "      <td>577.371816</td>\n",
              "      <td>322.771260</td>\n",
              "      <td>295.251446</td>\n",
              "      <td>224.931818</td>\n",
              "    </tr>\n",
              "    <tr>\n",
              "      <th>1999-01-04</th>\n",
              "      <td>256.131020</td>\n",
              "      <td>2015.239664</td>\n",
              "      <td>587.618856</td>\n",
              "      <td>326.350930</td>\n",
              "      <td>295.031601</td>\n",
              "      <td>224.764333</td>\n",
              "    </tr>\n",
              "    <tr>\n",
              "      <th>1999-01-05</th>\n",
              "      <td>255.966826</td>\n",
              "      <td>2043.879250</td>\n",
              "      <td>591.270710</td>\n",
              "      <td>329.186095</td>\n",
              "      <td>295.202591</td>\n",
              "      <td>224.894599</td>\n",
              "    </tr>\n",
              "    <tr>\n",
              "      <th>1999-01-06</th>\n",
              "      <td>256.596198</td>\n",
              "      <td>2091.498797</td>\n",
              "      <td>600.094656</td>\n",
              "      <td>336.853037</td>\n",
              "      <td>295.471290</td>\n",
              "      <td>225.099302</td>\n",
              "    </tr>\n",
              "    <tr>\n",
              "      <th>1999-01-07</th>\n",
              "      <td>256.188335</td>\n",
              "      <td>2088.196964</td>\n",
              "      <td>598.442854</td>\n",
              "      <td>338.592164</td>\n",
              "      <td>295.593426</td>\n",
              "      <td>225.192349</td>\n",
              "    </tr>\n",
              "    <tr>\n",
              "      <th>...</th>\n",
              "      <td>...</td>\n",
              "      <td>...</td>\n",
              "      <td>...</td>\n",
              "      <td>...</td>\n",
              "      <td>...</td>\n",
              "      <td>...</td>\n",
              "    </tr>\n",
              "    <tr>\n",
              "      <th>2022-03-24</th>\n",
              "      <td>2840.946681</td>\n",
              "      <td>45683.764117</td>\n",
              "      <td>7240.476411</td>\n",
              "      <td>7802.173001</td>\n",
              "      <td>2219.357215</td>\n",
              "      <td>8704.155015</td>\n",
              "    </tr>\n",
              "    <tr>\n",
              "      <th>2022-03-25</th>\n",
              "      <td>2805.040399</td>\n",
              "      <td>45643.265734</td>\n",
              "      <td>7196.877058</td>\n",
              "      <td>7683.206793</td>\n",
              "      <td>2200.848476</td>\n",
              "      <td>8707.457206</td>\n",
              "    </tr>\n",
              "    <tr>\n",
              "      <th>2022-03-28</th>\n",
              "      <td>2816.858073</td>\n",
              "      <td>46087.777000</td>\n",
              "      <td>7182.588270</td>\n",
              "      <td>7697.576793</td>\n",
              "      <td>2194.561583</td>\n",
              "      <td>8694.503603</td>\n",
              "    </tr>\n",
              "    <tr>\n",
              "      <th>2022-03-29</th>\n",
              "      <td>2805.442489</td>\n",
              "      <td>46244.690792</td>\n",
              "      <td>7278.131734</td>\n",
              "      <td>7708.986315</td>\n",
              "      <td>2187.699014</td>\n",
              "      <td>8824.883715</td>\n",
              "    </tr>\n",
              "    <tr>\n",
              "      <th>2022-03-30</th>\n",
              "      <td>2814.949602</td>\n",
              "      <td>45969.020560</td>\n",
              "      <td>7300.906361</td>\n",
              "      <td>7797.981750</td>\n",
              "      <td>2201.029504</td>\n",
              "      <td>8668.060009</td>\n",
              "    </tr>\n",
              "  </tbody>\n",
              "</table>\n",
              "<p>5842 rows × 6 columns</p>\n",
              "</div>\n",
              "      <button class=\"colab-df-convert\" onclick=\"convertToInteractive('df-15e6e17f-9633-447a-9df3-b09fe3030f40')\"\n",
              "              title=\"Convert this dataframe to an interactive table.\"\n",
              "              style=\"display:none;\">\n",
              "        \n",
              "  <svg xmlns=\"http://www.w3.org/2000/svg\" height=\"24px\"viewBox=\"0 0 24 24\"\n",
              "       width=\"24px\">\n",
              "    <path d=\"M0 0h24v24H0V0z\" fill=\"none\"/>\n",
              "    <path d=\"M18.56 5.44l.94 2.06.94-2.06 2.06-.94-2.06-.94-.94-2.06-.94 2.06-2.06.94zm-11 1L8.5 8.5l.94-2.06 2.06-.94-2.06-.94L8.5 2.5l-.94 2.06-2.06.94zm10 10l.94 2.06.94-2.06 2.06-.94-2.06-.94-.94-2.06-.94 2.06-2.06.94z\"/><path d=\"M17.41 7.96l-1.37-1.37c-.4-.4-.92-.59-1.43-.59-.52 0-1.04.2-1.43.59L10.3 9.45l-7.72 7.72c-.78.78-.78 2.05 0 2.83L4 21.41c.39.39.9.59 1.41.59.51 0 1.02-.2 1.41-.59l7.78-7.78 2.81-2.81c.8-.78.8-2.07 0-2.86zM5.41 20L4 18.59l7.72-7.72 1.47 1.35L5.41 20z\"/>\n",
              "  </svg>\n",
              "      </button>\n",
              "      \n",
              "  <style>\n",
              "    .colab-df-container {\n",
              "      display:flex;\n",
              "      flex-wrap:wrap;\n",
              "      gap: 12px;\n",
              "    }\n",
              "\n",
              "    .colab-df-convert {\n",
              "      background-color: #E8F0FE;\n",
              "      border: none;\n",
              "      border-radius: 50%;\n",
              "      cursor: pointer;\n",
              "      display: none;\n",
              "      fill: #1967D2;\n",
              "      height: 32px;\n",
              "      padding: 0 0 0 0;\n",
              "      width: 32px;\n",
              "    }\n",
              "\n",
              "    .colab-df-convert:hover {\n",
              "      background-color: #E2EBFA;\n",
              "      box-shadow: 0px 1px 2px rgba(60, 64, 67, 0.3), 0px 1px 3px 1px rgba(60, 64, 67, 0.15);\n",
              "      fill: #174EA6;\n",
              "    }\n",
              "\n",
              "    [theme=dark] .colab-df-convert {\n",
              "      background-color: #3B4455;\n",
              "      fill: #D2E3FC;\n",
              "    }\n",
              "\n",
              "    [theme=dark] .colab-df-convert:hover {\n",
              "      background-color: #434B5C;\n",
              "      box-shadow: 0px 1px 3px 1px rgba(0, 0, 0, 0.15);\n",
              "      filter: drop-shadow(0px 1px 2px rgba(0, 0, 0, 0.3));\n",
              "      fill: #FFFFFF;\n",
              "    }\n",
              "  </style>\n",
              "\n",
              "      <script>\n",
              "        const buttonEl =\n",
              "          document.querySelector('#df-15e6e17f-9633-447a-9df3-b09fe3030f40 button.colab-df-convert');\n",
              "        buttonEl.style.display =\n",
              "          google.colab.kernel.accessAllowed ? 'block' : 'none';\n",
              "\n",
              "        async function convertToInteractive(key) {\n",
              "          const element = document.querySelector('#df-15e6e17f-9633-447a-9df3-b09fe3030f40');\n",
              "          const dataTable =\n",
              "            await google.colab.kernel.invokeFunction('convertToInteractive',\n",
              "                                                     [key], {});\n",
              "          if (!dataTable) return;\n",
              "\n",
              "          const docLinkHtml = 'Like what you see? Visit the ' +\n",
              "            '<a target=\"_blank\" href=https://colab.research.google.com/notebooks/data_table.ipynb>data table notebook</a>'\n",
              "            + ' to learn more about interactive tables.';\n",
              "          element.innerHTML = '';\n",
              "          dataTable['output_type'] = 'display_data';\n",
              "          await google.colab.output.renderOutput(dataTable, element);\n",
              "          const docLink = document.createElement('div');\n",
              "          docLink.innerHTML = docLinkHtml;\n",
              "          element.appendChild(docLink);\n",
              "        }\n",
              "      </script>\n",
              "    </div>\n",
              "  </div>\n",
              "  "
            ]
          },
          "metadata": {},
          "execution_count": 16
        }
      ]
    },
    {
      "cell_type": "code",
      "source": [
        "df.loc['20110102':'20211231']"
      ],
      "metadata": {
        "colab": {
          "base_uri": "https://localhost:8080/",
          "height": 455
        },
        "id": "-0pSSdRKTsBG",
        "outputId": "99d149ec-1995-4016-e5cf-c58f837afc14"
      },
      "execution_count": null,
      "outputs": [
        {
          "output_type": "execute_result",
          "data": {
            "text/plain": [
              "            R$ LC07TRUU       R$ SPTR   R$ M1CXBRU  R$ MIMUEMRN  R$ LG38TRUU  \\\n",
              "Data                                                                           \n",
              "2011-01-03   701.065781   3530.333300  1390.455690  2079.492335   720.019261   \n",
              "2011-01-04   703.269576   3535.575190  1398.998556  2088.570923   719.598262   \n",
              "2011-01-05   706.400349   3587.438765  1396.588419  2100.451367   716.012998   \n",
              "2011-01-06   714.137871   3612.045475  1407.846069  2108.825922   718.519342   \n",
              "2011-01-07   716.949785   3606.242483  1405.617265  2094.874695   719.114737   \n",
              "...                 ...           ...          ...          ...          ...   \n",
              "2021-12-27  3576.956345  56863.389220  9009.276100  9805.089635  2803.579042   \n",
              "2021-12-28  3563.385830  56593.390745  9024.266886  9813.366071  2791.926343   \n",
              "2021-12-29  3565.207273  56854.597321  9081.800838  9787.868077  2800.464066   \n",
              "2021-12-30  3520.797719  55874.834377  8940.184220  9686.883023  2756.734075   \n",
              "2021-12-31  3525.369265  55730.768189  8953.968055  9757.057810  2764.522779   \n",
              "\n",
              "             R$ SPTRSMCP  \n",
              "Data                      \n",
              "2011-01-03    823.677296  \n",
              "2011-01-04    810.952614  \n",
              "2011-01-05    826.270664  \n",
              "2011-01-06    829.355972  \n",
              "2011-01-07    825.612354  \n",
              "...                  ...  \n",
              "2021-12-27  10879.598510  \n",
              "2021-12-28  10806.742596  \n",
              "2021-12-29  10886.440873  \n",
              "2021-12-30  10684.531329  \n",
              "2021-12-31  10680.379437  \n",
              "\n",
              "[2767 rows x 6 columns]"
            ],
            "text/html": [
              "\n",
              "  <div id=\"df-64b48762-a67a-4364-8114-a829344cb7b4\">\n",
              "    <div class=\"colab-df-container\">\n",
              "      <div>\n",
              "<style scoped>\n",
              "    .dataframe tbody tr th:only-of-type {\n",
              "        vertical-align: middle;\n",
              "    }\n",
              "\n",
              "    .dataframe tbody tr th {\n",
              "        vertical-align: top;\n",
              "    }\n",
              "\n",
              "    .dataframe thead th {\n",
              "        text-align: right;\n",
              "    }\n",
              "</style>\n",
              "<table border=\"1\" class=\"dataframe\">\n",
              "  <thead>\n",
              "    <tr style=\"text-align: right;\">\n",
              "      <th></th>\n",
              "      <th>R$ LC07TRUU</th>\n",
              "      <th>R$ SPTR</th>\n",
              "      <th>R$ M1CXBRU</th>\n",
              "      <th>R$ MIMUEMRN</th>\n",
              "      <th>R$ LG38TRUU</th>\n",
              "      <th>R$ SPTRSMCP</th>\n",
              "    </tr>\n",
              "    <tr>\n",
              "      <th>Data</th>\n",
              "      <th></th>\n",
              "      <th></th>\n",
              "      <th></th>\n",
              "      <th></th>\n",
              "      <th></th>\n",
              "      <th></th>\n",
              "    </tr>\n",
              "  </thead>\n",
              "  <tbody>\n",
              "    <tr>\n",
              "      <th>2011-01-03</th>\n",
              "      <td>701.065781</td>\n",
              "      <td>3530.333300</td>\n",
              "      <td>1390.455690</td>\n",
              "      <td>2079.492335</td>\n",
              "      <td>720.019261</td>\n",
              "      <td>823.677296</td>\n",
              "    </tr>\n",
              "    <tr>\n",
              "      <th>2011-01-04</th>\n",
              "      <td>703.269576</td>\n",
              "      <td>3535.575190</td>\n",
              "      <td>1398.998556</td>\n",
              "      <td>2088.570923</td>\n",
              "      <td>719.598262</td>\n",
              "      <td>810.952614</td>\n",
              "    </tr>\n",
              "    <tr>\n",
              "      <th>2011-01-05</th>\n",
              "      <td>706.400349</td>\n",
              "      <td>3587.438765</td>\n",
              "      <td>1396.588419</td>\n",
              "      <td>2100.451367</td>\n",
              "      <td>716.012998</td>\n",
              "      <td>826.270664</td>\n",
              "    </tr>\n",
              "    <tr>\n",
              "      <th>2011-01-06</th>\n",
              "      <td>714.137871</td>\n",
              "      <td>3612.045475</td>\n",
              "      <td>1407.846069</td>\n",
              "      <td>2108.825922</td>\n",
              "      <td>718.519342</td>\n",
              "      <td>829.355972</td>\n",
              "    </tr>\n",
              "    <tr>\n",
              "      <th>2011-01-07</th>\n",
              "      <td>716.949785</td>\n",
              "      <td>3606.242483</td>\n",
              "      <td>1405.617265</td>\n",
              "      <td>2094.874695</td>\n",
              "      <td>719.114737</td>\n",
              "      <td>825.612354</td>\n",
              "    </tr>\n",
              "    <tr>\n",
              "      <th>...</th>\n",
              "      <td>...</td>\n",
              "      <td>...</td>\n",
              "      <td>...</td>\n",
              "      <td>...</td>\n",
              "      <td>...</td>\n",
              "      <td>...</td>\n",
              "    </tr>\n",
              "    <tr>\n",
              "      <th>2021-12-27</th>\n",
              "      <td>3576.956345</td>\n",
              "      <td>56863.389220</td>\n",
              "      <td>9009.276100</td>\n",
              "      <td>9805.089635</td>\n",
              "      <td>2803.579042</td>\n",
              "      <td>10879.598510</td>\n",
              "    </tr>\n",
              "    <tr>\n",
              "      <th>2021-12-28</th>\n",
              "      <td>3563.385830</td>\n",
              "      <td>56593.390745</td>\n",
              "      <td>9024.266886</td>\n",
              "      <td>9813.366071</td>\n",
              "      <td>2791.926343</td>\n",
              "      <td>10806.742596</td>\n",
              "    </tr>\n",
              "    <tr>\n",
              "      <th>2021-12-29</th>\n",
              "      <td>3565.207273</td>\n",
              "      <td>56854.597321</td>\n",
              "      <td>9081.800838</td>\n",
              "      <td>9787.868077</td>\n",
              "      <td>2800.464066</td>\n",
              "      <td>10886.440873</td>\n",
              "    </tr>\n",
              "    <tr>\n",
              "      <th>2021-12-30</th>\n",
              "      <td>3520.797719</td>\n",
              "      <td>55874.834377</td>\n",
              "      <td>8940.184220</td>\n",
              "      <td>9686.883023</td>\n",
              "      <td>2756.734075</td>\n",
              "      <td>10684.531329</td>\n",
              "    </tr>\n",
              "    <tr>\n",
              "      <th>2021-12-31</th>\n",
              "      <td>3525.369265</td>\n",
              "      <td>55730.768189</td>\n",
              "      <td>8953.968055</td>\n",
              "      <td>9757.057810</td>\n",
              "      <td>2764.522779</td>\n",
              "      <td>10680.379437</td>\n",
              "    </tr>\n",
              "  </tbody>\n",
              "</table>\n",
              "<p>2767 rows × 6 columns</p>\n",
              "</div>\n",
              "      <button class=\"colab-df-convert\" onclick=\"convertToInteractive('df-64b48762-a67a-4364-8114-a829344cb7b4')\"\n",
              "              title=\"Convert this dataframe to an interactive table.\"\n",
              "              style=\"display:none;\">\n",
              "        \n",
              "  <svg xmlns=\"http://www.w3.org/2000/svg\" height=\"24px\"viewBox=\"0 0 24 24\"\n",
              "       width=\"24px\">\n",
              "    <path d=\"M0 0h24v24H0V0z\" fill=\"none\"/>\n",
              "    <path d=\"M18.56 5.44l.94 2.06.94-2.06 2.06-.94-2.06-.94-.94-2.06-.94 2.06-2.06.94zm-11 1L8.5 8.5l.94-2.06 2.06-.94-2.06-.94L8.5 2.5l-.94 2.06-2.06.94zm10 10l.94 2.06.94-2.06 2.06-.94-2.06-.94-.94-2.06-.94 2.06-2.06.94z\"/><path d=\"M17.41 7.96l-1.37-1.37c-.4-.4-.92-.59-1.43-.59-.52 0-1.04.2-1.43.59L10.3 9.45l-7.72 7.72c-.78.78-.78 2.05 0 2.83L4 21.41c.39.39.9.59 1.41.59.51 0 1.02-.2 1.41-.59l7.78-7.78 2.81-2.81c.8-.78.8-2.07 0-2.86zM5.41 20L4 18.59l7.72-7.72 1.47 1.35L5.41 20z\"/>\n",
              "  </svg>\n",
              "      </button>\n",
              "      \n",
              "  <style>\n",
              "    .colab-df-container {\n",
              "      display:flex;\n",
              "      flex-wrap:wrap;\n",
              "      gap: 12px;\n",
              "    }\n",
              "\n",
              "    .colab-df-convert {\n",
              "      background-color: #E8F0FE;\n",
              "      border: none;\n",
              "      border-radius: 50%;\n",
              "      cursor: pointer;\n",
              "      display: none;\n",
              "      fill: #1967D2;\n",
              "      height: 32px;\n",
              "      padding: 0 0 0 0;\n",
              "      width: 32px;\n",
              "    }\n",
              "\n",
              "    .colab-df-convert:hover {\n",
              "      background-color: #E2EBFA;\n",
              "      box-shadow: 0px 1px 2px rgba(60, 64, 67, 0.3), 0px 1px 3px 1px rgba(60, 64, 67, 0.15);\n",
              "      fill: #174EA6;\n",
              "    }\n",
              "\n",
              "    [theme=dark] .colab-df-convert {\n",
              "      background-color: #3B4455;\n",
              "      fill: #D2E3FC;\n",
              "    }\n",
              "\n",
              "    [theme=dark] .colab-df-convert:hover {\n",
              "      background-color: #434B5C;\n",
              "      box-shadow: 0px 1px 3px 1px rgba(0, 0, 0, 0.15);\n",
              "      filter: drop-shadow(0px 1px 2px rgba(0, 0, 0, 0.3));\n",
              "      fill: #FFFFFF;\n",
              "    }\n",
              "  </style>\n",
              "\n",
              "      <script>\n",
              "        const buttonEl =\n",
              "          document.querySelector('#df-64b48762-a67a-4364-8114-a829344cb7b4 button.colab-df-convert');\n",
              "        buttonEl.style.display =\n",
              "          google.colab.kernel.accessAllowed ? 'block' : 'none';\n",
              "\n",
              "        async function convertToInteractive(key) {\n",
              "          const element = document.querySelector('#df-64b48762-a67a-4364-8114-a829344cb7b4');\n",
              "          const dataTable =\n",
              "            await google.colab.kernel.invokeFunction('convertToInteractive',\n",
              "                                                     [key], {});\n",
              "          if (!dataTable) return;\n",
              "\n",
              "          const docLinkHtml = 'Like what you see? Visit the ' +\n",
              "            '<a target=\"_blank\" href=https://colab.research.google.com/notebooks/data_table.ipynb>data table notebook</a>'\n",
              "            + ' to learn more about interactive tables.';\n",
              "          element.innerHTML = '';\n",
              "          dataTable['output_type'] = 'display_data';\n",
              "          await google.colab.output.renderOutput(dataTable, element);\n",
              "          const docLink = document.createElement('div');\n",
              "          docLink.innerHTML = docLinkHtml;\n",
              "          element.appendChild(docLink);\n",
              "        }\n",
              "      </script>\n",
              "    </div>\n",
              "  </div>\n",
              "  "
            ]
          },
          "metadata": {},
          "execution_count": 17
        }
      ]
    },
    {
      "cell_type": "code",
      "source": [
        "import pandas as pd\n",
        "from pypfopt import EfficientFrontier\n",
        "from pypfopt import risk_models\n",
        "from pypfopt import expected_returns\n",
        "\n",
        "\n",
        "\n",
        "# Calculate expected returns (mu) and sample covariance (S)\n",
        "mu = expected_returns.mean_historical_return(df.loc['20110102':'20211231'])\n",
        "S = risk_models.sample_cov(df.loc['20110102':'20211231'])\n",
        "\n",
        "\n",
        "ef = EfficientFrontier(mu, S)\n",
        "\n",
        "#Adiciona as retrições de peso máximo de cada classe \n",
        "ef.add_constraint(lambda x: x <= np.array([1,1,1,0.2,1,1]))\n",
        "\n",
        "# Optimize for efficient_return\n",
        "raw_weights = ef.min_volatility()\n",
        "cleaned_weights = ef.clean_weights()\n",
        "ef.save_weights_to_file(\"weights.csv\")  # saves to file\n",
        "print(cleaned_weights)\n",
        "ef.portfolio_performance(verbose=True)\n",
        "weights = cleaned_weights"
      ],
      "metadata": {
        "colab": {
          "base_uri": "https://localhost:8080/"
        },
        "id": "UZBYRUSLnCl_",
        "outputId": "0a1f33de-beba-477c-926d-08c5b3249205"
      },
      "execution_count": null,
      "outputs": [
        {
          "output_type": "stream",
          "name": "stdout",
          "text": [
            "OrderedDict([('R$ LC07TRUU', 0.24296), ('R$ SPTR', 0.0), ('R$ M1CXBRU', 0.20997), ('R$ MIMUEMRN', 0.2), ('R$ LG38TRUU', 0.32395), ('R$ SPTRSMCP', 0.02312)])\n",
            "Expected annual return: 15.6%\n",
            "Annual volatility: 12.5%\n",
            "Sharpe Ratio: 1.08\n"
          ]
        }
      ]
    },
    {
      "cell_type": "code",
      "source": [
        "a = cleaned_weights['R$ LG38TRUU']\n",
        "b = (1-(a*0.1777))\n",
        "b*0.2"
      ],
      "metadata": {
        "colab": {
          "base_uri": "https://localhost:8080/"
        },
        "id": "tJM6FEWy5_24",
        "outputId": "8c7e2dc7-c89d-4b67-8cb1-80d57e27bfdc"
      },
      "execution_count": null,
      "outputs": [
        {
          "output_type": "execute_result",
          "data": {
            "text/plain": [
              "0.18848681700000003"
            ]
          },
          "metadata": {},
          "execution_count": 55
        }
      ]
    },
    {
      "cell_type": "code",
      "source": [
        "\n",
        "#Adiciona as retrições de peso máximo de cada classe \n",
        "ef.add_constraint(lambda x: x <= np.array([1,1,1,0.1884,1,1]))\n",
        "\n",
        "# Optimize for efficient_return\n",
        "raw_weights = ef.min_volatility()\n",
        "cleaned_weights = ef.clean_weights()\n",
        "ef.save_weights_to_file(\"weights.csv\")  # saves to file\n",
        "print(cleaned_weights)\n",
        "ef.portfolio_performance(verbose=True)\n",
        "weights = cleaned_weights"
      ],
      "metadata": {
        "colab": {
          "base_uri": "https://localhost:8080/",
          "height": 356
        },
        "id": "rrFjf3ki7-Gr",
        "outputId": "64bd3960-02c1-4ea0-ddc9-c750d3ba7c08"
      },
      "execution_count": null,
      "outputs": [
        {
          "output_type": "error",
          "ename": "InstantiationError",
          "evalue": "ignored",
          "traceback": [
            "\u001b[0;31m---------------------------------------------------------------------------\u001b[0m",
            "\u001b[0;31mInstantiationError\u001b[0m                        Traceback (most recent call last)",
            "\u001b[0;32m<ipython-input-58-39c804703f3b>\u001b[0m in \u001b[0;36m<module>\u001b[0;34m()\u001b[0m\n\u001b[1;32m      1\u001b[0m \u001b[0;34m\u001b[0m\u001b[0m\n\u001b[1;32m      2\u001b[0m \u001b[0;31m#Adiciona as retrições de peso máximo de cada classe\u001b[0m\u001b[0;34m\u001b[0m\u001b[0;34m\u001b[0m\u001b[0;34m\u001b[0m\u001b[0m\n\u001b[0;32m----> 3\u001b[0;31m \u001b[0mef\u001b[0m\u001b[0;34m.\u001b[0m\u001b[0madd_constraint\u001b[0m\u001b[0;34m(\u001b[0m\u001b[0;32mlambda\u001b[0m \u001b[0mx\u001b[0m\u001b[0;34m:\u001b[0m \u001b[0mx\u001b[0m \u001b[0;34m<=\u001b[0m \u001b[0mnp\u001b[0m\u001b[0;34m.\u001b[0m\u001b[0marray\u001b[0m\u001b[0;34m(\u001b[0m\u001b[0;34m[\u001b[0m\u001b[0;36m1\u001b[0m\u001b[0;34m,\u001b[0m\u001b[0;36m1\u001b[0m\u001b[0;34m,\u001b[0m\u001b[0;36m1\u001b[0m\u001b[0;34m,\u001b[0m\u001b[0;36m0.1884\u001b[0m\u001b[0;34m,\u001b[0m\u001b[0;36m1\u001b[0m\u001b[0;34m,\u001b[0m\u001b[0;36m1\u001b[0m\u001b[0;34m]\u001b[0m\u001b[0;34m)\u001b[0m\u001b[0;34m)\u001b[0m\u001b[0;34m\u001b[0m\u001b[0;34m\u001b[0m\u001b[0m\n\u001b[0m\u001b[1;32m      4\u001b[0m \u001b[0;34m\u001b[0m\u001b[0m\n\u001b[1;32m      5\u001b[0m \u001b[0;31m# Optimize for efficient_return\u001b[0m\u001b[0;34m\u001b[0m\u001b[0;34m\u001b[0m\u001b[0;34m\u001b[0m\u001b[0m\n",
            "\u001b[0;32m/usr/local/lib/python3.7/dist-packages/pypfopt/base_optimizer.py\u001b[0m in \u001b[0;36madd_constraint\u001b[0;34m(self, new_constraint)\u001b[0m\n\u001b[1;32m    346\u001b[0m         \u001b[0;32mif\u001b[0m \u001b[0mself\u001b[0m\u001b[0;34m.\u001b[0m\u001b[0m_opt\u001b[0m \u001b[0;32mis\u001b[0m \u001b[0;32mnot\u001b[0m \u001b[0;32mNone\u001b[0m\u001b[0;34m:\u001b[0m\u001b[0;34m\u001b[0m\u001b[0;34m\u001b[0m\u001b[0m\n\u001b[1;32m    347\u001b[0m             raise exceptions.InstantiationError(\n\u001b[0;32m--> 348\u001b[0;31m                 \u001b[0;34m\"Adding constraints to an already solved problem might have unintended consequences. \"\u001b[0m\u001b[0;34m\u001b[0m\u001b[0;34m\u001b[0m\u001b[0m\n\u001b[0m\u001b[1;32m    349\u001b[0m                 \u001b[0;34m\"A new instance should be created for the new set of constraints.\"\u001b[0m\u001b[0;34m\u001b[0m\u001b[0;34m\u001b[0m\u001b[0m\n\u001b[1;32m    350\u001b[0m             )\n",
            "\u001b[0;31mInstantiationError\u001b[0m: Adding constraints to an already solved problem might have unintended consequences. A new instance should be created for the new set of constraints."
          ]
        }
      ]
    },
    {
      "cell_type": "code",
      "source": [
        "risk = {\"Risco\":{'USD LC07TRUU': 0.1497,'USD SPTR':0.1827,'USD M1CXBRU':0.1487, 'USD MIMUEMRN': 0.1455, 'USD LG38TRUU': 0.1353, 'USD SPTRSMCP': 0.2155}}\n",
        "risk = pd.DataFrame(risk)\n",
        "risk"
      ],
      "metadata": {
        "colab": {
          "base_uri": "https://localhost:8080/",
          "height": 238
        },
        "id": "nMh4vVDsb6QX",
        "outputId": "8458d0cd-d3e4-4c13-9985-40926849dca5"
      },
      "execution_count": null,
      "outputs": [
        {
          "output_type": "execute_result",
          "data": {
            "text/plain": [
              "               Risco\n",
              "USD LC07TRUU  0.1497\n",
              "USD LG38TRUU  0.1353\n",
              "USD M1CXBRU   0.1487\n",
              "USD MIMUEMRN  0.1455\n",
              "USD SPTR      0.1827\n",
              "USD SPTRSMCP  0.2155"
            ],
            "text/html": [
              "\n",
              "  <div id=\"df-53b24a6f-e741-4185-a935-873cd5f619eb\">\n",
              "    <div class=\"colab-df-container\">\n",
              "      <div>\n",
              "<style scoped>\n",
              "    .dataframe tbody tr th:only-of-type {\n",
              "        vertical-align: middle;\n",
              "    }\n",
              "\n",
              "    .dataframe tbody tr th {\n",
              "        vertical-align: top;\n",
              "    }\n",
              "\n",
              "    .dataframe thead th {\n",
              "        text-align: right;\n",
              "    }\n",
              "</style>\n",
              "<table border=\"1\" class=\"dataframe\">\n",
              "  <thead>\n",
              "    <tr style=\"text-align: right;\">\n",
              "      <th></th>\n",
              "      <th>Risco</th>\n",
              "    </tr>\n",
              "  </thead>\n",
              "  <tbody>\n",
              "    <tr>\n",
              "      <th>USD LC07TRUU</th>\n",
              "      <td>0.1497</td>\n",
              "    </tr>\n",
              "    <tr>\n",
              "      <th>USD LG38TRUU</th>\n",
              "      <td>0.1353</td>\n",
              "    </tr>\n",
              "    <tr>\n",
              "      <th>USD M1CXBRU</th>\n",
              "      <td>0.1487</td>\n",
              "    </tr>\n",
              "    <tr>\n",
              "      <th>USD MIMUEMRN</th>\n",
              "      <td>0.1455</td>\n",
              "    </tr>\n",
              "    <tr>\n",
              "      <th>USD SPTR</th>\n",
              "      <td>0.1827</td>\n",
              "    </tr>\n",
              "    <tr>\n",
              "      <th>USD SPTRSMCP</th>\n",
              "      <td>0.2155</td>\n",
              "    </tr>\n",
              "  </tbody>\n",
              "</table>\n",
              "</div>\n",
              "      <button class=\"colab-df-convert\" onclick=\"convertToInteractive('df-53b24a6f-e741-4185-a935-873cd5f619eb')\"\n",
              "              title=\"Convert this dataframe to an interactive table.\"\n",
              "              style=\"display:none;\">\n",
              "        \n",
              "  <svg xmlns=\"http://www.w3.org/2000/svg\" height=\"24px\"viewBox=\"0 0 24 24\"\n",
              "       width=\"24px\">\n",
              "    <path d=\"M0 0h24v24H0V0z\" fill=\"none\"/>\n",
              "    <path d=\"M18.56 5.44l.94 2.06.94-2.06 2.06-.94-2.06-.94-.94-2.06-.94 2.06-2.06.94zm-11 1L8.5 8.5l.94-2.06 2.06-.94-2.06-.94L8.5 2.5l-.94 2.06-2.06.94zm10 10l.94 2.06.94-2.06 2.06-.94-2.06-.94-.94-2.06-.94 2.06-2.06.94z\"/><path d=\"M17.41 7.96l-1.37-1.37c-.4-.4-.92-.59-1.43-.59-.52 0-1.04.2-1.43.59L10.3 9.45l-7.72 7.72c-.78.78-.78 2.05 0 2.83L4 21.41c.39.39.9.59 1.41.59.51 0 1.02-.2 1.41-.59l7.78-7.78 2.81-2.81c.8-.78.8-2.07 0-2.86zM5.41 20L4 18.59l7.72-7.72 1.47 1.35L5.41 20z\"/>\n",
              "  </svg>\n",
              "      </button>\n",
              "      \n",
              "  <style>\n",
              "    .colab-df-container {\n",
              "      display:flex;\n",
              "      flex-wrap:wrap;\n",
              "      gap: 12px;\n",
              "    }\n",
              "\n",
              "    .colab-df-convert {\n",
              "      background-color: #E8F0FE;\n",
              "      border: none;\n",
              "      border-radius: 50%;\n",
              "      cursor: pointer;\n",
              "      display: none;\n",
              "      fill: #1967D2;\n",
              "      height: 32px;\n",
              "      padding: 0 0 0 0;\n",
              "      width: 32px;\n",
              "    }\n",
              "\n",
              "    .colab-df-convert:hover {\n",
              "      background-color: #E2EBFA;\n",
              "      box-shadow: 0px 1px 2px rgba(60, 64, 67, 0.3), 0px 1px 3px 1px rgba(60, 64, 67, 0.15);\n",
              "      fill: #174EA6;\n",
              "    }\n",
              "\n",
              "    [theme=dark] .colab-df-convert {\n",
              "      background-color: #3B4455;\n",
              "      fill: #D2E3FC;\n",
              "    }\n",
              "\n",
              "    [theme=dark] .colab-df-convert:hover {\n",
              "      background-color: #434B5C;\n",
              "      box-shadow: 0px 1px 3px 1px rgba(0, 0, 0, 0.15);\n",
              "      filter: drop-shadow(0px 1px 2px rgba(0, 0, 0, 0.3));\n",
              "      fill: #FFFFFF;\n",
              "    }\n",
              "  </style>\n",
              "\n",
              "      <script>\n",
              "        const buttonEl =\n",
              "          document.querySelector('#df-53b24a6f-e741-4185-a935-873cd5f619eb button.colab-df-convert');\n",
              "        buttonEl.style.display =\n",
              "          google.colab.kernel.accessAllowed ? 'block' : 'none';\n",
              "\n",
              "        async function convertToInteractive(key) {\n",
              "          const element = document.querySelector('#df-53b24a6f-e741-4185-a935-873cd5f619eb');\n",
              "          const dataTable =\n",
              "            await google.colab.kernel.invokeFunction('convertToInteractive',\n",
              "                                                     [key], {});\n",
              "          if (!dataTable) return;\n",
              "\n",
              "          const docLinkHtml = 'Like what you see? Visit the ' +\n",
              "            '<a target=\"_blank\" href=https://colab.research.google.com/notebooks/data_table.ipynb>data table notebook</a>'\n",
              "            + ' to learn more about interactive tables.';\n",
              "          element.innerHTML = '';\n",
              "          dataTable['output_type'] = 'display_data';\n",
              "          await google.colab.output.renderOutput(dataTable, element);\n",
              "          const docLink = document.createElement('div');\n",
              "          docLink.innerHTML = docLinkHtml;\n",
              "          element.appendChild(docLink);\n",
              "        }\n",
              "      </script>\n",
              "    </div>\n",
              "  </div>\n",
              "  "
            ]
          },
          "metadata": {},
          "execution_count": 19
        }
      ]
    },
    {
      "cell_type": "code",
      "source": [
        "ret = {'USD LC07TRUU': 0.1671,'USD SPTR':0.2760,'USD M1CXBRU':0.1813, 'USD MIMUEMRN': 0.1594, 'USD LG38TRUU': 0.1428, 'USD SPTRSMCP': 0.2541}\n",
        "ret = pd.Series(ret) "
      ],
      "metadata": {
        "id": "KUNzJ8FDWnwj"
      },
      "execution_count": null,
      "outputs": []
    },
    {
      "cell_type": "code",
      "source": [
        "from pypfopt.discrete_allocation import DiscreteAllocation, get_latest_prices\n",
        "\n",
        "\n",
        "latest_prices = get_latest_prices(df)\n",
        "\n",
        "da = DiscreteAllocation(weights, latest_prices, total_portfolio_value=10000)\n",
        "allocation, leftover = da.greedy_portfolio()\n",
        "print(\"Discrete allocation:\", allocation)\n",
        "print(\"Funds remaining: ${:.2f}\".format(leftover))"
      ],
      "metadata": {
        "colab": {
          "base_uri": "https://localhost:8080/"
        },
        "id": "u_VqF7EtL-ni",
        "outputId": "8db49ce6-2c55-4bbe-eca8-fc68a597da2e"
      },
      "execution_count": null,
      "outputs": [
        {
          "output_type": "stream",
          "name": "stdout",
          "text": [
            "Discrete allocation: {'R$ LG38TRUU': 1, 'R$ LC07TRUU': 1}\n",
            "Funds remaining: $4984.02\n"
          ]
        }
      ]
    },
    {
      "cell_type": "code",
      "source": [
        "import pypfopt as opt"
      ],
      "metadata": {
        "id": "UolSOsdYlDAb"
      },
      "execution_count": null,
      "outputs": []
    },
    {
      "cell_type": "code",
      "source": [
        "ef = EfficientFrontier(mu, S, weight_bounds=(0, 1))\n",
        "# ef.efficient_return(target_return=0.2, market_neutral=True)\n",
        "a  = ef.efficient_return(0.08)\n",
        "a"
      ],
      "metadata": {
        "colab": {
          "base_uri": "https://localhost:8080/"
        },
        "id": "fw6UQrbUQURq",
        "outputId": "6d34abd8-24bf-4802-e28f-7a542ac356c5"
      },
      "execution_count": null,
      "outputs": [
        {
          "output_type": "execute_result",
          "data": {
            "text/plain": [
              "OrderedDict([('R$ LC07TRUU', 0.1871016726394003),\n",
              "             ('R$ SPTR', 0.0),\n",
              "             ('R$ M1CXBRU', 0.0841453638614938),\n",
              "             ('R$ MIMUEMRN', 0.3480824723430142),\n",
              "             ('R$ LG38TRUU', 0.3568894686722276),\n",
              "             ('R$ SPTRSMCP', 0.0237810224838642)])"
            ]
          },
          "metadata": {},
          "execution_count": 23
        }
      ]
    },
    {
      "cell_type": "code",
      "source": [
        "from pypfopt.black_litterman import BlackLittermanModel\n",
        "\n",
        "S = risk_models.sample_cov(df.loc['20110102':'20211231'])\n",
        "viewdict = {\"R$ LC07TRUU\": 0.1671, \"R$ SPTR\": 0.2760, \"R$ M1CXBRU\": 0.1813, \"R$ MIMUEMRN\": 0.1594, \"R$ LG38TRUU\": 0.1428,\"R$ SPTRSMCP\": 0.2541}\n",
        "bl = BlackLittermanModel(S, pi=\"equal\", absolute_views=viewdict, omega=\"default\")\n",
        "rets = bl.bl_returns()\n",
        "\n",
        "ef = EfficientFrontier(rets, S)\n",
        "ef.add_constraint(lambda x: x <= np.array([1,1,1,0.2,1,1]))\n",
        "ef.max_sharpe()"
      ],
      "metadata": {
        "colab": {
          "base_uri": "https://localhost:8080/"
        },
        "id": "_IS-DQpwkIOJ",
        "outputId": "773abf9a-4d7a-4e41-acc4-a57ff851a650"
      },
      "execution_count": null,
      "outputs": [
        {
          "output_type": "execute_result",
          "data": {
            "text/plain": [
              "OrderedDict([('R$ LC07TRUU', 0.2247792476209152),\n",
              "             ('R$ SPTR', 0.1095046944276063),\n",
              "             ('R$ M1CXBRU', 0.1456130888534935),\n",
              "             ('R$ MIMUEMRN', 0.2),\n",
              "             ('R$ LG38TRUU', 0.221746135893294),\n",
              "             ('R$ SPTRSMCP', 0.098356833204691)])"
            ]
          },
          "metadata": {},
          "execution_count": 24
        }
      ]
    },
    {
      "cell_type": "code",
      "source": [
        "\n",
        "\n"
      ],
      "metadata": {
        "id": "hKNrEC20bpZ2"
      },
      "execution_count": null,
      "outputs": []
    }
  ]
}