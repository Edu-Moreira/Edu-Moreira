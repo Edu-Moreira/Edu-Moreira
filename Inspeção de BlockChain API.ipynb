{
 "cells": [
  {
   "cell_type": "code",
   "execution_count": 40,
   "metadata": {},
   "outputs": [],
   "source": [
    "import requests\n",
    "import datetime\n"
   ]
  },
  {
   "cell_type": "code",
   "execution_count": 41,
   "metadata": {},
   "outputs": [
    {
     "name": "stdout",
     "output_type": "stream",
     "text": [
      "Bloco mais recente:\n",
      "Hash: 000000000000000000000945087a03eb5717faf202750a2735f6cd463b7ac885\n",
      "Altura: 863094\n",
      "Timestamp: 1727454066\n"
     ]
    }
   ],
   "source": [
    "import requests\n",
    "\n",
    "# Função para buscar o bloco mais recente\n",
    "def buscar_bloco_mais_recente():\n",
    "    url = \"https://blockchain.info/latestblock\"\n",
    "    \n",
    "    response = requests.get(url)\n",
    "    \n",
    "    if response.status_code == 200:\n",
    "        bloco = response.json()\n",
    "        bloco_hash = bloco['hash']\n",
    "        bloco_altura = bloco['height']\n",
    "        bloco_timestamp = bloco['time']\n",
    "        \n",
    "        print(f\"Bloco mais recente:\")\n",
    "        print(f\"Hash: {bloco_hash}\")\n",
    "        print(f\"Altura: {bloco_altura}\")\n",
    "        print(f\"Timestamp: {bloco_timestamp}\")\n",
    "    else:\n",
    "        print(f\"Erro ao buscar bloco mais recente: {response.status_code}\")\n",
    "\n",
    "# Buscar o bloco mais recente\n",
    "buscar_bloco_mais_recente()\n"
   ]
  },
  {
   "cell_type": "code",
   "execution_count": 42,
   "metadata": {},
   "outputs": [
    {
     "data": {
      "text/plain": [
       "1727454066"
      ]
     },
     "execution_count": 42,
     "metadata": {},
     "output_type": "execute_result"
    }
   ],
   "source": [
    "url = \"https://blockchain.info/latestblock\"\n",
    "    \n",
    "response = requests.get(url)\n",
    "    \n",
    "bloco = response.json()\n",
    "\n",
    "bloco['time']"
   ]
  },
  {
   "cell_type": "code",
   "execution_count": 43,
   "metadata": {},
   "outputs": [
    {
     "data": {
      "text/plain": [
       "datetime.datetime(2024, 9, 13, 18, 9, 12)"
      ]
     },
     "execution_count": 43,
     "metadata": {},
     "output_type": "execute_result"
    }
   ],
   "source": [
    "import datetime\n",
    "hash_desejado = '0000000000000000000293ff530a8e56eb4f34c900ce70fb1dbcdc8197dc6458'\n",
    "url2 = f'https://blockchain.info/rawblock/{hash_desejado}'\n",
    "response = requests.get(url2)\n",
    "bloco = response.json()\n",
    "# bloco\n",
    "# buscar_transacoes_bloco('0000000000000000000293ff530a8e56eb4f34c900ce70fb1dbcdc8197dc6458')\n",
    "datetime.datetime.utcfromtimestamp(bloco['time'])"
   ]
  },
  {
   "cell_type": "code",
   "execution_count": 44,
   "metadata": {},
   "outputs": [
    {
     "name": "stdout",
     "output_type": "stream",
     "text": [
      "Volume total transacionado no bloco (000000000000000000000945087a03eb5717faf202750a2735f6cd463b7ac885 ) mais recente: 5653.67716265 BTC\n"
     ]
    }
   ],
   "source": [
    "import requests\n",
    "\n",
    "# Função para buscar o bloco mais recente\n",
    "def buscar_bloco_mais_recente():\n",
    "    url = \"https://blockchain.info/latestblock\"\n",
    "    \n",
    "    response = requests.get(url)\n",
    "    \n",
    "    if response.status_code == 200:\n",
    "        bloco = response.json()\n",
    "        return bloco['hash']\n",
    "    else:\n",
    "        print(f\"Erro ao buscar bloco mais recente: {response.status_code}\")\n",
    "        return None\n",
    "\n",
    "# Função para buscar transações de um bloco e calcular o volume total transacionado\n",
    "def buscar_volume_transacoes_bloco(hash_bloco):\n",
    "    url = f\"https://blockchain.info/rawblock/{hash_bloco}\"\n",
    "    \n",
    "    response = requests.get(url)\n",
    "    \n",
    "    if response.status_code == 200:\n",
    "        bloco = response.json()\n",
    "        volume_total = 0\n",
    "        \n",
    "        # Iterar sobre todas as transações no bloco\n",
    "        for tx in bloco['tx']:\n",
    "            # Somar o valor de todas as saídas (outputs) da transação\n",
    "            volume_total += sum(output['value'] for output in tx['out'])\n",
    "        \n",
    "        # Converter de satoshis para bitcoins\n",
    "        volume_total_btc = volume_total / 100000000\n",
    "        return volume_total_btc\n",
    "    else:\n",
    "        print(f\"Erro ao buscar transações do bloco: {response.status_code}\")\n",
    "        return 0\n",
    "\n",
    "# Função principal\n",
    "def buscar_volume_transacoes_bloco_mais_recente():\n",
    "    # Buscar o hash do bloco mais recente\n",
    "    hash_bloco = buscar_bloco_mais_recente()\n",
    "    \n",
    "    if hash_bloco:\n",
    "        # Buscar o volume transacionado no bloco\n",
    "        volume_total_btc = buscar_volume_transacoes_bloco(hash_bloco)\n",
    "        print(f\"Volume total transacionado no bloco ({hash_bloco} ) mais recente: {volume_total_btc} BTC\")\n",
    "        \n",
    "    else:\n",
    "        print(\"Erro ao obter o hash do bloco mais recente.\")\n",
    "\n",
    "# Buscar o volume transacionado no bloco mais recente\n",
    "buscar_volume_transacoes_bloco_mais_recente()\n"
   ]
  },
  {
   "cell_type": "code",
   "execution_count": 45,
   "metadata": {},
   "outputs": [
    {
     "data": {
      "text/plain": [
       "'0000000000000000000293ff530a8e56eb4f34c900ce70fb1dbcdc8197dc6458'"
      ]
     },
     "execution_count": 45,
     "metadata": {},
     "output_type": "execute_result"
    }
   ],
   "source": [
    "bloco['hash']"
   ]
  },
  {
   "cell_type": "code",
   "execution_count": 46,
   "metadata": {},
   "outputs": [
    {
     "name": "stdout",
     "output_type": "stream",
     "text": [
      "Volume total transacionado no bloco (000000000000000000000945087a03eb5717faf202750a2735f6cd463b7ac885 ) mais recente: 5653.67716265 BTC\n"
     ]
    }
   ],
   "source": [
    "buscar_volume_transacoes_bloco_mais_recente()"
   ]
  },
  {
   "cell_type": "code",
   "execution_count": 47,
   "metadata": {},
   "outputs": [
    {
     "data": {
      "text/plain": [
       "24363.60717779"
      ]
     },
     "execution_count": 47,
     "metadata": {},
     "output_type": "execute_result"
    }
   ],
   "source": [
    "buscar_volume_transacoes_bloco('0000000000000000000293ff530a8e56eb4f34c900ce70fb1dbcdc8197dc6458')"
   ]
  },
  {
   "cell_type": "code",
   "execution_count": 48,
   "metadata": {},
   "outputs": [
    {
     "name": "stdout",
     "output_type": "stream",
     "text": [
      "Hashes dos últimos 5 blocos:\n",
      "Bloco 1: 000000000000000000000945087a03eb5717faf202750a2735f6cd463b7ac885\n",
      "Bloco 2: 000000000000000000016a60714b09002b07702665d7d84512e0940a865844cd\n",
      "Bloco 3: 000000000000000000022168dd0e4e5e35e81a567f869c206644a63daaf2cf0d\n",
      "Bloco 4: 00000000000000000000c55cb718ff1e8792f09eed8768f423c86bce8367cceb\n",
      "Bloco 5: 000000000000000000018313cf3072494fb67b897cfdc48a8104ab4093ec53ef\n"
     ]
    }
   ],
   "source": [
    "import requests\n",
    "\n",
    "def obter_ultimos_blocos(n):\n",
    "    url = \"https://blockchain.info/latestblock\"\n",
    "    response = requests.get(url)\n",
    "    \n",
    "    if response.status_code == 200:\n",
    "        ultimo_bloco = response.json()\n",
    "        hash_ultimo_bloco = ultimo_bloco['hash']\n",
    "        \n",
    "        hashes = [hash_ultimo_bloco]\n",
    "        \n",
    "        for _ in range(n - 1):\n",
    "            url = f\"https://blockchain.info/rawblock/{hash_ultimo_bloco}\"\n",
    "            response = requests.get(url)\n",
    "            \n",
    "            if response.status_code == 200:\n",
    "                bloco = response.json()\n",
    "                hash_ultimo_bloco = bloco['prev_block']\n",
    "                hashes.append(hash_ultimo_bloco)\n",
    "            else:\n",
    "                print(f\"Erro ao buscar bloco anterior: {response.status_code}\")\n",
    "                break\n",
    "        \n",
    "        return hashes\n",
    "    else:\n",
    "        print(f\"Erro ao buscar o bloco mais recente: {response.status_code}\")\n",
    "        return None\n",
    "\n",
    "# Obter o hash dos últimos 5 blocos\n",
    "ultimos_hashes = obter_ultimos_blocos(5)\n",
    "if ultimos_hashes:\n",
    "    print(\"Hashes dos últimos 5 blocos:\")\n",
    "    for i, hash_bloco in enumerate(ultimos_hashes, start=1):\n",
    "        print(f\"Bloco {i}: {hash_bloco}\")\n"
   ]
  },
  {
   "cell_type": "code",
   "execution_count": 49,
   "metadata": {},
   "outputs": [
    {
     "name": "stdout",
     "output_type": "stream",
     "text": [
      "Hashes dos últimos 5 blocos:\n",
      "Bloco 1: 000000000000000000000945087a03eb5717faf202750a2735f6cd463b7ac885\n",
      "Bloco 2: 000000000000000000016a60714b09002b07702665d7d84512e0940a865844cd\n",
      "Bloco 3: 000000000000000000022168dd0e4e5e35e81a567f869c206644a63daaf2cf0d\n",
      "Bloco 4: 00000000000000000000c55cb718ff1e8792f09eed8768f423c86bce8367cceb\n",
      "Bloco 5: 000000000000000000018313cf3072494fb67b897cfdc48a8104ab4093ec53ef\n",
      "Bloco 6: 00000000000000000000383c82151ba77477322ff77d2f48dad17b3d575f917c\n",
      "Bloco 7: 000000000000000000031687d31280808b4726f1792816640f258110d762a772\n",
      "Bloco 8: 0000000000000000000247bc39aec4ebbc85165f85c4eac14a480d8e38412fb8\n",
      "Bloco 9: 000000000000000000020dba6d42aeef6224925e24fdbfa533fe0b648a74a6ce\n",
      "Bloco 10: 0000000000000000000088aea7fc63b4f95bdd80b1ff0c345eeb6677a941f3c5\n",
      "Bloco 11: 00000000000000000000fa3b2c7dada441a742e19ede9e49f73d0579c74d5274\n",
      "Bloco 12: 0000000000000000000304779648d3bb952018d671934ee2f113ad991b62d302\n",
      "Bloco 13: 00000000000000000001641d60e44cfd7e2345e4acb649a55ea0b247227d3d7a\n",
      "Bloco 14: 00000000000000000002c0bef465dbe13b35835ce5e80726439e0071da05986a\n",
      "Bloco 15: 0000000000000000000304eb71636c2bccaf791f3cde231a61bd8b96b260e130\n"
     ]
    }
   ],
   "source": [
    "# Obter o hash dos últimos 5 blocos\n",
    "ultimos_hashes = obter_ultimos_blocos(15)\n",
    "if ultimos_hashes:\n",
    "    print(\"Hashes dos últimos 5 blocos:\")\n",
    "    for i, hash_bloco in enumerate(ultimos_hashes, start=1):\n",
    "        print(f\"Bloco {i}: {hash_bloco}\")"
   ]
  },
  {
   "cell_type": "code",
   "execution_count": 50,
   "metadata": {},
   "outputs": [
    {
     "data": {
      "text/plain": [
       "[5653.67716265,\n",
       " 6904.02961538,\n",
       " 3495.61404638,\n",
       " 816.20906115,\n",
       " 897.30652142,\n",
       " 7266.57210317,\n",
       " 4975.21998033,\n",
       " 13015.83307338,\n",
       " 6937.36930186,\n",
       " 8020.12454209,\n",
       " 7636.73716435,\n",
       " 11791.80255934,\n",
       " 3115.77475464,\n",
       " 1272.93985818,\n",
       " 2626.10458364]"
      ]
     },
     "execution_count": 50,
     "metadata": {},
     "output_type": "execute_result"
    }
   ],
   "source": [
    "vol_total = []\n",
    "\n",
    "for i in range(15):\n",
    "    vol_total.append(buscar_volume_transacoes_bloco(ultimos_hashes[i]))\n",
    "\n",
    "vol_total"
   ]
  },
  {
   "cell_type": "code",
   "execution_count": 51,
   "metadata": {},
   "outputs": [
    {
     "data": {
      "text/plain": [
       "5065518859.6776"
      ]
     },
     "execution_count": 51,
     "metadata": {},
     "output_type": "execute_result"
    }
   ],
   "source": [
    "import pandas as pd\n",
    "\n",
    "pd.Series(vol_total).sum()*60000"
   ]
  },
  {
   "cell_type": "code",
   "execution_count": null,
   "metadata": {},
   "outputs": [],
   "source": []
  }
 ],
 "metadata": {
  "kernelspec": {
   "display_name": "Python 3",
   "language": "python",
   "name": "python3"
  },
  "language_info": {
   "codemirror_mode": {
    "name": "ipython",
    "version": 3
   },
   "file_extension": ".py",
   "mimetype": "text/x-python",
   "name": "python",
   "nbconvert_exporter": "python",
   "pygments_lexer": "ipython3",
   "version": "3.11.2"
  }
 },
 "nbformat": 4,
 "nbformat_minor": 2
}
