{
  "nbformat": 4,
  "nbformat_minor": 0,
  "metadata": {
    "colab": {
      "provenance": [],
      "authorship_tag": "ABX9TyOa4UtrQDZQIUL4uX+auRd/",
      "include_colab_link": true
    },
    "kernelspec": {
      "name": "python3",
      "display_name": "Python 3"
    },
    "language_info": {
      "name": "python"
    }
  },
  "cells": [
    {
      "cell_type": "markdown",
      "metadata": {
        "id": "view-in-github",
        "colab_type": "text"
      },
      "source": [
        "<a href=\"https://colab.research.google.com/github/Edu-Moreira/Estudos-de-Python/blob/main/Mercado_Global.ipynb\" target=\"_parent\"><img src=\"https://colab.research.google.com/assets/colab-badge.svg\" alt=\"Open In Colab\"/></a>"
      ]
    },
    {
      "cell_type": "markdown",
      "source": [
        "#### **Utilizando biblioteca TVDataFeed para busca no TradingView**"
      ],
      "metadata": {
        "id": "hNsfjHD8K9GG"
      }
    },
    {
      "cell_type": "code",
      "execution_count": null,
      "metadata": {
        "id": "MiBAdq6nKZiT"
      },
      "outputs": [],
      "source": [
        "!pip install --upgrade --no-cache-dir git+https://github.com/StreamAlpha/tvdatafeed.git"
      ]
    },
    {
      "cell_type": "code",
      "source": [
        "import pandas as pd\n",
        "from tvDatafeed import TvDatafeed, Interval\n",
        "\n",
        "from datetime import date"
      ],
      "metadata": {
        "id": "xEQYwAEzKjQc"
      },
      "execution_count": null,
      "outputs": []
    },
    {
      "cell_type": "code",
      "source": [
        "username = 'YourTradingViewUserName'\n",
        "password = 'YourTradingViewPassword'\n",
        "\n",
        "# É possível coletar os dados sem fornecer dados de usuário e senha\n",
        "\n",
        "tv = TvDatafeed(username,password)"
      ],
      "metadata": {
        "id": "Jewiym6CKny1"
      },
      "execution_count": null,
      "outputs": []
    },
    {
      "cell_type": "markdown",
      "source": [
        "#####Será coletado dados de mercado como juros, câmbio e principais índices de ações para os sequintes países:\n",
        "\n",
        "- Zona do Euro \n",
        "- Estados Unidos\n",
        "- China\n",
        "- Brasil\n",
        "- India\n",
        "- Russia\n",
        "- Africa do Sul\n",
        "- Alemanha\n",
        "- França\n",
        "- Reino Unido\n",
        "- Mexico\n"
      ],
      "metadata": {
        "id": "cx0BvFnqLHN5"
      }
    },
    {
      "cell_type": "markdown",
      "source": [
        "Começando com Brasil juros para os vencimentos com ticker BR01Y, BR02Y, BR05Y E BR10Y"
      ],
      "metadata": {
        "id": "HSSz6e2DMrN_"
      }
    },
    {
      "cell_type": "code",
      "source": [
        "BR01 = tv.get_hist('BR01Y',\"TVC\",interval = Interval.in_daily,n_bars=750)['close']\n",
        "BR02 = tv.get_hist('BR02Y',\"TVC\",interval = Interval.in_daily,n_bars=750)['close']\n",
        "BR05 = tv.get_hist('BR05Y',\"TVC\",interval = Interval.in_daily,n_bars=750)['close']\n",
        "BR10 = tv.get_hist('BR10Y',\"TVC\",interval = Interval.in_daily,n_bars=750)['close']"
      ],
      "metadata": {
        "id": "tAq0hI9VMv74"
      },
      "execution_count": null,
      "outputs": []
    }
  ]
}