{
  "nbformat": 4,
  "nbformat_minor": 0,
  "metadata": {
    "colab": {
      "provenance": [],
      "authorship_tag": "ABX9TyNV4HymhMyP3nEYRtRXWWuh",
      "include_colab_link": true
    },
    "kernelspec": {
      "name": "python3",
      "display_name": "Python 3"
    },
    "language_info": {
      "name": "python"
    }
  },
  "cells": [
    {
      "cell_type": "markdown",
      "metadata": {
        "id": "view-in-github",
        "colab_type": "text"
      },
      "source": [
        "<a href=\"https://colab.research.google.com/github/Edu-Moreira/Estudos-de-Python/blob/main/Mercado_Global.ipynb\" target=\"_parent\"><img src=\"https://colab.research.google.com/assets/colab-badge.svg\" alt=\"Open In Colab\"/></a>"
      ]
    },
    {
      "cell_type": "markdown",
      "source": [
        "#### **Utilizando biblioteca TVDataFeed para busca no TradingView**"
      ],
      "metadata": {
        "id": "hNsfjHD8K9GG"
      }
    },
    {
      "cell_type": "code",
      "source": [
        "!pip install yfinance"
      ],
      "metadata": {
        "colab": {
          "base_uri": "https://localhost:8080/",
          "height": 986
        },
        "id": "tiom8iGiQWcN",
        "outputId": "1a59564a-8030-4c9c-89b1-828d20eafc1c"
      },
      "execution_count": 2,
      "outputs": [
        {
          "output_type": "stream",
          "name": "stdout",
          "text": [
            "Looking in indexes: https://pypi.org/simple, https://us-python.pkg.dev/colab-wheels/public/simple/\n",
            "Collecting yfinance\n",
            "  Downloading yfinance-0.2.12-py2.py3-none-any.whl (59 kB)\n",
            "\u001b[2K     \u001b[90m━━━━━━━━━━━━━━━━━━━━━━━━━━━━━━━━━━━━━━━━\u001b[0m \u001b[32m59.2/59.2 KB\u001b[0m \u001b[31m2.2 MB/s\u001b[0m eta \u001b[36m0:00:00\u001b[0m\n",
            "\u001b[?25hRequirement already satisfied: pytz>=2022.5 in /usr/local/lib/python3.9/dist-packages (from yfinance) (2022.7.1)\n",
            "Requirement already satisfied: pandas>=1.3.0 in /usr/local/lib/python3.9/dist-packages (from yfinance) (1.4.4)\n",
            "Collecting requests>=2.26\n",
            "  Downloading requests-2.28.2-py3-none-any.whl (62 kB)\n",
            "\u001b[2K     \u001b[90m━━━━━━━━━━━━━━━━━━━━━━━━━━━━━━━━━━━━━━━━\u001b[0m \u001b[32m62.8/62.8 KB\u001b[0m \u001b[31m5.8 MB/s\u001b[0m eta \u001b[36m0:00:00\u001b[0m\n",
            "\u001b[?25hCollecting appdirs>=1.4.4\n",
            "  Downloading appdirs-1.4.4-py2.py3-none-any.whl (9.6 kB)\n",
            "Collecting frozendict>=2.3.4\n",
            "  Downloading frozendict-2.3.5-cp39-cp39-manylinux_2_17_x86_64.manylinux2014_x86_64.whl (112 kB)\n",
            "\u001b[2K     \u001b[90m━━━━━━━━━━━━━━━━━━━━━━━━━━━━━━━━━━━━━━━\u001b[0m \u001b[32m112.8/112.8 KB\u001b[0m \u001b[31m9.9 MB/s\u001b[0m eta \u001b[36m0:00:00\u001b[0m\n",
            "\u001b[?25hRequirement already satisfied: multitasking>=0.0.7 in /usr/local/lib/python3.9/dist-packages (from yfinance) (0.0.11)\n",
            "Collecting beautifulsoup4>=4.11.1\n",
            "  Downloading beautifulsoup4-4.11.2-py3-none-any.whl (129 kB)\n",
            "\u001b[2K     \u001b[90m━━━━━━━━━━━━━━━━━━━━━━━━━━━━━━━━━━━━━━\u001b[0m \u001b[32m129.4/129.4 KB\u001b[0m \u001b[31m12.6 MB/s\u001b[0m eta \u001b[36m0:00:00\u001b[0m\n",
            "\u001b[?25hCollecting html5lib>=1.1\n",
            "  Downloading html5lib-1.1-py2.py3-none-any.whl (112 kB)\n",
            "\u001b[2K     \u001b[90m━━━━━━━━━━━━━━━━━━━━━━━━━━━━━━━━━━━━━━━\u001b[0m \u001b[32m112.2/112.2 KB\u001b[0m \u001b[31m9.8 MB/s\u001b[0m eta \u001b[36m0:00:00\u001b[0m\n",
            "\u001b[?25hRequirement already satisfied: numpy>=1.16.5 in /usr/local/lib/python3.9/dist-packages (from yfinance) (1.22.4)\n",
            "Requirement already satisfied: lxml>=4.9.1 in /usr/local/lib/python3.9/dist-packages (from yfinance) (4.9.2)\n",
            "Collecting cryptography>=3.3.2\n",
            "  Downloading cryptography-39.0.2-cp36-abi3-manylinux_2_28_x86_64.whl (4.2 MB)\n",
            "\u001b[2K     \u001b[90m━━━━━━━━━━━━━━━━━━━━━━━━━━━━━━━━━━━━━━━━\u001b[0m \u001b[32m4.2/4.2 MB\u001b[0m \u001b[31m36.5 MB/s\u001b[0m eta \u001b[36m0:00:00\u001b[0m\n",
            "\u001b[?25hRequirement already satisfied: soupsieve>1.2 in /usr/local/lib/python3.9/dist-packages (from beautifulsoup4>=4.11.1->yfinance) (2.4)\n",
            "Requirement already satisfied: cffi>=1.12 in /usr/local/lib/python3.9/dist-packages (from cryptography>=3.3.2->yfinance) (1.15.1)\n",
            "Requirement already satisfied: webencodings in /usr/local/lib/python3.9/dist-packages (from html5lib>=1.1->yfinance) (0.5.1)\n",
            "Requirement already satisfied: six>=1.9 in /usr/local/lib/python3.9/dist-packages (from html5lib>=1.1->yfinance) (1.15.0)\n",
            "Requirement already satisfied: python-dateutil>=2.8.1 in /usr/local/lib/python3.9/dist-packages (from pandas>=1.3.0->yfinance) (2.8.2)\n",
            "Requirement already satisfied: urllib3<1.27,>=1.21.1 in /usr/local/lib/python3.9/dist-packages (from requests>=2.26->yfinance) (1.26.15)\n",
            "Collecting charset-normalizer<4,>=2\n",
            "  Downloading charset_normalizer-3.1.0-cp39-cp39-manylinux_2_17_x86_64.manylinux2014_x86_64.whl (199 kB)\n",
            "\u001b[2K     \u001b[90m━━━━━━━━━━━━━━━━━━━━━━━━━━━━━━━━━━━━━━\u001b[0m \u001b[32m199.2/199.2 KB\u001b[0m \u001b[31m16.0 MB/s\u001b[0m eta \u001b[36m0:00:00\u001b[0m\n",
            "\u001b[?25hRequirement already satisfied: idna<4,>=2.5 in /usr/local/lib/python3.9/dist-packages (from requests>=2.26->yfinance) (2.10)\n",
            "Requirement already satisfied: certifi>=2017.4.17 in /usr/local/lib/python3.9/dist-packages (from requests>=2.26->yfinance) (2022.12.7)\n",
            "Requirement already satisfied: pycparser in /usr/local/lib/python3.9/dist-packages (from cffi>=1.12->cryptography>=3.3.2->yfinance) (2.21)\n",
            "Installing collected packages: appdirs, html5lib, frozendict, charset-normalizer, beautifulsoup4, requests, cryptography, yfinance\n",
            "  Attempting uninstall: html5lib\n",
            "    Found existing installation: html5lib 1.0.1\n",
            "    Uninstalling html5lib-1.0.1:\n",
            "      Successfully uninstalled html5lib-1.0.1\n",
            "  Attempting uninstall: beautifulsoup4\n",
            "    Found existing installation: beautifulsoup4 4.9.3\n",
            "    Uninstalling beautifulsoup4-4.9.3:\n",
            "      Successfully uninstalled beautifulsoup4-4.9.3\n",
            "  Attempting uninstall: requests\n",
            "    Found existing installation: requests 2.25.1\n",
            "    Uninstalling requests-2.25.1:\n",
            "      Successfully uninstalled requests-2.25.1\n",
            "Successfully installed appdirs-1.4.4 beautifulsoup4-4.11.2 charset-normalizer-3.1.0 cryptography-39.0.2 frozendict-2.3.5 html5lib-1.1 requests-2.28.2 yfinance-0.2.12\n"
          ]
        },
        {
          "output_type": "display_data",
          "data": {
            "application/vnd.colab-display-data+json": {
              "pip_warning": {
                "packages": [
                  "requests"
                ]
              }
            }
          },
          "metadata": {}
        }
      ]
    },
    {
      "cell_type": "code",
      "execution_count": 3,
      "metadata": {
        "colab": {
          "base_uri": "https://localhost:8080/"
        },
        "id": "MiBAdq6nKZiT",
        "outputId": "087630cc-d492-462e-bccd-2acbd750b27f"
      },
      "outputs": [
        {
          "output_type": "stream",
          "name": "stdout",
          "text": [
            "Looking in indexes: https://pypi.org/simple, https://us-python.pkg.dev/colab-wheels/public/simple/\n",
            "Collecting git+https://github.com/StreamAlpha/tvdatafeed.git\n",
            "  Cloning https://github.com/StreamAlpha/tvdatafeed.git to /tmp/pip-req-build-s1_2x4uy\n",
            "  Running command git clone --filter=blob:none --quiet https://github.com/StreamAlpha/tvdatafeed.git /tmp/pip-req-build-s1_2x4uy\n",
            "  Resolved https://github.com/StreamAlpha/tvdatafeed.git to commit a7034f04509b67224618917c29272796e4fff858\n",
            "  Preparing metadata (setup.py) ... \u001b[?25l\u001b[?25hdone\n",
            "Requirement already satisfied: setuptools in /usr/local/lib/python3.9/dist-packages (from tvdatafeed==2.1.0) (63.4.3)\n",
            "Requirement already satisfied: pandas in /usr/local/lib/python3.9/dist-packages (from tvdatafeed==2.1.0) (1.4.4)\n",
            "Collecting websocket-client\n",
            "  Downloading websocket_client-1.5.1-py3-none-any.whl (55 kB)\n",
            "\u001b[2K     \u001b[90m━━━━━━━━━━━━━━━━━━━━━━━━━━━━━━━━━━━━━━━━\u001b[0m \u001b[32m55.9/55.9 KB\u001b[0m \u001b[31m4.6 MB/s\u001b[0m eta \u001b[36m0:00:00\u001b[0m\n",
            "\u001b[?25hRequirement already satisfied: requests in /usr/local/lib/python3.9/dist-packages (from tvdatafeed==2.1.0) (2.28.2)\n",
            "Requirement already satisfied: pytz>=2020.1 in /usr/local/lib/python3.9/dist-packages (from pandas->tvdatafeed==2.1.0) (2022.7.1)\n",
            "Requirement already satisfied: python-dateutil>=2.8.1 in /usr/local/lib/python3.9/dist-packages (from pandas->tvdatafeed==2.1.0) (2.8.2)\n",
            "Requirement already satisfied: numpy>=1.18.5 in /usr/local/lib/python3.9/dist-packages (from pandas->tvdatafeed==2.1.0) (1.22.4)\n",
            "Requirement already satisfied: charset-normalizer<4,>=2 in /usr/local/lib/python3.9/dist-packages (from requests->tvdatafeed==2.1.0) (3.1.0)\n",
            "Requirement already satisfied: urllib3<1.27,>=1.21.1 in /usr/local/lib/python3.9/dist-packages (from requests->tvdatafeed==2.1.0) (1.26.15)\n",
            "Requirement already satisfied: certifi>=2017.4.17 in /usr/local/lib/python3.9/dist-packages (from requests->tvdatafeed==2.1.0) (2022.12.7)\n",
            "Requirement already satisfied: idna<4,>=2.5 in /usr/local/lib/python3.9/dist-packages (from requests->tvdatafeed==2.1.0) (2.10)\n",
            "Requirement already satisfied: six>=1.5 in /usr/local/lib/python3.9/dist-packages (from python-dateutil>=2.8.1->pandas->tvdatafeed==2.1.0) (1.15.0)\n",
            "Building wheels for collected packages: tvdatafeed\n",
            "  Building wheel for tvdatafeed (setup.py) ... \u001b[?25l\u001b[?25hdone\n",
            "  Created wheel for tvdatafeed: filename=tvdatafeed-2.1.0-py3-none-any.whl size=7566 sha256=3c8c9e62a7a58a2c6babfda0e7cecf6e998826e048ba873a487a766407cbbbe8\n",
            "  Stored in directory: /tmp/pip-ephem-wheel-cache-26kvdc3g/wheels/a4/80/7a/04bbe70838a72f13c4511eb1b4baf894bf0b3a559ca4287aa5\n",
            "Successfully built tvdatafeed\n",
            "Installing collected packages: websocket-client, tvdatafeed\n",
            "Successfully installed tvdatafeed-2.1.0 websocket-client-1.5.1\n"
          ]
        }
      ],
      "source": [
        "!pip install --upgrade --no-cache-dir git+https://github.com/StreamAlpha/tvdatafeed.git"
      ]
    },
    {
      "cell_type": "code",
      "source": [
        "import pandas as pd\n",
        "import seaborn as srn\n",
        "import statistics  as sts\n",
        "\n",
        "import yfinance as yf\n",
        "\n",
        "from tvDatafeed import TvDatafeed, Interval\n",
        "\n",
        "from datetime import date"
      ],
      "metadata": {
        "id": "xEQYwAEzKjQc"
      },
      "execution_count": 34,
      "outputs": []
    },
    {
      "cell_type": "code",
      "source": [
        "username = 'YourTradingViewUserName'\n",
        "password = 'YourTradingViewPassword'\n",
        "\n",
        "# É possível coletar os dados sem fornecer dados de usuário e senha\n",
        "\n",
        "tv = TvDatafeed(username,password)"
      ],
      "metadata": {
        "colab": {
          "base_uri": "https://localhost:8080/"
        },
        "id": "Jewiym6CKny1",
        "outputId": "fc3cff7d-300a-4bca-b3bf-20ba794aa3ec"
      },
      "execution_count": 5,
      "outputs": [
        {
          "output_type": "stream",
          "name": "stderr",
          "text": [
            "ERROR:tvDatafeed.main:error while signin\n",
            "WARNING:tvDatafeed.main:you are using nologin method, data you access may be limited\n"
          ]
        }
      ]
    },
    {
      "cell_type": "markdown",
      "source": [
        "#### **Juros**"
      ],
      "metadata": {
        "id": "ua4ExBEt5Zs7"
      }
    },
    {
      "cell_type": "markdown",
      "source": [
        "#####Será coletado dados de mercado como juros, câmbio e principais índices de ações para os sequintes países:\n",
        "\n",
        "- Zona do Euro \n",
        "- Estados Unidos\n",
        "- China\n",
        "- Brasil\n",
        "- India\n",
        "- Russia\n",
        "- Africa do Sul\n",
        "- Alemanha\n",
        "- França\n",
        "- Reino Unido\n",
        "- Mexico\n"
      ],
      "metadata": {
        "id": "cx0BvFnqLHN5"
      }
    },
    {
      "cell_type": "markdown",
      "source": [
        "Começando com Brasil juros para os vencimentos com ticker BR01Y, BR02Y, BR05Y E BR10Y"
      ],
      "metadata": {
        "id": "HSSz6e2DMrN_"
      }
    },
    {
      "cell_type": "code",
      "source": [
        "verticesbr= ['BR01Y','BR02Y','BR05Y','BR10Y']\n",
        "verticesus= ['US01Y','US02Y','US05Y','US10Y']\n",
        "verticescn=['CN01Y','CN02Y','CN05Y','CN10Y']\n",
        "verticeseu=['EU01Y','EU02Y','EU05Y','EU10Y']\n",
        "verticesin=['IN01Y','IN02Y','IN05Y','IN10Y']\n",
        "verticesde=['DE01Y','DE02Y','DE05Y','DE10Y']"
      ],
      "metadata": {
        "id": "iCSmXX2sCCLD"
      },
      "execution_count": 6,
      "outputs": []
    },
    {
      "cell_type": "code",
      "source": [
        "\n",
        "#### Busca o histórico dos juros e formata o DataFrame para incluir o nome do País e unificar o nome das colunas\n",
        "#### Os dados são coletados em um frame de cotações diárias e tenta buscar até 750 dias limitado à base existente\n",
        "\n",
        "painelBR = pd.DataFrame()\n",
        "for i in verticesbr:\n",
        "  painelBR[i] = tv.get_hist(i,'TVC',Interval.in_daily,750)['close']\n",
        "painelBR['País'] = 'Brasil'\n",
        "painelBR = painelBR.dropna()\n",
        "painelBR.columns = ['1 Ano','2 Anos','5 Anos','10 Anos','Pais']\n",
        "  \n",
        "painelUS = pd.DataFrame()\n",
        "for i in verticesus:\n",
        "  painelUS[i] = tv.get_hist(i,'TVC',Interval.in_daily,750)['close']\n",
        "painelUS['País'] = 'Estados Unidos'\n",
        "painelUS = painelUS.dropna()\n",
        "painelUS.columns = ['1 Ano','2 Anos','5 Anos','10 Anos','Pais']\n",
        "\n",
        "painelCN = pd.DataFrame()\n",
        "for i in verticescn:\n",
        "  painelCN[i] = tv.get_hist(i,'TVC',Interval.in_daily,750)['close']\n",
        "painelCN['País'] = 'China'\n",
        "painelCN = painelCN.dropna()\n",
        "painelCN.columns = ['1 Ano','2 Anos','5 Anos','10 Anos','Pais']\n",
        "\n",
        "painelEU = pd.DataFrame()\n",
        "for i in verticeseu:\n",
        "  painelEU[i] = tv.get_hist(i,'TVC',Interval.in_daily,750)['close']\n",
        "painelEU['País'] = 'Zona do Euro'\n",
        "painelEU = painelEU.dropna()\n",
        "painelEU.columns = ['1 Ano','2 Anos','5 Anos','10 Anos','Pais']\n",
        "\n",
        "painelIN = pd.DataFrame()\n",
        "for i in verticesin:\n",
        "  painelIN[i] = tv.get_hist(i,'TVC',Interval.in_daily,750)['close']\n",
        "painelIN['País'] = 'India'\n",
        "painelIN = painelIN.dropna()\n",
        "painelIN.columns = ['1 Ano','2 Anos','5 Anos','10 Anos','Pais']\n",
        "\n",
        "painelDE = pd.DataFrame()\n",
        "for i in verticesde:\n",
        "  painelDE[i] = tv.get_hist(i,'TVC',Interval.in_daily,750)['close']\n",
        "painelDE['País'] = 'Alemanha'\n",
        "painelDE = painelDE.dropna()\n",
        "painelDE.columns = ['1 Ano','2 Anos','5 Anos','10 Anos','Pais']"
      ],
      "metadata": {
        "id": "TtZO8sA6DzOy"
      },
      "execution_count": 7,
      "outputs": []
    },
    {
      "cell_type": "code",
      "source": [
        "jurosglb = pd.concat([painelBR,painelUS,painelCN,painelEU,painelIN,painelDE])"
      ],
      "metadata": {
        "id": "qAyRL7mA37Y2"
      },
      "execution_count": 8,
      "outputs": []
    },
    {
      "cell_type": "code",
      "source": [
        "jurosglb"
      ],
      "metadata": {
        "colab": {
          "base_uri": "https://localhost:8080/",
          "height": 450
        },
        "id": "VmI4RKBH9Th0",
        "outputId": "4358bfbd-a207-40a9-e13a-e76ea1ed00e0"
      },
      "execution_count": 9,
      "outputs": [
        {
          "output_type": "execute_result",
          "data": {
            "text/plain": [
              "                     1 Ano  2 Anos  5 Anos  10 Anos      Pais\n",
              "datetime                                                     \n",
              "2020-04-16 21:00:00  3.230   4.887  5.9999    7.050    Brasil\n",
              "2020-04-19 21:00:00  3.290   4.887  6.0700    7.070    Brasil\n",
              "2020-04-20 21:00:00  2.970   4.887  5.8600    6.960    Brasil\n",
              "2020-04-21 21:00:00  2.780   4.887  5.7400    6.880    Brasil\n",
              "2020-04-22 21:00:00  2.810   4.887  5.9900    7.120    Brasil\n",
              "...                    ...     ...     ...      ...       ...\n",
              "2023-03-08 22:00:00  3.349   3.231  2.7590    2.609  Alemanha\n",
              "2023-03-09 22:00:00  3.226   3.022  2.6000    2.465  Alemanha\n",
              "2023-03-12 21:00:00  2.929   2.631  2.3070    2.259  Alemanha\n",
              "2023-03-13 21:00:00  3.036   2.894  2.5230    2.452  Alemanha\n",
              "2023-03-14 21:00:00  2.606   2.428  2.1220    2.118  Alemanha\n",
              "\n",
              "[4401 rows x 5 columns]"
            ],
            "text/html": [
              "\n",
              "  <div id=\"df-8bd3ab0d-3310-4f1d-bbb7-3f3e5ddbde35\">\n",
              "    <div class=\"colab-df-container\">\n",
              "      <div>\n",
              "<style scoped>\n",
              "    .dataframe tbody tr th:only-of-type {\n",
              "        vertical-align: middle;\n",
              "    }\n",
              "\n",
              "    .dataframe tbody tr th {\n",
              "        vertical-align: top;\n",
              "    }\n",
              "\n",
              "    .dataframe thead th {\n",
              "        text-align: right;\n",
              "    }\n",
              "</style>\n",
              "<table border=\"1\" class=\"dataframe\">\n",
              "  <thead>\n",
              "    <tr style=\"text-align: right;\">\n",
              "      <th></th>\n",
              "      <th>1 Ano</th>\n",
              "      <th>2 Anos</th>\n",
              "      <th>5 Anos</th>\n",
              "      <th>10 Anos</th>\n",
              "      <th>Pais</th>\n",
              "    </tr>\n",
              "    <tr>\n",
              "      <th>datetime</th>\n",
              "      <th></th>\n",
              "      <th></th>\n",
              "      <th></th>\n",
              "      <th></th>\n",
              "      <th></th>\n",
              "    </tr>\n",
              "  </thead>\n",
              "  <tbody>\n",
              "    <tr>\n",
              "      <th>2020-04-16 21:00:00</th>\n",
              "      <td>3.230</td>\n",
              "      <td>4.887</td>\n",
              "      <td>5.9999</td>\n",
              "      <td>7.050</td>\n",
              "      <td>Brasil</td>\n",
              "    </tr>\n",
              "    <tr>\n",
              "      <th>2020-04-19 21:00:00</th>\n",
              "      <td>3.290</td>\n",
              "      <td>4.887</td>\n",
              "      <td>6.0700</td>\n",
              "      <td>7.070</td>\n",
              "      <td>Brasil</td>\n",
              "    </tr>\n",
              "    <tr>\n",
              "      <th>2020-04-20 21:00:00</th>\n",
              "      <td>2.970</td>\n",
              "      <td>4.887</td>\n",
              "      <td>5.8600</td>\n",
              "      <td>6.960</td>\n",
              "      <td>Brasil</td>\n",
              "    </tr>\n",
              "    <tr>\n",
              "      <th>2020-04-21 21:00:00</th>\n",
              "      <td>2.780</td>\n",
              "      <td>4.887</td>\n",
              "      <td>5.7400</td>\n",
              "      <td>6.880</td>\n",
              "      <td>Brasil</td>\n",
              "    </tr>\n",
              "    <tr>\n",
              "      <th>2020-04-22 21:00:00</th>\n",
              "      <td>2.810</td>\n",
              "      <td>4.887</td>\n",
              "      <td>5.9900</td>\n",
              "      <td>7.120</td>\n",
              "      <td>Brasil</td>\n",
              "    </tr>\n",
              "    <tr>\n",
              "      <th>...</th>\n",
              "      <td>...</td>\n",
              "      <td>...</td>\n",
              "      <td>...</td>\n",
              "      <td>...</td>\n",
              "      <td>...</td>\n",
              "    </tr>\n",
              "    <tr>\n",
              "      <th>2023-03-08 22:00:00</th>\n",
              "      <td>3.349</td>\n",
              "      <td>3.231</td>\n",
              "      <td>2.7590</td>\n",
              "      <td>2.609</td>\n",
              "      <td>Alemanha</td>\n",
              "    </tr>\n",
              "    <tr>\n",
              "      <th>2023-03-09 22:00:00</th>\n",
              "      <td>3.226</td>\n",
              "      <td>3.022</td>\n",
              "      <td>2.6000</td>\n",
              "      <td>2.465</td>\n",
              "      <td>Alemanha</td>\n",
              "    </tr>\n",
              "    <tr>\n",
              "      <th>2023-03-12 21:00:00</th>\n",
              "      <td>2.929</td>\n",
              "      <td>2.631</td>\n",
              "      <td>2.3070</td>\n",
              "      <td>2.259</td>\n",
              "      <td>Alemanha</td>\n",
              "    </tr>\n",
              "    <tr>\n",
              "      <th>2023-03-13 21:00:00</th>\n",
              "      <td>3.036</td>\n",
              "      <td>2.894</td>\n",
              "      <td>2.5230</td>\n",
              "      <td>2.452</td>\n",
              "      <td>Alemanha</td>\n",
              "    </tr>\n",
              "    <tr>\n",
              "      <th>2023-03-14 21:00:00</th>\n",
              "      <td>2.606</td>\n",
              "      <td>2.428</td>\n",
              "      <td>2.1220</td>\n",
              "      <td>2.118</td>\n",
              "      <td>Alemanha</td>\n",
              "    </tr>\n",
              "  </tbody>\n",
              "</table>\n",
              "<p>4401 rows × 5 columns</p>\n",
              "</div>\n",
              "      <button class=\"colab-df-convert\" onclick=\"convertToInteractive('df-8bd3ab0d-3310-4f1d-bbb7-3f3e5ddbde35')\"\n",
              "              title=\"Convert this dataframe to an interactive table.\"\n",
              "              style=\"display:none;\">\n",
              "        \n",
              "  <svg xmlns=\"http://www.w3.org/2000/svg\" height=\"24px\"viewBox=\"0 0 24 24\"\n",
              "       width=\"24px\">\n",
              "    <path d=\"M0 0h24v24H0V0z\" fill=\"none\"/>\n",
              "    <path d=\"M18.56 5.44l.94 2.06.94-2.06 2.06-.94-2.06-.94-.94-2.06-.94 2.06-2.06.94zm-11 1L8.5 8.5l.94-2.06 2.06-.94-2.06-.94L8.5 2.5l-.94 2.06-2.06.94zm10 10l.94 2.06.94-2.06 2.06-.94-2.06-.94-.94-2.06-.94 2.06-2.06.94z\"/><path d=\"M17.41 7.96l-1.37-1.37c-.4-.4-.92-.59-1.43-.59-.52 0-1.04.2-1.43.59L10.3 9.45l-7.72 7.72c-.78.78-.78 2.05 0 2.83L4 21.41c.39.39.9.59 1.41.59.51 0 1.02-.2 1.41-.59l7.78-7.78 2.81-2.81c.8-.78.8-2.07 0-2.86zM5.41 20L4 18.59l7.72-7.72 1.47 1.35L5.41 20z\"/>\n",
              "  </svg>\n",
              "      </button>\n",
              "      \n",
              "  <style>\n",
              "    .colab-df-container {\n",
              "      display:flex;\n",
              "      flex-wrap:wrap;\n",
              "      gap: 12px;\n",
              "    }\n",
              "\n",
              "    .colab-df-convert {\n",
              "      background-color: #E8F0FE;\n",
              "      border: none;\n",
              "      border-radius: 50%;\n",
              "      cursor: pointer;\n",
              "      display: none;\n",
              "      fill: #1967D2;\n",
              "      height: 32px;\n",
              "      padding: 0 0 0 0;\n",
              "      width: 32px;\n",
              "    }\n",
              "\n",
              "    .colab-df-convert:hover {\n",
              "      background-color: #E2EBFA;\n",
              "      box-shadow: 0px 1px 2px rgba(60, 64, 67, 0.3), 0px 1px 3px 1px rgba(60, 64, 67, 0.15);\n",
              "      fill: #174EA6;\n",
              "    }\n",
              "\n",
              "    [theme=dark] .colab-df-convert {\n",
              "      background-color: #3B4455;\n",
              "      fill: #D2E3FC;\n",
              "    }\n",
              "\n",
              "    [theme=dark] .colab-df-convert:hover {\n",
              "      background-color: #434B5C;\n",
              "      box-shadow: 0px 1px 3px 1px rgba(0, 0, 0, 0.15);\n",
              "      filter: drop-shadow(0px 1px 2px rgba(0, 0, 0, 0.3));\n",
              "      fill: #FFFFFF;\n",
              "    }\n",
              "  </style>\n",
              "\n",
              "      <script>\n",
              "        const buttonEl =\n",
              "          document.querySelector('#df-8bd3ab0d-3310-4f1d-bbb7-3f3e5ddbde35 button.colab-df-convert');\n",
              "        buttonEl.style.display =\n",
              "          google.colab.kernel.accessAllowed ? 'block' : 'none';\n",
              "\n",
              "        async function convertToInteractive(key) {\n",
              "          const element = document.querySelector('#df-8bd3ab0d-3310-4f1d-bbb7-3f3e5ddbde35');\n",
              "          const dataTable =\n",
              "            await google.colab.kernel.invokeFunction('convertToInteractive',\n",
              "                                                     [key], {});\n",
              "          if (!dataTable) return;\n",
              "\n",
              "          const docLinkHtml = 'Like what you see? Visit the ' +\n",
              "            '<a target=\"_blank\" href=https://colab.research.google.com/notebooks/data_table.ipynb>data table notebook</a>'\n",
              "            + ' to learn more about interactive tables.';\n",
              "          element.innerHTML = '';\n",
              "          dataTable['output_type'] = 'display_data';\n",
              "          await google.colab.output.renderOutput(dataTable, element);\n",
              "          const docLink = document.createElement('div');\n",
              "          docLink.innerHTML = docLinkHtml;\n",
              "          element.appendChild(docLink);\n",
              "        }\n",
              "      </script>\n",
              "    </div>\n",
              "  </div>\n",
              "  "
            ]
          },
          "metadata": {},
          "execution_count": 9
        }
      ]
    },
    {
      "cell_type": "markdown",
      "source": [
        "#### **Moedas**"
      ],
      "metadata": {
        "id": "cdsIrkMS5eL1"
      }
    },
    {
      "cell_type": "markdown",
      "source": [
        "### ***Moedas a serem analizadas***\n",
        "\n",
        " #### Real Brasileiro\n",
        " #### Dólar Australiano\n",
        " #### Dólar Canadense\n",
        " #### Peso Chileno\n",
        " #### Peso Colombiano\n",
        " #### Dólar Neozelandês\n",
        " #### Rand Sul_Africano\n",
        " #### Rupia Indiana\n",
        " #### Peso Mexicano\n",
        " #### Lira Turca\n",
        " #### Rublo Russo\n",
        " #### EURO\n",
        " #### YUAN Chinês"
      ],
      "metadata": {
        "id": "DJQ9zdVx5hzr"
      }
    },
    {
      "cell_type": "code",
      "source": [
        "moedasyf = ['BRL=X','AUD=X','CAD=X','CLP=X','COP=X','NZD=X','ZAR=X','INR=X','MXN=X','TRY=X','CNY=X','EUR=X','DX=F']"
      ],
      "metadata": {
        "id": "bypUMuB6MxRG"
      },
      "execution_count": 74,
      "outputs": []
    },
    {
      "cell_type": "code",
      "source": [
        "moedaspainelyf = pd.DataFrame()\n",
        "for i in moedasyf:\n",
        "  moedaspainelyf[i] = yf.download(i,'2012-01-01', '2023-03-14').Close\n"
      ],
      "metadata": {
        "colab": {
          "base_uri": "https://localhost:8080/"
        },
        "id": "ATsuexa-RgHP",
        "outputId": "bca02519-e537-4c37-ec98-44d63b6d5022"
      },
      "execution_count": 75,
      "outputs": [
        {
          "output_type": "stream",
          "name": "stdout",
          "text": [
            "[*********************100%***********************]  1 of 1 completed\n",
            "[*********************100%***********************]  1 of 1 completed\n",
            "[*********************100%***********************]  1 of 1 completed\n",
            "[*********************100%***********************]  1 of 1 completed\n",
            "[*********************100%***********************]  1 of 1 completed\n",
            "[*********************100%***********************]  1 of 1 completed\n",
            "[*********************100%***********************]  1 of 1 completed\n",
            "[*********************100%***********************]  1 of 1 completed\n",
            "[*********************100%***********************]  1 of 1 completed\n",
            "[*********************100%***********************]  1 of 1 completed\n",
            "[*********************100%***********************]  1 of 1 completed\n",
            "[*********************100%***********************]  1 of 1 completed\n",
            "[*********************100%***********************]  1 of 1 completed\n"
          ]
        }
      ]
    },
    {
      "cell_type": "code",
      "source": [
        "moedaspainelyf.columns = ['BRL','AUD','CAD','CLP','COP','NZD','ZAR','INR','MXN','TRY','CNY','EUR','DXY']"
      ],
      "metadata": {
        "id": "ahJywp7mRq0O"
      },
      "execution_count": 76,
      "outputs": []
    },
    {
      "cell_type": "code",
      "source": [
        "moedaspainelyf.loc['2015-02-10':'2015-02-20']"
      ],
      "metadata": {
        "colab": {
          "base_uri": "https://localhost:8080/",
          "height": 359
        },
        "id": "VDnYuYMgSala",
        "outputId": "2b195104-9767-4687-c9f6-3dfc19952322"
      },
      "execution_count": 17,
      "outputs": [
        {
          "output_type": "execute_result",
          "data": {
            "text/plain": [
              "               BRL     AUD      CAD         CLP          COP     NZD  \\\n",
              "Date                                                                   \n",
              "2015-02-10  2.7663  1.2822  1.24739  623.750000  2381.000000  1.3510   \n",
              "2015-02-11  2.8311  1.2847  1.25840  625.500000  2404.500000  1.3479   \n",
              "2015-02-12  2.8655  1.2949  1.26170  629.500000  2388.500000  1.3558   \n",
              "2015-02-13  2.8170  1.2892  1.25092  622.250000  2381.500000  1.3453   \n",
              "2015-02-16  2.8309  1.2877  1.24542  618.200012  2341.300049  1.3370   \n",
              "2015-02-17  2.8260  1.2892  1.24746  621.150024    24.150000  1.3360   \n",
              "2015-02-18  2.8257  1.2801  1.23908  619.250000  2431.000000  1.3264   \n",
              "2015-02-19  2.8340  1.2807  1.24550  619.099976  2438.000000  1.3243   \n",
              "2015-02-20  2.8633  1.2828  1.24903  618.299988    24.500000  1.3299   \n",
              "\n",
              "                 ZAR        INR       MXN      TRY     CNY      EUR  \n",
              "Date                                                                 \n",
              "2015-02-10  11.57460  62.130001  14.94595  2.47473  6.2388  0.88285  \n",
              "2015-02-11  11.67961  62.341999  15.06900  2.49431  6.2318  0.88324  \n",
              "2015-02-12  11.79740  62.382000  14.92300  2.49811  6.2323  0.88402  \n",
              "2015-02-13  11.70423  62.169998  14.87748  2.46750  6.2345  0.87689  \n",
              "2015-02-16  11.64480  62.069000  14.91509  2.45597  6.2303  0.87719  \n",
              "2015-02-17  11.63420  62.186001  14.90900  2.45486  6.2386  0.88230  \n",
              "2015-02-18  11.67153  62.112000  14.86100  2.45150  6.2441  0.87683  \n",
              "2015-02-19  11.58870  62.074001  15.00008  2.44331  6.2441  0.87719  \n",
              "2015-02-20  11.66740  62.165001  15.01766  2.45320  6.2441  0.87976  "
            ],
            "text/html": [
              "\n",
              "  <div id=\"df-4e8b9aa3-f115-4729-a3f5-52b8a20d7314\">\n",
              "    <div class=\"colab-df-container\">\n",
              "      <div>\n",
              "<style scoped>\n",
              "    .dataframe tbody tr th:only-of-type {\n",
              "        vertical-align: middle;\n",
              "    }\n",
              "\n",
              "    .dataframe tbody tr th {\n",
              "        vertical-align: top;\n",
              "    }\n",
              "\n",
              "    .dataframe thead th {\n",
              "        text-align: right;\n",
              "    }\n",
              "</style>\n",
              "<table border=\"1\" class=\"dataframe\">\n",
              "  <thead>\n",
              "    <tr style=\"text-align: right;\">\n",
              "      <th></th>\n",
              "      <th>BRL</th>\n",
              "      <th>AUD</th>\n",
              "      <th>CAD</th>\n",
              "      <th>CLP</th>\n",
              "      <th>COP</th>\n",
              "      <th>NZD</th>\n",
              "      <th>ZAR</th>\n",
              "      <th>INR</th>\n",
              "      <th>MXN</th>\n",
              "      <th>TRY</th>\n",
              "      <th>CNY</th>\n",
              "      <th>EUR</th>\n",
              "    </tr>\n",
              "    <tr>\n",
              "      <th>Date</th>\n",
              "      <th></th>\n",
              "      <th></th>\n",
              "      <th></th>\n",
              "      <th></th>\n",
              "      <th></th>\n",
              "      <th></th>\n",
              "      <th></th>\n",
              "      <th></th>\n",
              "      <th></th>\n",
              "      <th></th>\n",
              "      <th></th>\n",
              "      <th></th>\n",
              "    </tr>\n",
              "  </thead>\n",
              "  <tbody>\n",
              "    <tr>\n",
              "      <th>2015-02-10</th>\n",
              "      <td>2.7663</td>\n",
              "      <td>1.2822</td>\n",
              "      <td>1.24739</td>\n",
              "      <td>623.750000</td>\n",
              "      <td>2381.000000</td>\n",
              "      <td>1.3510</td>\n",
              "      <td>11.57460</td>\n",
              "      <td>62.130001</td>\n",
              "      <td>14.94595</td>\n",
              "      <td>2.47473</td>\n",
              "      <td>6.2388</td>\n",
              "      <td>0.88285</td>\n",
              "    </tr>\n",
              "    <tr>\n",
              "      <th>2015-02-11</th>\n",
              "      <td>2.8311</td>\n",
              "      <td>1.2847</td>\n",
              "      <td>1.25840</td>\n",
              "      <td>625.500000</td>\n",
              "      <td>2404.500000</td>\n",
              "      <td>1.3479</td>\n",
              "      <td>11.67961</td>\n",
              "      <td>62.341999</td>\n",
              "      <td>15.06900</td>\n",
              "      <td>2.49431</td>\n",
              "      <td>6.2318</td>\n",
              "      <td>0.88324</td>\n",
              "    </tr>\n",
              "    <tr>\n",
              "      <th>2015-02-12</th>\n",
              "      <td>2.8655</td>\n",
              "      <td>1.2949</td>\n",
              "      <td>1.26170</td>\n",
              "      <td>629.500000</td>\n",
              "      <td>2388.500000</td>\n",
              "      <td>1.3558</td>\n",
              "      <td>11.79740</td>\n",
              "      <td>62.382000</td>\n",
              "      <td>14.92300</td>\n",
              "      <td>2.49811</td>\n",
              "      <td>6.2323</td>\n",
              "      <td>0.88402</td>\n",
              "    </tr>\n",
              "    <tr>\n",
              "      <th>2015-02-13</th>\n",
              "      <td>2.8170</td>\n",
              "      <td>1.2892</td>\n",
              "      <td>1.25092</td>\n",
              "      <td>622.250000</td>\n",
              "      <td>2381.500000</td>\n",
              "      <td>1.3453</td>\n",
              "      <td>11.70423</td>\n",
              "      <td>62.169998</td>\n",
              "      <td>14.87748</td>\n",
              "      <td>2.46750</td>\n",
              "      <td>6.2345</td>\n",
              "      <td>0.87689</td>\n",
              "    </tr>\n",
              "    <tr>\n",
              "      <th>2015-02-16</th>\n",
              "      <td>2.8309</td>\n",
              "      <td>1.2877</td>\n",
              "      <td>1.24542</td>\n",
              "      <td>618.200012</td>\n",
              "      <td>2341.300049</td>\n",
              "      <td>1.3370</td>\n",
              "      <td>11.64480</td>\n",
              "      <td>62.069000</td>\n",
              "      <td>14.91509</td>\n",
              "      <td>2.45597</td>\n",
              "      <td>6.2303</td>\n",
              "      <td>0.87719</td>\n",
              "    </tr>\n",
              "    <tr>\n",
              "      <th>2015-02-17</th>\n",
              "      <td>2.8260</td>\n",
              "      <td>1.2892</td>\n",
              "      <td>1.24746</td>\n",
              "      <td>621.150024</td>\n",
              "      <td>24.150000</td>\n",
              "      <td>1.3360</td>\n",
              "      <td>11.63420</td>\n",
              "      <td>62.186001</td>\n",
              "      <td>14.90900</td>\n",
              "      <td>2.45486</td>\n",
              "      <td>6.2386</td>\n",
              "      <td>0.88230</td>\n",
              "    </tr>\n",
              "    <tr>\n",
              "      <th>2015-02-18</th>\n",
              "      <td>2.8257</td>\n",
              "      <td>1.2801</td>\n",
              "      <td>1.23908</td>\n",
              "      <td>619.250000</td>\n",
              "      <td>2431.000000</td>\n",
              "      <td>1.3264</td>\n",
              "      <td>11.67153</td>\n",
              "      <td>62.112000</td>\n",
              "      <td>14.86100</td>\n",
              "      <td>2.45150</td>\n",
              "      <td>6.2441</td>\n",
              "      <td>0.87683</td>\n",
              "    </tr>\n",
              "    <tr>\n",
              "      <th>2015-02-19</th>\n",
              "      <td>2.8340</td>\n",
              "      <td>1.2807</td>\n",
              "      <td>1.24550</td>\n",
              "      <td>619.099976</td>\n",
              "      <td>2438.000000</td>\n",
              "      <td>1.3243</td>\n",
              "      <td>11.58870</td>\n",
              "      <td>62.074001</td>\n",
              "      <td>15.00008</td>\n",
              "      <td>2.44331</td>\n",
              "      <td>6.2441</td>\n",
              "      <td>0.87719</td>\n",
              "    </tr>\n",
              "    <tr>\n",
              "      <th>2015-02-20</th>\n",
              "      <td>2.8633</td>\n",
              "      <td>1.2828</td>\n",
              "      <td>1.24903</td>\n",
              "      <td>618.299988</td>\n",
              "      <td>24.500000</td>\n",
              "      <td>1.3299</td>\n",
              "      <td>11.66740</td>\n",
              "      <td>62.165001</td>\n",
              "      <td>15.01766</td>\n",
              "      <td>2.45320</td>\n",
              "      <td>6.2441</td>\n",
              "      <td>0.87976</td>\n",
              "    </tr>\n",
              "  </tbody>\n",
              "</table>\n",
              "</div>\n",
              "      <button class=\"colab-df-convert\" onclick=\"convertToInteractive('df-4e8b9aa3-f115-4729-a3f5-52b8a20d7314')\"\n",
              "              title=\"Convert this dataframe to an interactive table.\"\n",
              "              style=\"display:none;\">\n",
              "        \n",
              "  <svg xmlns=\"http://www.w3.org/2000/svg\" height=\"24px\"viewBox=\"0 0 24 24\"\n",
              "       width=\"24px\">\n",
              "    <path d=\"M0 0h24v24H0V0z\" fill=\"none\"/>\n",
              "    <path d=\"M18.56 5.44l.94 2.06.94-2.06 2.06-.94-2.06-.94-.94-2.06-.94 2.06-2.06.94zm-11 1L8.5 8.5l.94-2.06 2.06-.94-2.06-.94L8.5 2.5l-.94 2.06-2.06.94zm10 10l.94 2.06.94-2.06 2.06-.94-2.06-.94-.94-2.06-.94 2.06-2.06.94z\"/><path d=\"M17.41 7.96l-1.37-1.37c-.4-.4-.92-.59-1.43-.59-.52 0-1.04.2-1.43.59L10.3 9.45l-7.72 7.72c-.78.78-.78 2.05 0 2.83L4 21.41c.39.39.9.59 1.41.59.51 0 1.02-.2 1.41-.59l7.78-7.78 2.81-2.81c.8-.78.8-2.07 0-2.86zM5.41 20L4 18.59l7.72-7.72 1.47 1.35L5.41 20z\"/>\n",
              "  </svg>\n",
              "      </button>\n",
              "      \n",
              "  <style>\n",
              "    .colab-df-container {\n",
              "      display:flex;\n",
              "      flex-wrap:wrap;\n",
              "      gap: 12px;\n",
              "    }\n",
              "\n",
              "    .colab-df-convert {\n",
              "      background-color: #E8F0FE;\n",
              "      border: none;\n",
              "      border-radius: 50%;\n",
              "      cursor: pointer;\n",
              "      display: none;\n",
              "      fill: #1967D2;\n",
              "      height: 32px;\n",
              "      padding: 0 0 0 0;\n",
              "      width: 32px;\n",
              "    }\n",
              "\n",
              "    .colab-df-convert:hover {\n",
              "      background-color: #E2EBFA;\n",
              "      box-shadow: 0px 1px 2px rgba(60, 64, 67, 0.3), 0px 1px 3px 1px rgba(60, 64, 67, 0.15);\n",
              "      fill: #174EA6;\n",
              "    }\n",
              "\n",
              "    [theme=dark] .colab-df-convert {\n",
              "      background-color: #3B4455;\n",
              "      fill: #D2E3FC;\n",
              "    }\n",
              "\n",
              "    [theme=dark] .colab-df-convert:hover {\n",
              "      background-color: #434B5C;\n",
              "      box-shadow: 0px 1px 3px 1px rgba(0, 0, 0, 0.15);\n",
              "      filter: drop-shadow(0px 1px 2px rgba(0, 0, 0, 0.3));\n",
              "      fill: #FFFFFF;\n",
              "    }\n",
              "  </style>\n",
              "\n",
              "      <script>\n",
              "        const buttonEl =\n",
              "          document.querySelector('#df-4e8b9aa3-f115-4729-a3f5-52b8a20d7314 button.colab-df-convert');\n",
              "        buttonEl.style.display =\n",
              "          google.colab.kernel.accessAllowed ? 'block' : 'none';\n",
              "\n",
              "        async function convertToInteractive(key) {\n",
              "          const element = document.querySelector('#df-4e8b9aa3-f115-4729-a3f5-52b8a20d7314');\n",
              "          const dataTable =\n",
              "            await google.colab.kernel.invokeFunction('convertToInteractive',\n",
              "                                                     [key], {});\n",
              "          if (!dataTable) return;\n",
              "\n",
              "          const docLinkHtml = 'Like what you see? Visit the ' +\n",
              "            '<a target=\"_blank\" href=https://colab.research.google.com/notebooks/data_table.ipynb>data table notebook</a>'\n",
              "            + ' to learn more about interactive tables.';\n",
              "          element.innerHTML = '';\n",
              "          dataTable['output_type'] = 'display_data';\n",
              "          await google.colab.output.renderOutput(dataTable, element);\n",
              "          const docLink = document.createElement('div');\n",
              "          docLink.innerHTML = docLinkHtml;\n",
              "          element.appendChild(docLink);\n",
              "        }\n",
              "      </script>\n",
              "    </div>\n",
              "  </div>\n",
              "  "
            ]
          },
          "metadata": {},
          "execution_count": 17
        }
      ]
    },
    {
      "cell_type": "code",
      "source": [
        "cesta  =pd.DataFrame()\n",
        "\n",
        "cesta['BRL'] = moedaspainelyf.BRL\n",
        "\n",
        "cesta['DXY'] = moedaspainelyf.DXY\n",
        "\n",
        "cesta['Pares'] = 0.35*(moedaspainelyf.AUD**0.1992) * (moedaspainelyf.CAD**0.2427)* ((moedaspainelyf.CLP / 100)**0.1964) * ((moedaspainelyf.COP / 1000)**0.3311) * (moedaspainelyf.NZD**0.1753) * (moedaspainelyf.ZAR**0.2049)* ((moedaspainelyf.INR / 10)**0.3427) * ((moedaspainelyf.MXN / 10)**0.2622)* (moedaspainelyf.TRY**0.0532)\n",
        "\n",
        "outline = 0.8*cesta['Pares'].shift(1)\n",
        "\n",
        "cesta['Pares'] = cesta.loc[cesta['Pares']> outline,'Pares'] \n",
        "\n",
        "cesta = cesta.dropna()\n"
      ],
      "metadata": {
        "id": "RmCzwO-ITaco"
      },
      "execution_count": 77,
      "outputs": []
    },
    {
      "cell_type": "code",
      "source": [
        "cesta[['BRL','Pares']].plot(figsize=(30,12))"
      ],
      "metadata": {
        "colab": {
          "base_uri": "https://localhost:8080/",
          "height": 678
        },
        "id": "HAT67jGNU45h",
        "outputId": "491021a7-9041-4612-b4d2-b7800cf4d325"
      },
      "execution_count": 82,
      "outputs": [
        {
          "output_type": "execute_result",
          "data": {
            "text/plain": [
              "<AxesSubplot:xlabel='Date'>"
            ]
          },
          "metadata": {},
          "execution_count": 82
        },
        {
          "output_type": "display_data",
          "data": {
            "text/plain": [
              "<Figure size 2160x864 with 1 Axes>"
            ],
            "image/png": "[encoded data removed]"
          },
          "metadata": {
            "needs_background": "light"
          }
        }
      ]
    },
    {
      "cell_type": "code",
      "source": [
        "DXY = yf.download('DX=F','2012-01-01', '2023-03-14').Close"
      ],
      "metadata": {
        "id": "ZF_f6vIEehwG"
      },
      "execution_count": null,
      "outputs": []
    },
    {
      "cell_type": "code",
      "source": [
        "DXY.plot()"
      ],
      "metadata": {
        "id": "FJIhlmr8eoF8"
      },
      "execution_count": null,
      "outputs": []
    },
    {
      "cell_type": "code",
      "source": [],
      "metadata": {
        "id": "ndgAB9ruevi1"
      },
      "execution_count": null,
      "outputs": []
    }
  ]
}